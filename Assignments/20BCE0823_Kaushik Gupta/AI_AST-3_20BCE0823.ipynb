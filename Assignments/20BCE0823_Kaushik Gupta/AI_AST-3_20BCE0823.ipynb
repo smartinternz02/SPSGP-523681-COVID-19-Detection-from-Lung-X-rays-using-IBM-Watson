{
  "nbformat": 4,
  "nbformat_minor": 0,
  "metadata": {
    "colab": {
      "provenance": [],
      "gpuType": "T4"
    },
    "kernelspec": {
      "name": "python3",
      "display_name": "Python 3"
    },
    "language_info": {
      "name": "python"
    },
    "accelerator": "GPU"
  },
  "cells": [
    {
      "cell_type": "markdown",
      "source": [
        "# Kaushik Gupta - 20BCE0823"
      ],
      "metadata": {
        "id": "6n-CRvyT6iC1"
      }
    },
    {
      "cell_type": "markdown",
      "source": [
        "Build a CNN model for Bird species\n",
        "\n",
        "Bird species classification is the process of using machine learning and computer vision techniques to identify and categorize different species of birds based \n",
        "on their visual characteristics. By analyzing images of birds, models can extract features and patterns to accurately classify bird species. This classification is \n",
        "vital for ecological research, wildlife monitoring, and conservation efforts. Advancements in deep learning and the availability of large annotated datasets have \n",
        "improved the accuracy of bird species classification models. Challenges include variations in lighting, pose, and background clutter. Ongoing research \n",
        "focuses on methods like transfer learning and data augmentation to enhance classification performance and contribute to avian biodiversity understanding \n",
        "and conservation.\n",
        "\n"
      ],
      "metadata": {
        "id": "tGg46X3y6mAA"
      }
    },
    {
      "cell_type": "code",
      "source": [
        "from google.colab import drive\n",
        "drive.mount('/content/drive')"
      ],
      "metadata": {
        "colab": {
          "base_uri": "https://localhost:8080/"
        },
        "id": "2qwPtADVXycM",
        "outputId": "62d1d2b3-d831-4ffc-9a46-eb821728d98b"
      },
      "execution_count": 1,
      "outputs": [
        {
          "output_type": "stream",
          "name": "stdout",
          "text": [
            "Mounted at /content/drive\n"
          ]
        }
      ]
    },
    {
      "cell_type": "code",
      "source": [
        "!unzip '/content/drive/MyDrive/SmartBridge AI/bird_cnn.zip'"
      ],
      "metadata": {
        "colab": {
          "base_uri": "https://localhost:8080/"
        },
        "id": "81wbAwI6X8XR",
        "outputId": "a37eef36-0a4c-4f34-9687-90e485635676"
      },
      "execution_count": 2,
      "outputs": [
        {
          "output_type": "stream",
          "name": "stdout",
          "text": [
            "Archive:  /content/drive/MyDrive/SmartBridge AI/bird_cnn.zip\n",
            "  inflating: test_data/test_data/blasti/DSC_6396.jpg  \n",
            "  inflating: test_data/test_data/blasti/DSC_6397.jpg  \n",
            "  inflating: test_data/test_data/blasti/DSC_6398.jpg  \n",
            "  inflating: test_data/test_data/blasti/DSC_6399.jpg  \n",
            "  inflating: test_data/test_data/blasti/DSC_6400.jpg  \n",
            "  inflating: test_data/test_data/blasti/DSC_6401.jpg  \n",
            "  inflating: test_data/test_data/blasti/DSC_6402.jpg  \n",
            "  inflating: test_data/test_data/blasti/DSC_6403.jpg  \n",
            "  inflating: test_data/test_data/blasti/DSC_6405.jpg  \n",
            "  inflating: test_data/test_data/blasti/DSC_6406.jpg  \n",
            "  inflating: test_data/test_data/blasti/DSC_6407.jpg  \n",
            "  inflating: test_data/test_data/blasti/DSC_6408.jpg  \n",
            "  inflating: test_data/test_data/blasti/DSC_6409.jpg  \n",
            "  inflating: test_data/test_data/blasti/DSC_6410.jpg  \n",
            "  inflating: test_data/test_data/blasti/DSC_6411.jpg  \n",
            "  inflating: test_data/test_data/bonegl/DSC_4587.jpg  \n",
            "  inflating: test_data/test_data/bonegl/DSC_4588.jpg  \n",
            "  inflating: test_data/test_data/bonegl/DSC_4589.jpg  \n",
            "  inflating: test_data/test_data/bonegl/DSC_4590.jpg  \n",
            "  inflating: test_data/test_data/bonegl/DSC_4591.jpg  \n",
            "  inflating: test_data/test_data/bonegl/DSC_4592.jpg  \n",
            "  inflating: test_data/test_data/bonegl/DSC_4593.jpg  \n",
            "  inflating: test_data/test_data/brhkyt/D72_0473.jpg  \n",
            "  inflating: test_data/test_data/brhkyt/D72_0474.jpg  \n",
            "  inflating: test_data/test_data/brhkyt/D72_0475.jpg  \n",
            "  inflating: test_data/test_data/brhkyt/D72_0477.jpg  \n",
            "  inflating: test_data/test_data/brhkyt/D72_0478.jpg  \n",
            "  inflating: test_data/test_data/brhkyt/D72_0479.jpg  \n",
            "  inflating: test_data/test_data/cbrtsh/_D32_10310.jpg  \n",
            "  inflating: test_data/test_data/cbrtsh/_D32_10311.jpg  \n",
            "  inflating: test_data/test_data/cbrtsh/_D32_10312.jpg  \n",
            "  inflating: test_data/test_data/cbrtsh/_D32_10313.jpg  \n",
            "  inflating: test_data/test_data/cbrtsh/_D32_10314.jpg  \n",
            "  inflating: test_data/test_data/cbrtsh/_D32_10317.jpg  \n",
            "  inflating: test_data/test_data/cbrtsh/_D32_10318.jpg  \n",
            "  inflating: test_data/test_data/cmnmyn/DSC_2443.jpg  \n",
            "  inflating: test_data/test_data/cmnmyn/DSC_4681.jpg  \n",
            "  inflating: test_data/test_data/cmnmyn/DSC_5137.jpg  \n",
            "  inflating: test_data/test_data/cmnmyn/DSC_7625.jpg  \n",
            "  inflating: test_data/test_data/cmnmyn/P1050277.jpg  \n",
            "  inflating: test_data/test_data/cmnmyn/_D32_12426.jpg  \n",
            "  inflating: test_data/test_data/cmnmyn/_D32_12427.jpg  \n",
            "  inflating: test_data/test_data/cmnmyn/_D32_12428.jpg  \n",
            "  inflating: test_data/test_data/gretit/11620454726_31a35c26da_o.jpg  \n",
            "  inflating: test_data/test_data/gretit/11776135285_ccf938fa2e_o.jpg  \n",
            "  inflating: test_data/test_data/gretit/11905645146_6a5d4ff9f9_o.jpg  \n",
            "  inflating: test_data/test_data/gretit/8537646712_0b282c4c6a_o.jpg  \n",
            "  inflating: test_data/test_data/gretit/D72_0693.jpg  \n",
            "  inflating: test_data/test_data/gretit/D72_0694.jpg  \n",
            "  inflating: test_data/test_data/gretit/D72_0695.jpg  \n",
            "  inflating: test_data/test_data/hilpig/DSC_6359.jpg  \n",
            "  inflating: test_data/test_data/hilpig/DSC_6362.jpg  \n",
            "  inflating: test_data/test_data/hilpig/DSC_6364.jpg  \n",
            "  inflating: test_data/test_data/hilpig/DSC_6368.jpg  \n",
            "  inflating: test_data/test_data/hilpig/DSC_6403.jpg  \n",
            "  inflating: test_data/test_data/hilpig/DSC_6404.jpg  \n",
            "  inflating: test_data/test_data/hilpig/P1000319.jpg  \n",
            "  inflating: test_data/test_data/hilpig/P1000323.jpg  \n",
            "  inflating: test_data/test_data/hilpig/P1050044.jpg  \n",
            "  inflating: test_data/test_data/hilpig/P1050045.jpg  \n",
            "  inflating: test_data/test_data/himbul/11602064885_3826df4500_o.jpg  \n",
            "  inflating: test_data/test_data/himbul/11619942574_42f23a7b05_o.jpg  \n",
            "  inflating: test_data/test_data/himbul/11620097904_33fa8ee878_o.jpg  \n",
            "  inflating: test_data/test_data/himbul/5857371972_ed4f88b275_o.jpg  \n",
            "  inflating: test_data/test_data/himbul/6154954471_eefe6e00d1_o.jpg  \n",
            "  inflating: test_data/test_data/himbul/D72_0688.jpg  \n",
            "  inflating: test_data/test_data/himbul/D72_0691.jpg  \n",
            "  inflating: test_data/test_data/himbul/DSC08357.jpg  \n",
            "  inflating: test_data/test_data/himbul/DSC_3230.jpg  \n",
            "  inflating: test_data/test_data/himbul/DSC_7439.jpg  \n",
            "  inflating: test_data/test_data/himbul/DSC_7602.jpg  \n",
            "  inflating: test_data/test_data/himbul/P1060368.jpg  \n",
            "  inflating: test_data/test_data/himbul/P1060369.jpg  \n",
            "  inflating: test_data/test_data/himbul/_D32_10242.jpg  \n",
            "  inflating: test_data/test_data/himbul/_D32_10245.jpg  \n",
            "  inflating: test_data/test_data/himbul/_D32_10251.jpg  \n",
            "  inflating: test_data/test_data/himbul/_D32_10319.jpg  \n",
            "  inflating: test_data/test_data/himbul/_D32_10320.jpg  \n",
            "  inflating: test_data/test_data/himbul/_DSC9446.jpg  \n",
            "  inflating: test_data/test_data/himgri/IMG_5384.JPG  \n",
            "  inflating: test_data/test_data/himgri/IMG_5385.JPG  \n",
            "  inflating: test_data/test_data/himgri/IMG_5386.JPG  \n",
            "  inflating: test_data/test_data/himgri/IMG_5387.JPG  \n",
            "  inflating: test_data/test_data/himgri/IMG_5459.JPG  \n",
            "  inflating: test_data/test_data/himgri/IMG_5460.JPG  \n",
            "  inflating: test_data/test_data/himgri/IMG_5487.JPG  \n",
            "  inflating: test_data/test_data/himgri/IMG_5488.JPG  \n",
            "  inflating: test_data/test_data/himgri/IMG_5489.JPG  \n",
            "  inflating: test_data/test_data/himgri/IMG_5490.JPG  \n",
            "  inflating: test_data/test_data/himgri/IMG_5491.JPG  \n",
            "  inflating: test_data/test_data/himgri/IMG_5492.JPG  \n",
            "  inflating: test_data/test_data/himgri/P1020742.jpg  \n",
            "  inflating: test_data/test_data/himgri/P1020743.jpg  \n",
            "  inflating: test_data/test_data/himgri/P1020746.jpg  \n",
            "  inflating: test_data/test_data/himgri/P1020748.jpg  \n",
            "  inflating: test_data/test_data/himgri/P1030055.jpg  \n",
            "  inflating: test_data/test_data/himgri/P1060776.jpg  \n",
            "  inflating: test_data/test_data/himgri/P1060777.jpg  \n",
            "  inflating: test_data/test_data/himgri/P1060778.jpg  \n",
            "  inflating: test_data/test_data/hsparo/100_5573.JPG  \n",
            "  inflating: test_data/test_data/hsparo/100_5585.JPG  \n",
            "  inflating: test_data/test_data/hsparo/100_5586.JPG  \n",
            "  inflating: test_data/test_data/hsparo/100_5742.JPG  \n",
            "  inflating: test_data/test_data/hsparo/12265273154_48e0fefd42_o.jpg  \n",
            "  inflating: test_data/test_data/hsparo/DSC_4521.jpg  \n",
            "  inflating: test_data/test_data/hsparo/DSC_7619.jpg  \n",
            "  inflating: test_data/test_data/hsparo/_DSC_11244.jpg  \n",
            "  inflating: test_data/test_data/hsparo/_DSC_11246.jpg  \n",
            "  inflating: test_data/test_data/indvul/DSC_1263.jpg  \n",
            "  inflating: test_data/test_data/indvul/DSC_1273.jpg  \n",
            "  inflating: test_data/test_data/indvul/DSC_1274.jpg  \n",
            "  inflating: test_data/test_data/indvul/DSC_1275.jpg  \n",
            "  inflating: test_data/test_data/indvul/DSC_1277.jpg  \n",
            "  inflating: test_data/test_data/indvul/_DSC8754.jpg  \n",
            "  inflating: test_data/test_data/indvul/_DSC9520.jpg  \n",
            "  inflating: test_data/test_data/indvul/_DSC9521.jpg  \n",
            "  inflating: test_data/test_data/indvul/_DSC9523.jpg  \n",
            "  inflating: test_data/test_data/jglowl/_D32_10584.jpg  \n",
            "  inflating: test_data/test_data/jglowl/_D32_10587.jpg  \n",
            "  inflating: test_data/test_data/jglowl/_D32_10593.jpg  \n",
            "  inflating: test_data/test_data/jglowl/_D32_13515.jpg  \n",
            "  inflating: test_data/test_data/jglowl/_D32_13516.jpg  \n",
            "  inflating: test_data/test_data/jglowl/_D32_13517.jpg  \n",
            "  inflating: test_data/test_data/lbicrw/100_4917.JPG  \n",
            "  inflating: test_data/test_data/lbicrw/IMG_5538.JPG  \n",
            "  inflating: test_data/test_data/lbicrw/IMG_5541.JPG  \n",
            "  inflating: test_data/test_data/lbicrw/IMG_5543.JPG  \n",
            "  inflating: test_data/test_data/lbicrw/IMG_5544.JPG  \n",
            "  inflating: test_data/test_data/lbicrw/P1030030.jpg  \n",
            "  inflating: test_data/test_data/mgprob/100_5811.JPG  \n",
            "  inflating: test_data/test_data/mgprob/100_5812.JPG  \n",
            "  inflating: test_data/test_data/mgprob/100_5813.JPG  \n",
            "  inflating: test_data/test_data/mgprob/DSC_3233.jpg  \n",
            "  inflating: test_data/test_data/mgprob/_DSC0085.jpg  \n",
            "  inflating: test_data/test_data/mgprob/_DSC0133.jpg  \n",
            "  inflating: test_data/test_data/mgprob/_DSC0135.jpg  \n",
            "  inflating: test_data/test_data/rebimg/100_5756.JPG  \n",
            "  inflating: test_data/test_data/rebimg/100_5757.JPG  \n",
            "  inflating: test_data/test_data/rebimg/100_5758.JPG  \n",
            "  inflating: test_data/test_data/rebimg/100_5759.JPG  \n",
            "  inflating: test_data/test_data/rebimg/100_5760.JPG  \n",
            "  inflating: test_data/test_data/rebimg/13009302395_5d88a9d62b_o.jpg  \n",
            "  inflating: test_data/test_data/rebimg/13009315305_f1cbfb6767_o.jpg  \n",
            "  inflating: test_data/test_data/rebimg/13009451823_8eb502581f_o.jpg  \n",
            "  inflating: test_data/test_data/rebimg/DSC_7148.jpg  \n",
            "  inflating: test_data/test_data/rebimg/IMG_5251.JPG  \n",
            "  inflating: test_data/test_data/rebimg/IMG_5252.JPG  \n",
            "  inflating: test_data/test_data/wcrsrt/100_4462.JPG  \n",
            "  inflating: test_data/test_data/wcrsrt/100_4463.JPG  \n",
            "  inflating: test_data/test_data/wcrsrt/100_4464.JPG  \n",
            "  inflating: test_data/test_data/wcrsrt/100_4466.JPG  \n",
            "  inflating: test_data/test_data/wcrsrt/100_4467.JPG  \n",
            "  inflating: test_data/test_data/wcrsrt/100_4468.JPG  \n",
            "  inflating: test_data/test_data/wcrsrt/100_5103.JPG  \n",
            "  inflating: test_data/test_data/wcrsrt/100_5105.JPG  \n",
            "  inflating: test_data/test_data/wcrsrt/11382677585_ef6570a041_o.jpg  \n",
            "  inflating: test_data/test_data/wcrsrt/11382746854_7ce73793b3_o.jpg  \n",
            "  inflating: train_data/train_data/blasti/DSC_6382.jpg  \n",
            "  inflating: train_data/train_data/blasti/DSC_6383.jpg  \n",
            "  inflating: train_data/train_data/blasti/DSC_6384-2.jpg  \n",
            "  inflating: train_data/train_data/blasti/DSC_6384.jpg  \n",
            "  inflating: train_data/train_data/blasti/DSC_6385.jpg  \n",
            "  inflating: train_data/train_data/blasti/DSC_6386.jpg  \n",
            "  inflating: train_data/train_data/blasti/DSC_6387.jpg  \n",
            "  inflating: train_data/train_data/blasti/DSC_6388.jpg  \n",
            "  inflating: train_data/train_data/blasti/DSC_6389.jpg  \n",
            "  inflating: train_data/train_data/blasti/DSC_6390.jpg  \n",
            "  inflating: train_data/train_data/blasti/DSC_6391.jpg  \n",
            "  inflating: train_data/train_data/blasti/DSC_6392.jpg  \n",
            "  inflating: train_data/train_data/blasti/DSC_6393.jpg  \n",
            "  inflating: train_data/train_data/blasti/DSC_6394.jpg  \n",
            "  inflating: train_data/train_data/blasti/DSC_6395.jpg  \n",
            "  inflating: train_data/train_data/bonegl/DSC_4570.jpg  \n",
            "  inflating: train_data/train_data/bonegl/DSC_4571.jpg  \n",
            "  inflating: train_data/train_data/bonegl/DSC_4583.jpg  \n",
            "  inflating: train_data/train_data/bonegl/DSC_4584.jpg  \n",
            "  inflating: train_data/train_data/bonegl/DSC_4585.jpg  \n",
            "  inflating: train_data/train_data/bonegl/DSC_4586.jpg  \n",
            "  inflating: train_data/train_data/brhkyt/D72_0400.jpg  \n",
            "  inflating: train_data/train_data/brhkyt/D72_0401.jpg  \n",
            "  inflating: train_data/train_data/brhkyt/D72_0470.jpg  \n",
            "  inflating: train_data/train_data/brhkyt/D72_0471.jpg  \n",
            "  inflating: train_data/train_data/brhkyt/D72_0472.jpg  \n",
            "  inflating: train_data/train_data/cbrtsh/100_5097.JPG  \n",
            "  inflating: train_data/train_data/cbrtsh/_D32_10303.jpg  \n",
            "  inflating: train_data/train_data/cbrtsh/_D32_10305.jpg  \n",
            "  inflating: train_data/train_data/cbrtsh/_D32_10306.jpg  \n",
            "  inflating: train_data/train_data/cbrtsh/_D32_10307.jpg  \n",
            "  inflating: train_data/train_data/cbrtsh/_D32_10308.jpg  \n",
            "  inflating: train_data/train_data/cbrtsh/_D32_10309.jpg  \n",
            "  inflating: train_data/train_data/cmnmyn/100_5763.JPG  \n",
            "  inflating: train_data/train_data/cmnmyn/5866682091_870ccc946c_o.jpg  \n",
            "  inflating: train_data/train_data/cmnmyn/6154956165_64266b8b53_o.jpg  \n",
            "  inflating: train_data/train_data/cmnmyn/DSCN5784.jpg  \n",
            "  inflating: train_data/train_data/cmnmyn/DSCN5787.jpg  \n",
            "  inflating: train_data/train_data/cmnmyn/DSCN5790.jpg  \n",
            "  inflating: train_data/train_data/cmnmyn/DSCN5791.jpg  \n",
            "  inflating: train_data/train_data/gretit/100_5042.JPG  \n",
            "  inflating: train_data/train_data/gretit/100_5043.JPG  \n",
            "  inflating: train_data/train_data/gretit/100_5044.JPG  \n",
            "  inflating: train_data/train_data/gretit/100_5045.JPG  \n",
            "  inflating: train_data/train_data/gretit/100_5046.JPG  \n",
            "  inflating: train_data/train_data/gretit/100_5047.JPG  \n",
            "  inflating: train_data/train_data/hilpig/DSC_6272.jpg  \n",
            "  inflating: train_data/train_data/hilpig/DSC_6273.jpg  \n",
            "  inflating: train_data/train_data/hilpig/DSC_6274.jpg  \n",
            "  inflating: train_data/train_data/hilpig/DSC_6275.jpg  \n",
            "  inflating: train_data/train_data/hilpig/DSC_6350.jpg  \n",
            "  inflating: train_data/train_data/hilpig/DSC_6351.jpg  \n",
            "  inflating: train_data/train_data/hilpig/DSC_6352.jpg  \n",
            "  inflating: train_data/train_data/hilpig/DSC_6353.jpg  \n",
            "  inflating: train_data/train_data/hilpig/DSC_6354.jpg  \n",
            "  inflating: train_data/train_data/hilpig/DSC_6358.jpg  \n",
            "  inflating: train_data/train_data/himbul/100_5028.JPG  \n",
            "  inflating: train_data/train_data/himbul/100_5029.JPG  \n",
            "  inflating: train_data/train_data/himbul/100_5096.JPG  \n",
            "  inflating: train_data/train_data/himbul/100_5099.JPG  \n",
            "  inflating: train_data/train_data/himbul/100_5100.JPG  \n",
            "  inflating: train_data/train_data/himbul/100_5102.JPG  \n",
            "  inflating: train_data/train_data/himbul/100_5110.JPG  \n",
            "  inflating: train_data/train_data/himbul/100_5112.JPG  \n",
            "  inflating: train_data/train_data/himbul/100_5113.JPG  \n",
            "  inflating: train_data/train_data/himbul/100_5159.JPG  \n",
            "  inflating: train_data/train_data/himbul/100_5160.JPG  \n",
            "  inflating: train_data/train_data/himbul/100_5161.JPG  \n",
            "  inflating: train_data/train_data/himbul/100_5162.JPG  \n",
            "  inflating: train_data/train_data/himbul/10774570945_9bc537c255_o.jpg  \n",
            "  inflating: train_data/train_data/himbul/11383838134_96e891a316_o.jpg  \n",
            "  inflating: train_data/train_data/himbul/11383857084_cdd7514746_o.jpg  \n",
            "  inflating: train_data/train_data/himbul/11387473723_464965720a_o.jpg  \n",
            "  inflating: train_data/train_data/himbul/9007817678_24db19fc63_o.jpg  \n",
            "  inflating: train_data/train_data/himgri/12029790563_2fe54a68aa_o.jpg  \n",
            "  inflating: train_data/train_data/himgri/12029822653_1185544e7b_o.jpg  \n",
            "  inflating: train_data/train_data/himgri/12029933015_802428e277_o.jpg  \n",
            "  inflating: train_data/train_data/himgri/12029987304_031b7a2d53_o.jpg  \n",
            "  inflating: train_data/train_data/himgri/12030165813_f5341e8ed0_o.jpg  \n",
            "  inflating: train_data/train_data/himgri/12030221124_1baaf905d1_o.jpg  \n",
            "  inflating: train_data/train_data/himgri/12030269234_1c3f5a8e8c_o.jpg  \n",
            "  inflating: train_data/train_data/himgri/12152037683_13e1556c41_o.jpg  \n",
            "  inflating: train_data/train_data/himgri/12152178844_dc29e3126f_o.jpg  \n",
            "  inflating: train_data/train_data/himgri/12152510436_23b62fed3b_o.jpg  \n",
            "  inflating: train_data/train_data/himgri/12265055185_138e3c7c70_o.jpg  \n",
            "  inflating: train_data/train_data/himgri/12265498144_d2e80faa3b_o.jpg  \n",
            "  inflating: train_data/train_data/himgri/12265561764_4814951031_o.jpg  \n",
            "  inflating: train_data/train_data/himgri/12265582724_61cb64e73a_o.jpg  \n",
            "  inflating: train_data/train_data/himgri/12265738206_2b9b25cc8a_o.jpg  \n",
            "  inflating: train_data/train_data/himgri/12265747116_d4b4fa3741_o.jpg  \n",
            "  inflating: train_data/train_data/himgri/12266053036_fcab92d8e8_o.jpg  \n",
            "  inflating: train_data/train_data/himgri/12266077576_1d7143aaf7_o.jpg  \n",
            "  inflating: train_data/train_data/himgri/12266086526_82cd337667_o.jpg  \n",
            "  inflating: train_data/train_data/himgri/IMG_5463.JPG  \n",
            "  inflating: train_data/train_data/hsparo/100_4757.JPG  \n",
            "  inflating: train_data/train_data/hsparo/100_4758.JPG  \n",
            "  inflating: train_data/train_data/hsparo/100_5039.JPG  \n",
            "  inflating: train_data/train_data/hsparo/100_5040.JPG  \n",
            "  inflating: train_data/train_data/hsparo/100_5041.JPG  \n",
            "  inflating: train_data/train_data/hsparo/100_5048.JPG  \n",
            "  inflating: train_data/train_data/hsparo/100_5049.JPG  \n",
            "  inflating: train_data/train_data/hsparo/100_5050.JPG  \n",
            "  inflating: train_data/train_data/hsparo/100_5572.JPG  \n",
            "  inflating: train_data/train_data/indvul/DSC_0502.jpg  \n",
            "  inflating: train_data/train_data/indvul/DSC_0571e.jpg  \n",
            "  inflating: train_data/train_data/indvul/DSC_0572.jpg  \n",
            "  inflating: train_data/train_data/indvul/DSC_0576e.jpg  \n",
            "  inflating: train_data/train_data/indvul/DSC_0582.jpg  \n",
            "  inflating: train_data/train_data/indvul/DSC_0583e.jpg  \n",
            "  inflating: train_data/train_data/indvul/DSC_0584.jpg  \n",
            "  inflating: train_data/train_data/indvul/DSC_0616c.jpg  \n",
            "  inflating: train_data/train_data/indvul/DSC_0617.jpg  \n",
            "  inflating: train_data/train_data/jglowl/12152151476_7a1524aabb_o.jpg  \n",
            "  inflating: train_data/train_data/jglowl/DSC01335.jpg  \n",
            "  inflating: train_data/train_data/jglowl/DSC01336.jpg  \n",
            "  inflating: train_data/train_data/jglowl/_D32_10285.jpg  \n",
            "  inflating: train_data/train_data/jglowl/_D32_10578.jpg  \n",
            "  inflating: train_data/train_data/jglowl/_D32_10583.jpg  \n",
            "  inflating: train_data/train_data/lbicrw/100_4037.JPG  \n",
            "  inflating: train_data/train_data/lbicrw/100_4912.JPG  \n",
            "  inflating: train_data/train_data/lbicrw/100_4913.JPG  \n",
            "  inflating: train_data/train_data/lbicrw/100_4914.JPG  \n",
            "  inflating: train_data/train_data/lbicrw/100_4915.JPG  \n",
            "  inflating: train_data/train_data/lbicrw/100_4916.JPG  \n",
            "  inflating: train_data/train_data/mgprob/100_5587.JPG  \n",
            "  inflating: train_data/train_data/mgprob/100_5588.JPG  \n",
            "  inflating: train_data/train_data/mgprob/100_5589.JPG  \n",
            "  inflating: train_data/train_data/mgprob/100_5590.JPG  \n",
            "  inflating: train_data/train_data/mgprob/100_5592.JPG  \n",
            "  inflating: train_data/train_data/mgprob/100_5762.JPG  \n",
            "  inflating: train_data/train_data/rebimg/100_5744.JPG  \n",
            "  inflating: train_data/train_data/rebimg/100_5745.JPG  \n",
            "  inflating: train_data/train_data/rebimg/100_5746.JPG  \n",
            "  inflating: train_data/train_data/rebimg/100_5748.JPG  \n",
            "  inflating: train_data/train_data/rebimg/100_5749.JPG  \n",
            "  inflating: train_data/train_data/rebimg/100_5750.JPG  \n",
            "  inflating: train_data/train_data/rebimg/100_5751.JPG  \n",
            "  inflating: train_data/train_data/rebimg/100_5752.JPG  \n",
            "  inflating: train_data/train_data/rebimg/100_5754.JPG  \n",
            "  inflating: train_data/train_data/rebimg/100_5755.JPG  \n",
            "  inflating: train_data/train_data/wcrsrt/100_4452.JPG  \n",
            "  inflating: train_data/train_data/wcrsrt/100_4453.JPG  \n",
            "  inflating: train_data/train_data/wcrsrt/100_4454.JPG  \n",
            "  inflating: train_data/train_data/wcrsrt/100_4455.JPG  \n",
            "  inflating: train_data/train_data/wcrsrt/100_4456.JPG  \n",
            "  inflating: train_data/train_data/wcrsrt/100_4457.JPG  \n",
            "  inflating: train_data/train_data/wcrsrt/100_4458.JPG  \n",
            "  inflating: train_data/train_data/wcrsrt/100_4459.JPG  \n",
            "  inflating: train_data/train_data/wcrsrt/100_4460.JPG  \n",
            "  inflating: train_data/train_data/wcrsrt/100_4461.JPG  \n"
          ]
        }
      ]
    },
    {
      "cell_type": "code",
      "source": [
        "train_path = '/content/train_data/train_data'\n",
        "test_path = '/content/test_data/test_data'"
      ],
      "metadata": {
        "id": "iSoKtxyWexxX"
      },
      "execution_count": 3,
      "outputs": []
    },
    {
      "cell_type": "code",
      "source": [
        "# Data Augmentation\n",
        "from tensorflow.keras.models import Model\n",
        "from tensorflow.keras.preprocessing.image import ImageDataGenerator"
      ],
      "metadata": {
        "id": "7CMQtRErmkmZ"
      },
      "execution_count": 4,
      "outputs": []
    },
    {
      "cell_type": "code",
      "source": [
        "train_gen = ImageDataGenerator(rescale=(1./255),horizontal_flip=True,shear_range=0.2)\n",
        "test_gen = ImageDataGenerator(rescale=(1./255))  #--> (0 to 255) convert to (0 to 1)"
      ],
      "metadata": {
        "id": "yXbKcbcTm-Mv"
      },
      "execution_count": 5,
      "outputs": []
    },
    {
      "cell_type": "code",
      "source": [
        "train = train_gen.flow_from_directory('/content/train_data/train_data',\n",
        "                                      target_size=(120, 120),\n",
        "                                      class_mode='categorical', \n",
        "                                      batch_size=8)\n",
        "test = test_gen.flow_from_directory('/content/test_data/test_data',\n",
        "                                    target_size=(120, 120),\n",
        "                                      class_mode='categorical', \n",
        "                                      batch_size=8)"
      ],
      "metadata": {
        "id": "r4M3RSdanFVY",
        "colab": {
          "base_uri": "https://localhost:8080/"
        },
        "outputId": "501349fc-4e81-469b-b3c2-758547212acd"
      },
      "execution_count": 6,
      "outputs": [
        {
          "output_type": "stream",
          "name": "stdout",
          "text": [
            "Found 150 images belonging to 16 classes.\n",
            "Found 157 images belonging to 16 classes.\n"
          ]
        }
      ]
    },
    {
      "cell_type": "code",
      "source": [
        "train.class_indices"
      ],
      "metadata": {
        "colab": {
          "base_uri": "https://localhost:8080/"
        },
        "id": "CbxmBHFCuNPR",
        "outputId": "c9484365-8558-44d0-d2ad-567ff9b6027c"
      },
      "execution_count": 7,
      "outputs": [
        {
          "output_type": "execute_result",
          "data": {
            "text/plain": [
              "{'blasti': 0,\n",
              " 'bonegl': 1,\n",
              " 'brhkyt': 2,\n",
              " 'cbrtsh': 3,\n",
              " 'cmnmyn': 4,\n",
              " 'gretit': 5,\n",
              " 'hilpig': 6,\n",
              " 'himbul': 7,\n",
              " 'himgri': 8,\n",
              " 'hsparo': 9,\n",
              " 'indvul': 10,\n",
              " 'jglowl': 11,\n",
              " 'lbicrw': 12,\n",
              " 'mgprob': 13,\n",
              " 'rebimg': 14,\n",
              " 'wcrsrt': 15}"
            ]
          },
          "metadata": {},
          "execution_count": 7
        }
      ]
    },
    {
      "cell_type": "code",
      "source": [
        "# CNN\n",
        "\n",
        "from tensorflow.keras.layers import Convolution2D,MaxPooling2D,Flatten,Dense\n",
        "from tensorflow.keras.models import Sequential\n",
        "from keras.models import Sequential"
      ],
      "metadata": {
        "id": "DpGokzzLuSn4"
      },
      "execution_count": 8,
      "outputs": []
    },
    {
      "cell_type": "code",
      "source": [
        "model = Sequential()\n",
        "model.add(Convolution2D(20,(3,3), activation='relu', input_shape = (120, 120, 3)))\n",
        "model.add(MaxPooling2D(pool_size=(2,2)))\n",
        "model.add(Flatten())\n",
        "model.add(Dense(45, activation='relu'))\n",
        "model.add(Dense(16, activation='softmax'))"
      ],
      "metadata": {
        "id": "3tlMi7cmuW4W"
      },
      "execution_count": 9,
      "outputs": []
    },
    {
      "cell_type": "code",
      "source": [
        "model.compile(optimizer='adam', loss='categorical_crossentropy', metrics=['accuracy'])"
      ],
      "metadata": {
        "id": "9e-ZTaJSugtw"
      },
      "execution_count": 10,
      "outputs": []
    },
    {
      "cell_type": "code",
      "source": [
        "model.fit(train,batch_size=8,validation_data=test,epochs=10)"
      ],
      "metadata": {
        "colab": {
          "base_uri": "https://localhost:8080/"
        },
        "id": "syQcBa6aLNfG",
        "outputId": "9115b43f-9d45-4d06-c8f5-00d77e511ce7"
      },
      "execution_count": null,
      "outputs": [
        {
          "output_type": "stream",
          "name": "stdout",
          "text": [
            "Epoch 1/10\n",
            "19/19 [==============================] - 100s 5s/step - loss: 4.0033 - accuracy: 0.1267 - val_loss: 2.9074 - val_accuracy: 0.0573\n",
            "Epoch 2/10\n",
            "19/19 [==============================] - 87s 5s/step - loss: 2.4504 - accuracy: 0.2733 - val_loss: 2.6732 - val_accuracy: 0.1401\n",
            "Epoch 3/10\n",
            "19/19 [==============================] - 87s 5s/step - loss: 2.2532 - accuracy: 0.3467 - val_loss: 2.7165 - val_accuracy: 0.1592\n",
            "Epoch 4/10\n",
            "19/19 [==============================] - 87s 5s/step - loss: 1.9632 - accuracy: 0.4267 - val_loss: 2.7291 - val_accuracy: 0.1656\n",
            "Epoch 5/10\n",
            "19/19 [==============================] - 86s 5s/step - loss: 1.7655 - accuracy: 0.5000 - val_loss: 2.7856 - val_accuracy: 0.1401\n",
            "Epoch 6/10\n",
            "19/19 [==============================] - 86s 5s/step - loss: 1.4751 - accuracy: 0.5533 - val_loss: 2.7376 - val_accuracy: 0.2548\n",
            "Epoch 7/10\n",
            "19/19 [==============================] - 119s 7s/step - loss: 1.2748 - accuracy: 0.6267 - val_loss: 2.9426 - val_accuracy: 0.1592\n",
            "Epoch 8/10\n",
            "19/19 [==============================] - 119s 7s/step - loss: 1.0165 - accuracy: 0.7600 - val_loss: 3.0539 - val_accuracy: 0.2293\n",
            "Epoch 9/10\n",
            "19/19 [==============================] - 85s 5s/step - loss: 0.8562 - accuracy: 0.7533 - val_loss: 3.5635 - val_accuracy: 0.2293\n",
            "Epoch 10/10\n",
            "19/19 [==============================] - 87s 5s/step - loss: 0.7393 - accuracy: 0.7867 - val_loss: 3.2870 - val_accuracy: 0.2739\n"
          ]
        },
        {
          "output_type": "execute_result",
          "data": {
            "text/plain": [
              "<keras.callbacks.History at 0x7f61b97eb7f0>"
            ]
          },
          "metadata": {},
          "execution_count": 12
        }
      ]
    },
    {
      "cell_type": "code",
      "source": [
        "model.save('birdWeights1.h5')"
      ],
      "metadata": {
        "id": "Oku9pxoYQWjn"
      },
      "execution_count": 11,
      "outputs": []
    },
    {
      "cell_type": "code",
      "source": [
        "# Testing\n",
        "\n",
        "import numpy as np\n",
        "from tensorflow.keras.preprocessing import image"
      ],
      "metadata": {
        "id": "v6iHVthJQfMu"
      },
      "execution_count": null,
      "outputs": []
    },
    {
      "cell_type": "code",
      "source": [
        "# Testing 1\n",
        "img1 = image.load_img('/content/bird1.jpeg',target_size=(120,120))\n",
        "img1 = image.img_to_array(img1)\n",
        "img1 = np.expand_dims(img1,axis=0)\n",
        "pred = np.argmax(model.predict(img1))\n",
        "print(pred)\n",
        "output = ['blasti','bonegl','brhkyt','cbrtsh','cmnmyn','gretit','hilpig',\n",
        "          'himbul','himgri','hsparo','indvul','jglowl','lbicrw','mgprob',\n",
        "          'rebimg','wcrsrt']\n",
        "print(output[pred])"
      ],
      "metadata": {
        "colab": {
          "base_uri": "https://localhost:8080/"
        },
        "id": "MX6p0aPAShQQ",
        "outputId": "bd2035d3-5ad4-426f-8d8b-9d7ad96b3c16"
      },
      "execution_count": null,
      "outputs": [
        {
          "output_type": "stream",
          "name": "stdout",
          "text": [
            "1/1 [==============================] - 0s 139ms/step\n",
            "8\n",
            "himgri\n"
          ]
        }
      ]
    },
    {
      "cell_type": "code",
      "source": [
        "# Testing 2\n",
        "img2 = image.load_img('/content/bird2.jpeg',target_size=(120,120))\n",
        "img2 = image.img_to_array(img2)\n",
        "img2 = np.expand_dims(img2,axis=0)\n",
        "pred = np.argmax(model.predict(img2))\n",
        "print(pred)\n",
        "output = ['blasti','bonegl','brhkyt','cbrtsh','cmnmyn','gretit','hilpig',\n",
        "          'himbul','himgri','hsparo','indvul','jglowl','lbicrw','mgprob',\n",
        "          'rebimg','wcrsrt']\n",
        "print(output[pred])"
      ],
      "metadata": {
        "colab": {
          "base_uri": "https://localhost:8080/"
        },
        "id": "wZJfMwLgTGFK",
        "outputId": "dc2272ad-53d5-4bf1-a95d-18b39cae611e"
      },
      "execution_count": null,
      "outputs": [
        {
          "output_type": "stream",
          "name": "stdout",
          "text": [
            "1/1 [==============================] - 0s 19ms/step\n",
            "8\n",
            "himgri\n"
          ]
        }
      ]
    },
    {
      "cell_type": "markdown",
      "source": [
        "# Model tuning (Adding feature extraction layers)"
      ],
      "metadata": {
        "id": "i1WQzAY-V8SC"
      }
    },
    {
      "cell_type": "code",
      "source": [
        "# model = Sequential()\n",
        "# model.add(Convolution2D(20,(3,3),activation='relu', input_shape=(120, 120, 3)))\n",
        "# model.add(MaxPooling2D(pool_size=(2,2)))\n",
        "# model.add(Convolution2D(30,(3,3),activation='relu'))\n",
        "# model.add(MaxPooling2D(pool_size=(2,2)))\n",
        "# model.add(Convolution2D(40,(3,3),activation='relu'))\n",
        "# model.add(MaxPooling2D(pool_size=(2,2)))\n",
        "# model.add(Flatten())\n",
        "# model.add(Dense(64,activation='relu'))\n",
        "# model.add(Dense(32,activation='relu'))\n",
        "# model.add(Dense(32,activation='relu'))\n",
        "# model.add(Dense(16,activation='softmax'))\n",
        "\n",
        "model = Sequential()\n",
        "model.add(Convolution2D(32, (3, 3), activation='relu', input_shape=(120, 120, 3)))\n",
        "model.add(MaxPooling2D(pool_size=(2, 2)))\n",
        "model.add(Convolution2D(64, (3, 3), activation='relu'))\n",
        "model.add(MaxPooling2D(pool_size=(2, 2)))\n",
        "model.add(Convolution2D(128, (3, 3), activation='relu'))\n",
        "model.add(MaxPooling2D(pool_size=(2, 2)))\n",
        "model.add(Flatten())\n",
        "model.add(Dense(512, activation='relu'))\n",
        "model.add(Dense(16, activation='softmax'))"
      ],
      "metadata": {
        "id": "ut8SUAh9V-j-"
      },
      "execution_count": 12,
      "outputs": []
    },
    {
      "cell_type": "code",
      "source": [
        "model.summary()"
      ],
      "metadata": {
        "colab": {
          "base_uri": "https://localhost:8080/"
        },
        "id": "eNTRyIxbWqQl",
        "outputId": "41389b2c-f4c5-4fe3-b75d-6f52d0b60e4c"
      },
      "execution_count": 13,
      "outputs": [
        {
          "output_type": "stream",
          "name": "stdout",
          "text": [
            "Model: \"sequential_1\"\n",
            "_________________________________________________________________\n",
            " Layer (type)                Output Shape              Param #   \n",
            "=================================================================\n",
            " conv2d_1 (Conv2D)           (None, 118, 118, 32)      896       \n",
            "                                                                 \n",
            " max_pooling2d_1 (MaxPooling  (None, 59, 59, 32)       0         \n",
            " 2D)                                                             \n",
            "                                                                 \n",
            " conv2d_2 (Conv2D)           (None, 57, 57, 64)        18496     \n",
            "                                                                 \n",
            " max_pooling2d_2 (MaxPooling  (None, 28, 28, 64)       0         \n",
            " 2D)                                                             \n",
            "                                                                 \n",
            " conv2d_3 (Conv2D)           (None, 26, 26, 128)       73856     \n",
            "                                                                 \n",
            " max_pooling2d_3 (MaxPooling  (None, 13, 13, 128)      0         \n",
            " 2D)                                                             \n",
            "                                                                 \n",
            " flatten_1 (Flatten)         (None, 21632)             0         \n",
            "                                                                 \n",
            " dense_2 (Dense)             (None, 512)               11076096  \n",
            "                                                                 \n",
            " dense_3 (Dense)             (None, 16)                8208      \n",
            "                                                                 \n",
            "=================================================================\n",
            "Total params: 11,177,552\n",
            "Trainable params: 11,177,552\n",
            "Non-trainable params: 0\n",
            "_________________________________________________________________\n"
          ]
        }
      ]
    },
    {
      "cell_type": "code",
      "source": [
        "model.compile(optimizer='adam', loss='categorical_crossentropy', metrics=['accuracy'])"
      ],
      "metadata": {
        "id": "wJjBObj4WqJ3"
      },
      "execution_count": 14,
      "outputs": []
    },
    {
      "cell_type": "code",
      "source": [
        "model.fit(train,batch_size=8,validation_data=test,epochs=20)"
      ],
      "metadata": {
        "colab": {
          "base_uri": "https://localhost:8080/"
        },
        "id": "ybmd-W3YXup8",
        "outputId": "2d29dde4-8886-489c-cbeb-5ef659221fc1"
      },
      "execution_count": null,
      "outputs": [
        {
          "output_type": "stream",
          "name": "stdout",
          "text": [
            "Epoch 1/20\n",
            "19/19 [==============================] - 87s 5s/step - loss: 2.7788 - accuracy: 0.1267 - val_loss: 2.6714 - val_accuracy: 0.1720\n",
            "Epoch 2/20\n",
            "19/19 [==============================] - 83s 4s/step - loss: 2.3515 - accuracy: 0.2533 - val_loss: 2.6850 - val_accuracy: 0.1911\n",
            "Epoch 3/20\n",
            "19/19 [==============================] - 83s 4s/step - loss: 2.1136 - accuracy: 0.3333 - val_loss: 2.5899 - val_accuracy: 0.2357\n",
            "Epoch 4/20\n",
            "19/19 [==============================] - 84s 5s/step - loss: 1.8904 - accuracy: 0.3733 - val_loss: 2.9615 - val_accuracy: 0.1401\n",
            "Epoch 5/20\n",
            "19/19 [==============================] - 85s 5s/step - loss: 1.8877 - accuracy: 0.3467 - val_loss: 2.6207 - val_accuracy: 0.1911\n",
            "Epoch 6/20\n",
            "19/19 [==============================] - 85s 5s/step - loss: 1.5769 - accuracy: 0.5133 - val_loss: 2.9710 - val_accuracy: 0.1783\n",
            "Epoch 7/20\n",
            "19/19 [==============================] - 85s 5s/step - loss: 1.5707 - accuracy: 0.5467 - val_loss: 2.6840 - val_accuracy: 0.2548\n",
            "Epoch 8/20\n",
            "19/19 [==============================] - 119s 7s/step - loss: 1.3797 - accuracy: 0.5267 - val_loss: 3.2542 - val_accuracy: 0.2548\n",
            "Epoch 9/20\n",
            "19/19 [==============================] - 85s 5s/step - loss: 1.2108 - accuracy: 0.6467 - val_loss: 3.2468 - val_accuracy: 0.2675\n",
            "Epoch 10/20\n",
            "19/19 [==============================] - 84s 5s/step - loss: 0.9787 - accuracy: 0.6933 - val_loss: 3.4299 - val_accuracy: 0.3185\n",
            "Epoch 11/20\n",
            "19/19 [==============================] - 84s 5s/step - loss: 0.7112 - accuracy: 0.7667 - val_loss: 3.4233 - val_accuracy: 0.2994\n",
            "Epoch 12/20\n",
            "19/19 [==============================] - 84s 5s/step - loss: 0.9083 - accuracy: 0.7333 - val_loss: 3.5564 - val_accuracy: 0.1975\n",
            "Epoch 13/20\n",
            "19/19 [==============================] - 84s 5s/step - loss: 0.8197 - accuracy: 0.7400 - val_loss: 3.3770 - val_accuracy: 0.3248\n",
            "Epoch 14/20\n",
            "19/19 [==============================] - 84s 5s/step - loss: 0.5492 - accuracy: 0.8333 - val_loss: 3.8267 - val_accuracy: 0.3439\n",
            "Epoch 15/20\n",
            "19/19 [==============================] - 84s 5s/step - loss: 0.2878 - accuracy: 0.9267 - val_loss: 4.4664 - val_accuracy: 0.3376\n",
            "Epoch 16/20\n",
            "19/19 [==============================] - 118s 6s/step - loss: 0.1877 - accuracy: 0.9400 - val_loss: 4.3613 - val_accuracy: 0.3312\n",
            "Epoch 17/20\n",
            "19/19 [==============================] - 84s 5s/step - loss: 0.2218 - accuracy: 0.9600 - val_loss: 4.5644 - val_accuracy: 0.3185\n",
            "Epoch 18/20\n",
            "19/19 [==============================] - 84s 5s/step - loss: 0.4694 - accuracy: 0.8800 - val_loss: 4.1444 - val_accuracy: 0.2994\n",
            "Epoch 19/20\n",
            "19/19 [==============================] - 82s 4s/step - loss: 0.5943 - accuracy: 0.8467 - val_loss: 3.4769 - val_accuracy: 0.3885\n",
            "Epoch 20/20\n",
            "19/19 [==============================] - 118s 6s/step - loss: 0.4571 - accuracy: 0.8400 - val_loss: 3.9119 - val_accuracy: 0.3312\n"
          ]
        },
        {
          "output_type": "execute_result",
          "data": {
            "text/plain": [
              "<keras.callbacks.History at 0x7fc3001adcf0>"
            ]
          },
          "metadata": {},
          "execution_count": 23
        }
      ]
    },
    {
      "cell_type": "code",
      "source": [
        "# Testing 1\n",
        "img1 = image.load_img('/content/bird1.jpeg',target_size=(120,120))\n",
        "img1 = image.img_to_array(img1)\n",
        "img1 = np.expand_dims(img1,axis=0)\n",
        "pred = np.argmax(model.predict(img1))\n",
        "print(pred)\n",
        "output = ['blasti','bonegl','brhkyt','cbrtsh','cmnmyn','gretit','hilpig',\n",
        "          'himbul','himgri','hsparo','indvul','jglowl','lbicrw','mgprob',\n",
        "          'rebimg','wcrsrt']\n",
        "print(output[pred])"
      ],
      "metadata": {
        "colab": {
          "base_uri": "https://localhost:8080/"
        },
        "id": "90OlxkIY9N3s",
        "outputId": "ae7ead68-fd9c-42d2-9cd6-c0cf092f4865"
      },
      "execution_count": null,
      "outputs": [
        {
          "output_type": "stream",
          "name": "stdout",
          "text": [
            "1/1 [==============================] - 0s 20ms/step\n",
            "7\n",
            "himbul\n"
          ]
        }
      ]
    },
    {
      "cell_type": "code",
      "source": [
        "# Testing 2\n",
        "img2 = image.load_img('/content/hilpig1.jpeg',target_size=(120,120))\n",
        "img2 = image.img_to_array(img2)\n",
        "img2 = np.expand_dims(img2,axis=0)\n",
        "pred = np.argmax(model.predict(img2))\n",
        "print(pred)\n",
        "output = ['blasti','bonegl','brhkyt','cbrtsh','cmnmyn','gretit','hilpig',\n",
        "          'himbul','himgri','hsparo','indvul','jglowl','lbicrw','mgprob',\n",
        "          'rebimg','wcrsrt']\n",
        "print(output[pred])"
      ],
      "metadata": {
        "colab": {
          "base_uri": "https://localhost:8080/"
        },
        "id": "X276CE8C9d4e",
        "outputId": "b6f13cb3-f98c-4ca1-98b0-6cd3b76496f3"
      },
      "execution_count": null,
      "outputs": [
        {
          "output_type": "stream",
          "name": "stdout",
          "text": [
            "1/1 [==============================] - 0s 21ms/step\n",
            "4\n",
            "cmnmyn\n"
          ]
        }
      ]
    },
    {
      "cell_type": "code",
      "source": [
        "# Testing 3\n",
        "img2 = image.load_img('/content/bird3.jpg',target_size=(120,120))\n",
        "img2 = image.img_to_array(img2)\n",
        "img2 = np.expand_dims(img2,axis=0)\n",
        "pred = np.argmax(model.predict(img2))\n",
        "print(pred)\n",
        "output = ['blasti','bonegl','brhkyt','cbrtsh','cmnmyn','gretit','hilpig',\n",
        "          'himbul','himgri','hsparo','indvul','jglowl','lbicrw','mgprob',\n",
        "          'rebimg','wcrsrt']\n",
        "print(output[pred])"
      ],
      "metadata": {
        "colab": {
          "base_uri": "https://localhost:8080/"
        },
        "id": "RL6GhZtv9xWe",
        "outputId": "8da06088-8bb3-4e35-8c1c-75bc436b58b5"
      },
      "execution_count": null,
      "outputs": [
        {
          "output_type": "stream",
          "name": "stdout",
          "text": [
            "1/1 [==============================] - 0s 18ms/step\n",
            "0\n",
            "blasti\n"
          ]
        }
      ]
    },
    {
      "cell_type": "markdown",
      "source": [
        "# Model tuning (with dropout, batch normalization & early stopping)"
      ],
      "metadata": {
        "id": "oG2wnbmUHY3j"
      }
    },
    {
      "cell_type": "code",
      "source": [
        "from tensorflow.keras.layers import BatchNormalization, Dropout"
      ],
      "metadata": {
        "id": "NDRSJTgbHX-W"
      },
      "execution_count": 15,
      "outputs": []
    },
    {
      "cell_type": "code",
      "source": [
        "# Initializing the seq model\n",
        "model = Sequential()\n",
        "\n",
        "# Adding conv layer with input\n",
        "model.add(Convolution2D(32, (3, 3), activation='relu', input_shape=(120, 120, 3)))\n",
        "# Normalizing the conv layer output\n",
        "model.add(BatchNormalization())\n",
        "# Selecting the max values\n",
        "model.add(MaxPooling2D(pool_size=(2, 2)))\n",
        "# Dropping the unwanted 20% of data\n",
        "model.add(Dropout(0.2))\n",
        "\n",
        "model.add(Convolution2D(64, (3, 3), activation='relu'))\n",
        "model.add(BatchNormalization())\n",
        "model.add(MaxPooling2D(pool_size=(2, 2)))\n",
        "model.add(Dropout(0.2))\n",
        "\n",
        "model.add(Convolution2D(128, (3, 3), activation='relu'))\n",
        "model.add(BatchNormalization())\n",
        "model.add(MaxPooling2D(pool_size=(2, 2)))\n",
        "model.add(Dropout(0.2))\n",
        "\n",
        "model.add(Flatten())\n",
        "\n",
        "model.add(Dense(512, activation='relu'))\n",
        "model.add(BatchNormalization())\n",
        "model.add(Dropout(0.1))\n",
        "model.add(Dense(256, activation='relu'))\n",
        "model.add(Dense(128, activation='relu'))\n",
        "\n",
        "model.add(Dense(16, activation='softmax'))"
      ],
      "metadata": {
        "id": "XTSFGAdhIZaZ"
      },
      "execution_count": 16,
      "outputs": []
    },
    {
      "cell_type": "code",
      "source": [
        "model.summary()"
      ],
      "metadata": {
        "colab": {
          "base_uri": "https://localhost:8080/"
        },
        "id": "AqjK0xaFIxCZ",
        "outputId": "7d132688-72db-402f-c67e-3297b1d6a35e"
      },
      "execution_count": 17,
      "outputs": [
        {
          "output_type": "stream",
          "name": "stdout",
          "text": [
            "Model: \"sequential_2\"\n",
            "_________________________________________________________________\n",
            " Layer (type)                Output Shape              Param #   \n",
            "=================================================================\n",
            " conv2d_4 (Conv2D)           (None, 118, 118, 32)      896       \n",
            "                                                                 \n",
            " batch_normalization (BatchN  (None, 118, 118, 32)     128       \n",
            " ormalization)                                                   \n",
            "                                                                 \n",
            " max_pooling2d_4 (MaxPooling  (None, 59, 59, 32)       0         \n",
            " 2D)                                                             \n",
            "                                                                 \n",
            " dropout (Dropout)           (None, 59, 59, 32)        0         \n",
            "                                                                 \n",
            " conv2d_5 (Conv2D)           (None, 57, 57, 64)        18496     \n",
            "                                                                 \n",
            " batch_normalization_1 (Batc  (None, 57, 57, 64)       256       \n",
            " hNormalization)                                                 \n",
            "                                                                 \n",
            " max_pooling2d_5 (MaxPooling  (None, 28, 28, 64)       0         \n",
            " 2D)                                                             \n",
            "                                                                 \n",
            " dropout_1 (Dropout)         (None, 28, 28, 64)        0         \n",
            "                                                                 \n",
            " conv2d_6 (Conv2D)           (None, 26, 26, 128)       73856     \n",
            "                                                                 \n",
            " batch_normalization_2 (Batc  (None, 26, 26, 128)      512       \n",
            " hNormalization)                                                 \n",
            "                                                                 \n",
            " max_pooling2d_6 (MaxPooling  (None, 13, 13, 128)      0         \n",
            " 2D)                                                             \n",
            "                                                                 \n",
            " dropout_2 (Dropout)         (None, 13, 13, 128)       0         \n",
            "                                                                 \n",
            " flatten_2 (Flatten)         (None, 21632)             0         \n",
            "                                                                 \n",
            " dense_4 (Dense)             (None, 512)               11076096  \n",
            "                                                                 \n",
            " batch_normalization_3 (Batc  (None, 512)              2048      \n",
            " hNormalization)                                                 \n",
            "                                                                 \n",
            " dropout_3 (Dropout)         (None, 512)               0         \n",
            "                                                                 \n",
            " dense_5 (Dense)             (None, 256)               131328    \n",
            "                                                                 \n",
            " dense_6 (Dense)             (None, 128)               32896     \n",
            "                                                                 \n",
            " dense_7 (Dense)             (None, 16)                2064      \n",
            "                                                                 \n",
            "=================================================================\n",
            "Total params: 11,338,576\n",
            "Trainable params: 11,337,104\n",
            "Non-trainable params: 1,472\n",
            "_________________________________________________________________\n"
          ]
        }
      ]
    },
    {
      "cell_type": "code",
      "source": [
        "model.compile(optimizer='adam',loss='categorical_crossentropy',metrics=['accuracy'])"
      ],
      "metadata": {
        "id": "rsKs3ehOI02q"
      },
      "execution_count": 18,
      "outputs": []
    },
    {
      "cell_type": "code",
      "source": [
        "# Early stopping\n",
        "from tensorflow.keras.callbacks import EarlyStopping"
      ],
      "metadata": {
        "id": "veamWrQxI5RZ"
      },
      "execution_count": 19,
      "outputs": []
    },
    {
      "cell_type": "code",
      "source": [
        "early_stop = EarlyStopping(monitor='accuracy',patience=8)"
      ],
      "metadata": {
        "id": "FrhjaEElI80o"
      },
      "execution_count": 20,
      "outputs": []
    },
    {
      "cell_type": "code",
      "source": [
        "model.fit(train,batch_size=8,validation_data=test,epochs=30,callbacks=early_stop)"
      ],
      "metadata": {
        "colab": {
          "base_uri": "https://localhost:8080/"
        },
        "id": "LOkyhzxaJBbE",
        "outputId": "3f794b01-a93f-4410-a514-9c1f0f0070fc"
      },
      "execution_count": null,
      "outputs": [
        {
          "output_type": "stream",
          "name": "stdout",
          "text": [
            "Epoch 1/30\n",
            "19/19 [==============================] - 85s 5s/step - loss: 0.4739 - accuracy: 0.8533 - val_loss: 5.7806 - val_accuracy: 0.1338\n",
            "Epoch 2/30\n",
            "19/19 [==============================] - 86s 5s/step - loss: 0.6269 - accuracy: 0.8000 - val_loss: 4.8220 - val_accuracy: 0.1401\n",
            "Epoch 3/30\n",
            "19/19 [==============================] - 84s 5s/step - loss: 0.4989 - accuracy: 0.8533 - val_loss: 4.5395 - val_accuracy: 0.1465\n",
            "Epoch 4/30\n",
            "19/19 [==============================] - 84s 5s/step - loss: 0.5046 - accuracy: 0.8200 - val_loss: 4.7043 - val_accuracy: 0.1210\n",
            "Epoch 5/30\n",
            "19/19 [==============================] - 84s 5s/step - loss: 0.4516 - accuracy: 0.8533 - val_loss: 4.6877 - val_accuracy: 0.1019\n",
            "Epoch 6/30\n",
            "19/19 [==============================] - 86s 5s/step - loss: 0.3130 - accuracy: 0.8600 - val_loss: 4.6907 - val_accuracy: 0.1529\n",
            "Epoch 7/30\n",
            "19/19 [==============================] - 86s 5s/step - loss: 0.4523 - accuracy: 0.8533 - val_loss: 4.7589 - val_accuracy: 0.1592\n",
            "Epoch 8/30\n",
            "19/19 [==============================] - 85s 5s/step - loss: 0.3579 - accuracy: 0.8933 - val_loss: 4.5893 - val_accuracy: 0.1720\n",
            "Epoch 9/30\n",
            "19/19 [==============================] - 119s 6s/step - loss: 0.4564 - accuracy: 0.8200 - val_loss: 4.4211 - val_accuracy: 0.1592\n",
            "Epoch 10/30\n",
            "19/19 [==============================] - 85s 5s/step - loss: 0.2598 - accuracy: 0.9333 - val_loss: 4.5342 - val_accuracy: 0.1720\n",
            "Epoch 11/30\n",
            "19/19 [==============================] - 85s 5s/step - loss: 0.4214 - accuracy: 0.8533 - val_loss: 4.2739 - val_accuracy: 0.1783\n",
            "Epoch 12/30\n",
            "19/19 [==============================] - 84s 5s/step - loss: 0.3600 - accuracy: 0.8933 - val_loss: 3.8917 - val_accuracy: 0.2229\n",
            "Epoch 13/30\n",
            "19/19 [==============================] - 85s 5s/step - loss: 0.3512 - accuracy: 0.8933 - val_loss: 6.0735 - val_accuracy: 0.0828\n",
            "Epoch 14/30\n",
            "19/19 [==============================] - 85s 5s/step - loss: 0.4832 - accuracy: 0.8467 - val_loss: 5.1851 - val_accuracy: 0.1083\n",
            "Epoch 15/30\n",
            "19/19 [==============================] - 84s 5s/step - loss: 0.3885 - accuracy: 0.8467 - val_loss: 4.9789 - val_accuracy: 0.1274\n",
            "Epoch 16/30\n",
            "19/19 [==============================] - 85s 5s/step - loss: 0.4503 - accuracy: 0.8333 - val_loss: 4.8391 - val_accuracy: 0.1338\n",
            "Epoch 17/30\n",
            "19/19 [==============================] - 85s 5s/step - loss: 0.7223 - accuracy: 0.7800 - val_loss: 5.0101 - val_accuracy: 0.2548\n",
            "Epoch 18/30\n",
            "19/19 [==============================] - 85s 5s/step - loss: 0.4406 - accuracy: 0.8333 - val_loss: 5.2867 - val_accuracy: 0.2484\n"
          ]
        },
        {
          "output_type": "execute_result",
          "data": {
            "text/plain": [
              "<keras.callbacks.History at 0x7f52a1360370>"
            ]
          },
          "metadata": {},
          "execution_count": 27
        }
      ]
    },
    {
      "cell_type": "code",
      "source": [
        "# Testing 1\n",
        "img1 = image.load_img('/content/hilpig1.jpeg',target_size=(120,120))\n",
        "img1 = image.img_to_array(img1)\n",
        "img1 = np.expand_dims(img1,axis=0)\n",
        "pred = np.argmax(model.predict(img1))\n",
        "print(pred)\n",
        "output = ['blasti','bonegl','brhkyt','cbrtsh','cmnmyn','gretit','hilpig',\n",
        "          'himbul','himgri','hsparo','indvul','jglowl','lbicrw','mgprob',\n",
        "          'rebimg','wcrsrt']\n",
        "print(output[pred])"
      ],
      "metadata": {
        "colab": {
          "base_uri": "https://localhost:8080/"
        },
        "id": "qnD9OFQAtHPO",
        "outputId": "2e48731c-495c-4d9b-a570-1d9333f20d7a"
      },
      "execution_count": null,
      "outputs": [
        {
          "output_type": "stream",
          "name": "stdout",
          "text": [
            "1/1 [==============================] - 0s 19ms/step\n",
            "2\n",
            "brhkyt\n"
          ]
        }
      ]
    },
    {
      "cell_type": "code",
      "source": [
        "# Testing 2\n",
        "img1 = image.load_img('/content/bird4.jpeg',target_size=(120,120))\n",
        "img1 = image.img_to_array(img1)\n",
        "img1 = np.expand_dims(img1,axis=0)\n",
        "pred = np.argmax(model.predict(img1))\n",
        "print(pred)\n",
        "output = ['blasti','bonegl','brhkyt','cbrtsh','cmnmyn','gretit','hilpig',\n",
        "          'himbul','himgri','hsparo','indvul','jglowl','lbicrw','mgprob',\n",
        "          'rebimg','wcrsrt']\n",
        "print(output[pred])"
      ],
      "metadata": {
        "colab": {
          "base_uri": "https://localhost:8080/"
        },
        "id": "32hA_da4tKnp",
        "outputId": "98bc0aff-a767-423b-8121-28a415bc176d"
      },
      "execution_count": null,
      "outputs": [
        {
          "output_type": "stream",
          "name": "stdout",
          "text": [
            "1/1 [==============================] - 0s 21ms/step\n",
            "8\n",
            "himgri\n"
          ]
        }
      ]
    },
    {
      "cell_type": "code",
      "source": [
        "# Testing 3\n",
        "img1 = image.load_img('/content/bird3.jpg',target_size=(120,120))\n",
        "img1 = image.img_to_array(img1)\n",
        "img1 = np.expand_dims(img1,axis=0)\n",
        "pred = np.argmax(model.predict(img1))\n",
        "print(pred)\n",
        "output = ['blasti','bonegl','brhkyt','cbrtsh','cmnmyn','gretit','hilpig',\n",
        "          'himbul','himgri','hsparo','indvul','jglowl','lbicrw','mgprob',\n",
        "          'rebimg','wcrsrt']\n",
        "print(output[pred])"
      ],
      "metadata": {
        "colab": {
          "base_uri": "https://localhost:8080/"
        },
        "id": "648ZCoca2BOW",
        "outputId": "8c8e01ed-8317-4df8-bc71-ded06289097a"
      },
      "execution_count": null,
      "outputs": [
        {
          "output_type": "stream",
          "name": "stdout",
          "text": [
            "1/1 [==============================] - 0s 22ms/step\n",
            "8\n",
            "himgri\n"
          ]
        }
      ]
    },
    {
      "cell_type": "code",
      "source": [
        "early_stop = EarlyStopping(monitor='val_accuracy',patience=8)"
      ],
      "metadata": {
        "id": "eWUHS0cRmYzH"
      },
      "execution_count": 21,
      "outputs": []
    },
    {
      "cell_type": "code",
      "source": [
        "model.fit(train,batch_size=8,validation_data=test,epochs=30,callbacks=early_stop)"
      ],
      "metadata": {
        "colab": {
          "base_uri": "https://localhost:8080/"
        },
        "id": "xUZlYzB2mehg",
        "outputId": "75b8f01b-a9e5-4702-935c-218aae31071d"
      },
      "execution_count": null,
      "outputs": [
        {
          "output_type": "stream",
          "name": "stdout",
          "text": [
            "Epoch 1/30\n",
            "19/19 [==============================] - 121s 7s/step - loss: 0.1547 - accuracy: 0.9600 - val_loss: 6.8068 - val_accuracy: 0.2102\n",
            "Epoch 2/30\n",
            "19/19 [==============================] - 86s 5s/step - loss: 0.5222 - accuracy: 0.8267 - val_loss: 7.9544 - val_accuracy: 0.1465\n",
            "Epoch 3/30\n",
            "19/19 [==============================] - 85s 5s/step - loss: 0.4554 - accuracy: 0.8467 - val_loss: 9.9977 - val_accuracy: 0.1592\n",
            "Epoch 4/30\n",
            "19/19 [==============================] - 85s 5s/step - loss: 0.3859 - accuracy: 0.8800 - val_loss: 5.1016 - val_accuracy: 0.1274\n",
            "Epoch 5/30\n",
            "19/19 [==============================] - 87s 5s/step - loss: 0.4077 - accuracy: 0.8400 - val_loss: 3.6341 - val_accuracy: 0.2420\n",
            "Epoch 6/30\n",
            "19/19 [==============================] - 85s 5s/step - loss: 0.2385 - accuracy: 0.9200 - val_loss: 3.5009 - val_accuracy: 0.2803\n",
            "Epoch 7/30\n",
            "19/19 [==============================] - 85s 5s/step - loss: 0.2666 - accuracy: 0.9067 - val_loss: 3.7203 - val_accuracy: 0.2611\n",
            "Epoch 8/30\n",
            "19/19 [==============================] - 86s 5s/step - loss: 0.2884 - accuracy: 0.8933 - val_loss: 4.2357 - val_accuracy: 0.1720\n",
            "Epoch 9/30\n",
            "19/19 [==============================] - 120s 7s/step - loss: 0.3237 - accuracy: 0.9200 - val_loss: 4.1325 - val_accuracy: 0.2420\n",
            "Epoch 10/30\n",
            "19/19 [==============================] - 85s 5s/step - loss: 0.1953 - accuracy: 0.9467 - val_loss: 4.6049 - val_accuracy: 0.2930\n",
            "Epoch 11/30\n",
            "19/19 [==============================] - 85s 5s/step - loss: 0.1707 - accuracy: 0.9400 - val_loss: 4.4275 - val_accuracy: 0.2166\n",
            "Epoch 12/30\n",
            "19/19 [==============================] - 85s 5s/step - loss: 0.0807 - accuracy: 0.9800 - val_loss: 4.2851 - val_accuracy: 0.2739\n",
            "Epoch 13/30\n",
            "19/19 [==============================] - 119s 7s/step - loss: 0.2034 - accuracy: 0.9400 - val_loss: 4.4574 - val_accuracy: 0.2420\n",
            "Epoch 14/30\n",
            "19/19 [==============================] - 86s 5s/step - loss: 0.1897 - accuracy: 0.9400 - val_loss: 4.3089 - val_accuracy: 0.2357\n",
            "Epoch 15/30\n",
            "19/19 [==============================] - 87s 5s/step - loss: 0.1651 - accuracy: 0.9467 - val_loss: 4.7676 - val_accuracy: 0.2484\n",
            "Epoch 16/30\n",
            "19/19 [==============================] - 86s 5s/step - loss: 0.1775 - accuracy: 0.9400 - val_loss: 4.8175 - val_accuracy: 0.3057\n",
            "Epoch 17/30\n",
            "19/19 [==============================] - 86s 5s/step - loss: 0.2131 - accuracy: 0.9333 - val_loss: 5.2387 - val_accuracy: 0.2293\n",
            "Epoch 18/30\n",
            "19/19 [==============================] - 85s 5s/step - loss: 0.2610 - accuracy: 0.9067 - val_loss: 4.4752 - val_accuracy: 0.2420\n",
            "Epoch 19/30\n",
            "19/19 [==============================] - 89s 5s/step - loss: 0.2119 - accuracy: 0.9400 - val_loss: 5.0720 - val_accuracy: 0.1911\n",
            "Epoch 20/30\n",
            "19/19 [==============================] - 85s 5s/step - loss: 0.1647 - accuracy: 0.9467 - val_loss: 4.5591 - val_accuracy: 0.2548\n",
            "Epoch 21/30\n",
            "19/19 [==============================] - 86s 5s/step - loss: 0.1001 - accuracy: 0.9600 - val_loss: 4.1930 - val_accuracy: 0.3185\n",
            "Epoch 22/30\n",
            "19/19 [==============================] - 86s 5s/step - loss: 0.2354 - accuracy: 0.9200 - val_loss: 4.9312 - val_accuracy: 0.3057\n",
            "Epoch 23/30\n",
            "19/19 [==============================] - 85s 5s/step - loss: 0.2492 - accuracy: 0.9133 - val_loss: 5.3949 - val_accuracy: 0.3248\n",
            "Epoch 24/30\n",
            "19/19 [==============================] - 85s 5s/step - loss: 0.1421 - accuracy: 0.9333 - val_loss: 5.2088 - val_accuracy: 0.3057\n",
            "Epoch 25/30\n",
            "19/19 [==============================] - 87s 5s/step - loss: 0.2433 - accuracy: 0.9133 - val_loss: 5.3597 - val_accuracy: 0.2611\n",
            "Epoch 26/30\n",
            "19/19 [==============================] - 86s 5s/step - loss: 0.1907 - accuracy: 0.9467 - val_loss: 4.8792 - val_accuracy: 0.3185\n",
            "Epoch 27/30\n",
            "19/19 [==============================] - 85s 5s/step - loss: 0.3103 - accuracy: 0.8933 - val_loss: 4.5925 - val_accuracy: 0.2548\n",
            "Epoch 28/30\n",
            "19/19 [==============================] - 85s 5s/step - loss: 0.1805 - accuracy: 0.9267 - val_loss: 4.5445 - val_accuracy: 0.3248\n",
            "Epoch 29/30\n",
            "19/19 [==============================] - 84s 5s/step - loss: 0.0792 - accuracy: 0.9733 - val_loss: 4.9780 - val_accuracy: 0.2866\n",
            "Epoch 30/30\n",
            "19/19 [==============================] - 84s 5s/step - loss: 0.0796 - accuracy: 0.9733 - val_loss: 4.5950 - val_accuracy: 0.2866\n"
          ]
        },
        {
          "output_type": "execute_result",
          "data": {
            "text/plain": [
              "<keras.callbacks.History at 0x7f52a0fe2080>"
            ]
          },
          "metadata": {},
          "execution_count": 38
        }
      ]
    },
    {
      "cell_type": "code",
      "source": [
        "# Testing 1\n",
        "img1 = image.load_img('/content/hilpig1.jpeg',target_size=(120,120))\n",
        "img1 = image.img_to_array(img1)\n",
        "img1 = np.expand_dims(img1,axis=0)\n",
        "pred = np.argmax(model.predict(img1))\n",
        "print(pred)\n",
        "output = ['blasti','bonegl','brhkyt','cbrtsh','cmnmyn','gretit','hilpig',\n",
        "          'himbul','himgri','hsparo','indvul','jglowl','lbicrw','mgprob',\n",
        "          'rebimg','wcrsrt']\n",
        "print(output[pred])"
      ],
      "metadata": {
        "colab": {
          "base_uri": "https://localhost:8080/"
        },
        "id": "kvjm7Ad7jbHE",
        "outputId": "6a13c5ab-f205-4a86-e50d-bca78a469d55"
      },
      "execution_count": null,
      "outputs": [
        {
          "output_type": "stream",
          "name": "stdout",
          "text": [
            "1/1 [==============================] - 0s 19ms/step\n",
            "2\n",
            "brhkyt\n"
          ]
        }
      ]
    },
    {
      "cell_type": "code",
      "source": [
        "# Testing 2\n",
        "img1 = image.load_img('/content/bird4.jpeg',target_size=(120,120))\n",
        "img1 = image.img_to_array(img1)\n",
        "img1 = np.expand_dims(img1,axis=0)\n",
        "pred = np.argmax(model.predict(img1))\n",
        "print(pred)\n",
        "output = ['blasti','bonegl','brhkyt','cbrtsh','cmnmyn','gretit','hilpig',\n",
        "          'himbul','himgri','hsparo','indvul','jglowl','lbicrw','mgprob',\n",
        "          'rebimg','wcrsrt']\n",
        "print(output[pred])"
      ],
      "metadata": {
        "colab": {
          "base_uri": "https://localhost:8080/"
        },
        "id": "BPq-nMcyk6FZ",
        "outputId": "df8c1271-40ca-4270-f2ff-732f5b5dba70"
      },
      "execution_count": null,
      "outputs": [
        {
          "output_type": "stream",
          "name": "stdout",
          "text": [
            "1/1 [==============================] - 0s 18ms/step\n",
            "8\n",
            "himgri\n"
          ]
        }
      ]
    },
    {
      "cell_type": "code",
      "source": [
        "# Testing 3\n",
        "img1 = image.load_img('/content/bird3.jpg',target_size=(120,120))\n",
        "img1 = image.img_to_array(img1)\n",
        "img1 = np.expand_dims(img1,axis=0)\n",
        "pred = np.argmax(model.predict(img1))\n",
        "print(pred)\n",
        "output = ['blasti','bonegl','brhkyt','cbrtsh','cmnmyn','gretit','hilpig',\n",
        "          'himbul','himgri','hsparo','indvul','jglowl','lbicrw','mgprob',\n",
        "          'rebimg','wcrsrt']\n",
        "print(output[pred])"
      ],
      "metadata": {
        "colab": {
          "base_uri": "https://localhost:8080/"
        },
        "id": "CBXbESZO2Oo2",
        "outputId": "e6ca8d5d-ea83-4649-ac8a-95a822dae17f"
      },
      "execution_count": null,
      "outputs": [
        {
          "output_type": "stream",
          "name": "stdout",
          "text": [
            "1/1 [==============================] - 0s 18ms/step\n",
            "8\n",
            "himgri\n"
          ]
        }
      ]
    },
    {
      "cell_type": "markdown",
      "source": [
        "# VGG16"
      ],
      "metadata": {
        "id": "to6EA0APeiuo"
      }
    },
    {
      "cell_type": "code",
      "source": [
        "train = train_gen.flow_from_directory(train_path,\n",
        "                                      target_size=(224,224),\n",
        "                                      batch_size=22,\n",
        "                                      class_mode='categorical')\n",
        "\n",
        "test = test_gen.flow_from_directory(test_path,\n",
        "                                      target_size=(224,224),\n",
        "                                      batch_size=22,\n",
        "                                      class_mode='categorical')"
      ],
      "metadata": {
        "colab": {
          "base_uri": "https://localhost:8080/"
        },
        "id": "f_e1QX1mek6y",
        "outputId": "43a08443-0526-4b78-c3bb-1560cdc1293d"
      },
      "execution_count": 22,
      "outputs": [
        {
          "output_type": "stream",
          "name": "stdout",
          "text": [
            "Found 150 images belonging to 16 classes.\n",
            "Found 157 images belonging to 16 classes.\n"
          ]
        }
      ]
    },
    {
      "cell_type": "code",
      "source": [
        "from tensorflow.keras.applications.vgg16 import VGG16, preprocess_input"
      ],
      "metadata": {
        "id": "D49oJVRxfXHj"
      },
      "execution_count": 23,
      "outputs": []
    },
    {
      "cell_type": "code",
      "source": [
        "# Adding the preprocessing layer to the front of vgg\n",
        "\n",
        "vgg = VGG16(include_top=False,weights='imagenet',input_shape=(224,224,3))"
      ],
      "metadata": {
        "id": "ZUdl5Y7Efduy",
        "colab": {
          "base_uri": "https://localhost:8080/"
        },
        "outputId": "5501af0a-93eb-48ca-ce25-ae147caa63e3"
      },
      "execution_count": 24,
      "outputs": [
        {
          "output_type": "stream",
          "name": "stdout",
          "text": [
            "Downloading data from https://storage.googleapis.com/tensorflow/keras-applications/vgg16/vgg16_weights_tf_dim_ordering_tf_kernels_notop.h5\n",
            "58889256/58889256 [==============================] - 0s 0us/step\n"
          ]
        }
      ]
    },
    {
      "cell_type": "code",
      "source": [
        "# Train model with existing weights\n",
        "\n",
        "for layer in vgg.layers:\n",
        "  print(layer)"
      ],
      "metadata": {
        "colab": {
          "base_uri": "https://localhost:8080/"
        },
        "id": "DP5S8J-yfdn5",
        "outputId": "42313398-855a-4845-aee7-4a726128fd79"
      },
      "execution_count": 25,
      "outputs": [
        {
          "output_type": "stream",
          "name": "stdout",
          "text": [
            "<keras.engine.input_layer.InputLayer object at 0x7f549029fbb0>\n",
            "<keras.layers.convolutional.conv2d.Conv2D object at 0x7f549029ef50>\n",
            "<keras.layers.convolutional.conv2d.Conv2D object at 0x7f54900eaa40>\n",
            "<keras.layers.pooling.max_pooling2d.MaxPooling2D object at 0x7f54900e88e0>\n",
            "<keras.layers.convolutional.conv2d.Conv2D object at 0x7f54900ebee0>\n",
            "<keras.layers.convolutional.conv2d.Conv2D object at 0x7f54900d5a80>\n",
            "<keras.layers.pooling.max_pooling2d.MaxPooling2D object at 0x7f54900d5180>\n",
            "<keras.layers.convolutional.conv2d.Conv2D object at 0x7f549021a980>\n",
            "<keras.layers.convolutional.conv2d.Conv2D object at 0x7f54b0570d00>\n",
            "<keras.layers.convolutional.conv2d.Conv2D object at 0x7f5490284610>\n",
            "<keras.layers.pooling.max_pooling2d.MaxPooling2D object at 0x7f5490198100>\n",
            "<keras.layers.convolutional.conv2d.Conv2D object at 0x7f549010f430>\n",
            "<keras.layers.convolutional.conv2d.Conv2D object at 0x7f549010df00>\n",
            "<keras.layers.convolutional.conv2d.Conv2D object at 0x7f549010f910>\n",
            "<keras.layers.pooling.max_pooling2d.MaxPooling2D object at 0x7f549019ab00>\n",
            "<keras.layers.convolutional.conv2d.Conv2D object at 0x7f549019b640>\n",
            "<keras.layers.convolutional.conv2d.Conv2D object at 0x7f549019b460>\n",
            "<keras.layers.convolutional.conv2d.Conv2D object at 0x7f549019bf10>\n",
            "<keras.layers.pooling.max_pooling2d.MaxPooling2D object at 0x7f54901a8ca0>\n"
          ]
        }
      ]
    },
    {
      "cell_type": "code",
      "source": [
        "# Train model with existing weights\n",
        "\n",
        "for layer in vgg.layers:\n",
        "  layer.trainable=False"
      ],
      "metadata": {
        "id": "nSDjUuMwfmlO"
      },
      "execution_count": 26,
      "outputs": []
    },
    {
      "cell_type": "code",
      "source": [
        "x = Flatten()(vgg.output)"
      ],
      "metadata": {
        "id": "55MLIbVwfmw7"
      },
      "execution_count": 27,
      "outputs": []
    },
    {
      "cell_type": "code",
      "source": [
        "# output layer\n",
        "\n",
        "prediction = Dense(16,activation='softmax')(x)"
      ],
      "metadata": {
        "id": "s8SSGT7Pfm03"
      },
      "execution_count": 28,
      "outputs": []
    },
    {
      "cell_type": "code",
      "source": [
        "# Create Vgg16 model\n",
        "from tensorflow.keras.models import Model\n",
        "\n",
        "model = Model(inputs=vgg.input,outputs=prediction)"
      ],
      "metadata": {
        "id": "b5JImFzNfm4h"
      },
      "execution_count": 29,
      "outputs": []
    },
    {
      "cell_type": "code",
      "source": [
        "model.summary()"
      ],
      "metadata": {
        "colab": {
          "base_uri": "https://localhost:8080/"
        },
        "id": "AYvEqp-3fm87",
        "outputId": "0f5800be-0309-4f7a-d927-ecfb7487bb72"
      },
      "execution_count": 30,
      "outputs": [
        {
          "output_type": "stream",
          "name": "stdout",
          "text": [
            "Model: \"model\"\n",
            "_________________________________________________________________\n",
            " Layer (type)                Output Shape              Param #   \n",
            "=================================================================\n",
            " input_1 (InputLayer)        [(None, 224, 224, 3)]     0         \n",
            "                                                                 \n",
            " block1_conv1 (Conv2D)       (None, 224, 224, 64)      1792      \n",
            "                                                                 \n",
            " block1_conv2 (Conv2D)       (None, 224, 224, 64)      36928     \n",
            "                                                                 \n",
            " block1_pool (MaxPooling2D)  (None, 112, 112, 64)      0         \n",
            "                                                                 \n",
            " block2_conv1 (Conv2D)       (None, 112, 112, 128)     73856     \n",
            "                                                                 \n",
            " block2_conv2 (Conv2D)       (None, 112, 112, 128)     147584    \n",
            "                                                                 \n",
            " block2_pool (MaxPooling2D)  (None, 56, 56, 128)       0         \n",
            "                                                                 \n",
            " block3_conv1 (Conv2D)       (None, 56, 56, 256)       295168    \n",
            "                                                                 \n",
            " block3_conv2 (Conv2D)       (None, 56, 56, 256)       590080    \n",
            "                                                                 \n",
            " block3_conv3 (Conv2D)       (None, 56, 56, 256)       590080    \n",
            "                                                                 \n",
            " block3_pool (MaxPooling2D)  (None, 28, 28, 256)       0         \n",
            "                                                                 \n",
            " block4_conv1 (Conv2D)       (None, 28, 28, 512)       1180160   \n",
            "                                                                 \n",
            " block4_conv2 (Conv2D)       (None, 28, 28, 512)       2359808   \n",
            "                                                                 \n",
            " block4_conv3 (Conv2D)       (None, 28, 28, 512)       2359808   \n",
            "                                                                 \n",
            " block4_pool (MaxPooling2D)  (None, 14, 14, 512)       0         \n",
            "                                                                 \n",
            " block5_conv1 (Conv2D)       (None, 14, 14, 512)       2359808   \n",
            "                                                                 \n",
            " block5_conv2 (Conv2D)       (None, 14, 14, 512)       2359808   \n",
            "                                                                 \n",
            " block5_conv3 (Conv2D)       (None, 14, 14, 512)       2359808   \n",
            "                                                                 \n",
            " block5_pool (MaxPooling2D)  (None, 7, 7, 512)         0         \n",
            "                                                                 \n",
            " flatten_3 (Flatten)         (None, 25088)             0         \n",
            "                                                                 \n",
            " dense_8 (Dense)             (None, 16)                401424    \n",
            "                                                                 \n",
            "=================================================================\n",
            "Total params: 15,116,112\n",
            "Trainable params: 401,424\n",
            "Non-trainable params: 14,714,688\n",
            "_________________________________________________________________\n"
          ]
        }
      ]
    },
    {
      "cell_type": "code",
      "source": [
        "model.compile(loss='categorical_crossentropy',optimizer='adam',metrics=['accuracy'])"
      ],
      "metadata": {
        "id": "AIITtFMHgSaJ"
      },
      "execution_count": 31,
      "outputs": []
    },
    {
      "cell_type": "code",
      "source": [
        "model.fit(train,validation_data=test,epochs=10,steps_per_epoch=len(train), validation_steps=len(test))"
      ],
      "metadata": {
        "colab": {
          "base_uri": "https://localhost:8080/"
        },
        "id": "4EUJjXMqgVfY",
        "outputId": "6cafe9bc-bdd8-4975-a9ce-ff3652767398"
      },
      "execution_count": null,
      "outputs": [
        {
          "output_type": "stream",
          "name": "stdout",
          "text": [
            "Epoch 1/10\n",
            "7/7 [==============================] - 127s 20s/step - loss: 3.0382 - accuracy: 0.2333 - val_loss: 2.8584 - val_accuracy: 0.1975\n",
            "Epoch 2/10\n",
            "7/7 [==============================] - 85s 13s/step - loss: 1.4185 - accuracy: 0.5933 - val_loss: 2.5731 - val_accuracy: 0.3567\n",
            "Epoch 3/10\n",
            "7/7 [==============================] - 85s 13s/step - loss: 0.7741 - accuracy: 0.7667 - val_loss: 2.8298 - val_accuracy: 0.3185\n",
            "Epoch 4/10\n",
            "7/7 [==============================] - 87s 13s/step - loss: 0.3416 - accuracy: 0.8933 - val_loss: 2.6910 - val_accuracy: 0.3822\n",
            "Epoch 5/10\n",
            "7/7 [==============================] - 86s 14s/step - loss: 0.1550 - accuracy: 0.9533 - val_loss: 2.8643 - val_accuracy: 0.4013\n",
            "Epoch 6/10\n",
            "7/7 [==============================] - 87s 13s/step - loss: 0.1246 - accuracy: 0.9733 - val_loss: 2.9466 - val_accuracy: 0.3885\n",
            "Epoch 7/10\n",
            "7/7 [==============================] - 85s 13s/step - loss: 0.0876 - accuracy: 0.9867 - val_loss: 2.8969 - val_accuracy: 0.4013\n",
            "Epoch 8/10\n",
            "7/7 [==============================] - 86s 13s/step - loss: 0.0628 - accuracy: 0.9867 - val_loss: 2.8274 - val_accuracy: 0.4586\n",
            "Epoch 9/10\n",
            "7/7 [==============================] - 84s 13s/step - loss: 0.0623 - accuracy: 0.9800 - val_loss: 2.8456 - val_accuracy: 0.4013\n",
            "Epoch 10/10\n",
            "7/7 [==============================] - 86s 13s/step - loss: 0.0395 - accuracy: 1.0000 - val_loss: 2.8966 - val_accuracy: 0.4013\n"
          ]
        },
        {
          "output_type": "execute_result",
          "data": {
            "text/plain": [
              "<keras.callbacks.History at 0x7faaf007d9f0>"
            ]
          },
          "metadata": {},
          "execution_count": 53
        }
      ]
    },
    {
      "cell_type": "markdown",
      "source": [
        "# ResNet50"
      ],
      "metadata": {
        "id": "qlav6WBq78-E"
      }
    },
    {
      "cell_type": "code",
      "source": [
        "from tensorflow.keras.applications.resnet50 import ResNet50"
      ],
      "metadata": {
        "id": "dhjoz48OG66H"
      },
      "execution_count": 32,
      "outputs": []
    },
    {
      "cell_type": "code",
      "source": [
        "resnet = ResNet50(include_top=False,input_shape=(224,224,3))"
      ],
      "metadata": {
        "colab": {
          "base_uri": "https://localhost:8080/"
        },
        "id": "8yTTSHN0G92g",
        "outputId": "dea24327-a49a-4e42-e905-707f9ce1fdf2"
      },
      "execution_count": 33,
      "outputs": [
        {
          "output_type": "stream",
          "name": "stdout",
          "text": [
            "Downloading data from https://storage.googleapis.com/tensorflow/keras-applications/resnet/resnet50_weights_tf_dim_ordering_tf_kernels_notop.h5\n",
            "94765736/94765736 [==============================] - 1s 0us/step\n"
          ]
        }
      ]
    },
    {
      "cell_type": "code",
      "source": [
        "for layer in resnet.layers:\n",
        "  layer.trainable=False"
      ],
      "metadata": {
        "id": "Pt3pyzP6G95E"
      },
      "execution_count": 34,
      "outputs": []
    },
    {
      "cell_type": "code",
      "source": [
        "for layer in resnet.layers:\n",
        "  print(layer)"
      ],
      "metadata": {
        "colab": {
          "base_uri": "https://localhost:8080/"
        },
        "id": "lEVhvCKhG98i",
        "outputId": "a01b4d43-91d0-4102-c5d9-ade242b1c60f"
      },
      "execution_count": 35,
      "outputs": [
        {
          "output_type": "stream",
          "name": "stdout",
          "text": [
            "<keras.engine.input_layer.InputLayer object at 0x7f5420229570>\n",
            "<keras.layers.reshaping.zero_padding2d.ZeroPadding2D object at 0x7f54202294b0>\n",
            "<keras.layers.convolutional.conv2d.Conv2D object at 0x7f5420229a50>\n",
            "<keras.layers.normalization.batch_normalization.BatchNormalization object at 0x7f549029d630>\n",
            "<keras.layers.core.activation.Activation object at 0x7f542022ad10>\n",
            "<keras.layers.reshaping.zero_padding2d.ZeroPadding2D object at 0x7f542022b6d0>\n",
            "<keras.layers.pooling.max_pooling2d.MaxPooling2D object at 0x7f542022b5e0>\n",
            "<keras.layers.convolutional.conv2d.Conv2D object at 0x7f5420236260>\n",
            "<keras.layers.normalization.batch_normalization.BatchNormalization object at 0x7f54202372e0>\n",
            "<keras.layers.core.activation.Activation object at 0x7f5420237e50>\n",
            "<keras.layers.convolutional.conv2d.Conv2D object at 0x7f5420236380>\n",
            "<keras.layers.normalization.batch_normalization.BatchNormalization object at 0x7f542024d930>\n",
            "<keras.layers.core.activation.Activation object at 0x7f5420237d90>\n",
            "<keras.layers.convolutional.conv2d.Conv2D object at 0x7f5420234af0>\n",
            "<keras.layers.convolutional.conv2d.Conv2D object at 0x7f5420237580>\n",
            "<keras.layers.normalization.batch_normalization.BatchNormalization object at 0x7f5420235420>\n",
            "<keras.layers.normalization.batch_normalization.BatchNormalization object at 0x7f5420234d90>\n",
            "<keras.layers.merging.add.Add object at 0x7f54b0570070>\n",
            "<keras.layers.core.activation.Activation object at 0x7f5490199720>\n",
            "<keras.layers.convolutional.conv2d.Conv2D object at 0x7f549021a830>\n",
            "<keras.layers.normalization.batch_normalization.BatchNormalization object at 0x7f542024e7d0>\n",
            "<keras.layers.core.activation.Activation object at 0x7f549029ea70>\n",
            "<keras.layers.convolutional.conv2d.Conv2D object at 0x7f542024fd30>\n",
            "<keras.layers.normalization.batch_normalization.BatchNormalization object at 0x7f542024efe0>\n",
            "<keras.layers.core.activation.Activation object at 0x7f542024d2d0>\n",
            "<keras.layers.convolutional.conv2d.Conv2D object at 0x7f5420269f90>\n",
            "<keras.layers.normalization.batch_normalization.BatchNormalization object at 0x7f542026af80>\n",
            "<keras.layers.merging.add.Add object at 0x7f542026b3a0>\n",
            "<keras.layers.core.activation.Activation object at 0x7f542026b250>\n",
            "<keras.layers.convolutional.conv2d.Conv2D object at 0x7f5420275240>\n",
            "<keras.layers.normalization.batch_normalization.BatchNormalization object at 0x7f5420275d80>\n",
            "<keras.layers.core.activation.Activation object at 0x7f5420275330>\n",
            "<keras.layers.convolutional.conv2d.Conv2D object at 0x7f5420276ad0>\n",
            "<keras.layers.normalization.batch_normalization.BatchNormalization object at 0x7f5420277400>\n",
            "<keras.layers.core.activation.Activation object at 0x7f5420275540>\n",
            "<keras.layers.convolutional.conv2d.Conv2D object at 0x7f5420288e20>\n",
            "<keras.layers.normalization.batch_normalization.BatchNormalization object at 0x7f542028a5f0>\n",
            "<keras.layers.merging.add.Add object at 0x7f542028aa10>\n",
            "<keras.layers.core.activation.Activation object at 0x7f5420288460>\n",
            "<keras.layers.convolutional.conv2d.Conv2D object at 0x7f5420289c00>\n",
            "<keras.layers.normalization.batch_normalization.BatchNormalization object at 0x7f54202a5f60>\n",
            "<keras.layers.core.activation.Activation object at 0x7f54202a74f0>\n",
            "<keras.layers.convolutional.conv2d.Conv2D object at 0x7f54202a62f0>\n",
            "<keras.layers.normalization.batch_normalization.BatchNormalization object at 0x7f54202a7cd0>\n",
            "<keras.layers.core.activation.Activation object at 0x7f54202a5810>\n",
            "<keras.layers.convolutional.conv2d.Conv2D object at 0x7f542028bc70>\n",
            "<keras.layers.convolutional.conv2d.Conv2D object at 0x7f54202b8a00>\n",
            "<keras.layers.normalization.batch_normalization.BatchNormalization object at 0x7f542028b790>\n",
            "<keras.layers.normalization.batch_normalization.BatchNormalization object at 0x7f54202baec0>\n",
            "<keras.layers.merging.add.Add object at 0x7f54202bb2e0>\n",
            "<keras.layers.core.activation.Activation object at 0x7f54202b94b0>\n",
            "<keras.layers.convolutional.conv2d.Conv2D object at 0x7f54202ccb80>\n",
            "<keras.layers.normalization.batch_normalization.BatchNormalization object at 0x7f54202b9630>\n",
            "<keras.layers.core.activation.Activation object at 0x7f54202b8e50>\n",
            "<keras.layers.convolutional.conv2d.Conv2D object at 0x7f54202a64d0>\n",
            "<keras.layers.normalization.batch_normalization.BatchNormalization object at 0x7f5420288520>\n",
            "<keras.layers.core.activation.Activation object at 0x7f54202a42b0>\n",
            "<keras.layers.convolutional.conv2d.Conv2D object at 0x7f542026a500>\n",
            "<keras.layers.normalization.batch_normalization.BatchNormalization object at 0x7f54901990c0>\n",
            "<keras.layers.merging.add.Add object at 0x7f5420277be0>\n",
            "<keras.layers.core.activation.Activation object at 0x7f54202cc190>\n",
            "<keras.layers.convolutional.conv2d.Conv2D object at 0x7f54202ce920>\n",
            "<keras.layers.normalization.batch_normalization.BatchNormalization object at 0x7f54202ce020>\n",
            "<keras.layers.core.activation.Activation object at 0x7f54202cf910>\n",
            "<keras.layers.convolutional.conv2d.Conv2D object at 0x7f54202cf820>\n",
            "<keras.layers.normalization.batch_normalization.BatchNormalization object at 0x7f54202ce050>\n",
            "<keras.layers.core.activation.Activation object at 0x7f54202dd900>\n",
            "<keras.layers.convolutional.conv2d.Conv2D object at 0x7f54202de050>\n",
            "<keras.layers.normalization.batch_normalization.BatchNormalization object at 0x7f54202df010>\n",
            "<keras.layers.merging.add.Add object at 0x7f54202dd960>\n",
            "<keras.layers.core.activation.Activation object at 0x7f54202dfdf0>\n",
            "<keras.layers.convolutional.conv2d.Conv2D object at 0x7f54202df040>\n",
            "<keras.layers.normalization.batch_normalization.BatchNormalization object at 0x7f54202ecf70>\n",
            "<keras.layers.core.activation.Activation object at 0x7f54202dcdc0>\n",
            "<keras.layers.convolutional.conv2d.Conv2D object at 0x7f54202eebc0>\n",
            "<keras.layers.normalization.batch_normalization.BatchNormalization object at 0x7f54202ef430>\n",
            "<keras.layers.core.activation.Activation object at 0x7f54202efb20>\n",
            "<keras.layers.convolutional.conv2d.Conv2D object at 0x7f54202ed4b0>\n",
            "<keras.layers.normalization.batch_normalization.BatchNormalization object at 0x7f5420305ba0>\n",
            "<keras.layers.merging.add.Add object at 0x7f54202ee290>\n",
            "<keras.layers.core.activation.Activation object at 0x7f5420307070>\n",
            "<keras.layers.convolutional.conv2d.Conv2D object at 0x7f54203069b0>\n",
            "<keras.layers.normalization.batch_normalization.BatchNormalization object at 0x7f5420307be0>\n",
            "<keras.layers.core.activation.Activation object at 0x7f54203072b0>\n",
            "<keras.layers.convolutional.conv2d.Conv2D object at 0x7f5420129bd0>\n",
            "<keras.layers.normalization.batch_normalization.BatchNormalization object at 0x7f542012b130>\n",
            "<keras.layers.core.activation.Activation object at 0x7f542012b760>\n",
            "<keras.layers.convolutional.conv2d.Conv2D object at 0x7f5420307250>\n",
            "<keras.layers.convolutional.conv2d.Conv2D object at 0x7f542012bfa0>\n",
            "<keras.layers.normalization.batch_normalization.BatchNormalization object at 0x7f5420304a00>\n",
            "<keras.layers.normalization.batch_normalization.BatchNormalization object at 0x7f542012b7f0>\n",
            "<keras.layers.merging.add.Add object at 0x7f54b0df6c50>\n",
            "<keras.layers.core.activation.Activation object at 0x7f5420307400>\n",
            "<keras.layers.convolutional.conv2d.Conv2D object at 0x7f54201299c0>\n",
            "<keras.layers.normalization.batch_normalization.BatchNormalization object at 0x7f54202ee2f0>\n",
            "<keras.layers.core.activation.Activation object at 0x7f5420304ac0>\n",
            "<keras.layers.convolutional.conv2d.Conv2D object at 0x7f5490287e50>\n",
            "<keras.layers.normalization.batch_normalization.BatchNormalization object at 0x7f5490218e20>\n",
            "<keras.layers.core.activation.Activation object at 0x7f542026be50>\n",
            "<keras.layers.convolutional.conv2d.Conv2D object at 0x7f54202df8e0>\n",
            "<keras.layers.normalization.batch_normalization.BatchNormalization object at 0x7f54202dea10>\n",
            "<keras.layers.merging.add.Add object at 0x7f54202ecb20>\n",
            "<keras.layers.core.activation.Activation object at 0x7f5420146710>\n",
            "<keras.layers.convolutional.conv2d.Conv2D object at 0x7f5420146a10>\n",
            "<keras.layers.normalization.batch_normalization.BatchNormalization object at 0x7f54201477c0>\n",
            "<keras.layers.core.activation.Activation object at 0x7f5420147f40>\n",
            "<keras.layers.convolutional.conv2d.Conv2D object at 0x7f5420147b80>\n",
            "<keras.layers.normalization.batch_normalization.BatchNormalization object at 0x7f54201465f0>\n",
            "<keras.layers.core.activation.Activation object at 0x7f5420146e90>\n",
            "<keras.layers.convolutional.conv2d.Conv2D object at 0x7f54201606a0>\n",
            "<keras.layers.normalization.batch_normalization.BatchNormalization object at 0x7f5420162110>\n",
            "<keras.layers.merging.add.Add object at 0x7f5420146770>\n",
            "<keras.layers.core.activation.Activation object at 0x7f5420161780>\n",
            "<keras.layers.convolutional.conv2d.Conv2D object at 0x7f54201623b0>\n",
            "<keras.layers.normalization.batch_normalization.BatchNormalization object at 0x7f54201638b0>\n",
            "<keras.layers.core.activation.Activation object at 0x7f5420163b20>\n",
            "<keras.layers.convolutional.conv2d.Conv2D object at 0x7f54900eb640>\n",
            "<keras.layers.normalization.batch_normalization.BatchNormalization object at 0x7f5420163ca0>\n",
            "<keras.layers.core.activation.Activation object at 0x7f542017ef50>\n",
            "<keras.layers.convolutional.conv2d.Conv2D object at 0x7f542017dab0>\n",
            "<keras.layers.normalization.batch_normalization.BatchNormalization object at 0x7f542017f130>\n",
            "<keras.layers.merging.add.Add object at 0x7f542017c2e0>\n",
            "<keras.layers.core.activation.Activation object at 0x7f542017c2b0>\n",
            "<keras.layers.convolutional.conv2d.Conv2D object at 0x7f542017d690>\n",
            "<keras.layers.normalization.batch_normalization.BatchNormalization object at 0x7f542017e020>\n",
            "<keras.layers.core.activation.Activation object at 0x7f542017f7f0>\n",
            "<keras.layers.convolutional.conv2d.Conv2D object at 0x7f54201a0100>\n",
            "<keras.layers.normalization.batch_normalization.BatchNormalization object at 0x7f542017f7c0>\n",
            "<keras.layers.core.activation.Activation object at 0x7f542017ea10>\n",
            "<keras.layers.convolutional.conv2d.Conv2D object at 0x7f542017f070>\n",
            "<keras.layers.normalization.batch_normalization.BatchNormalization object at 0x7f5420274f40>\n",
            "<keras.layers.merging.add.Add object at 0x7f5420274fd0>\n",
            "<keras.layers.core.activation.Activation object at 0x7f5420161270>\n",
            "<keras.layers.convolutional.conv2d.Conv2D object at 0x7f5420146380>\n",
            "<keras.layers.normalization.batch_normalization.BatchNormalization object at 0x7f54202ee4d0>\n",
            "<keras.layers.core.activation.Activation object at 0x7f54201619f0>\n",
            "<keras.layers.convolutional.conv2d.Conv2D object at 0x7f54202ee380>\n",
            "<keras.layers.normalization.batch_normalization.BatchNormalization object at 0x7f54201a3f70>\n",
            "<keras.layers.core.activation.Activation object at 0x7f54201a0dc0>\n",
            "<keras.layers.convolutional.conv2d.Conv2D object at 0x7f54201a1e40>\n",
            "<keras.layers.normalization.batch_normalization.BatchNormalization object at 0x7f5420147e80>\n",
            "<keras.layers.merging.add.Add object at 0x7f5420162f80>\n",
            "<keras.layers.core.activation.Activation object at 0x7f5420198e80>\n",
            "<keras.layers.convolutional.conv2d.Conv2D object at 0x7f542019bd90>\n",
            "<keras.layers.normalization.batch_normalization.BatchNormalization object at 0x7f542019af20>\n",
            "<keras.layers.core.activation.Activation object at 0x7f542019ab60>\n",
            "<keras.layers.convolutional.conv2d.Conv2D object at 0x7f5420199ff0>\n",
            "<keras.layers.normalization.batch_normalization.BatchNormalization object at 0x7f54201d6710>\n",
            "<keras.layers.core.activation.Activation object at 0x7f54201d6a10>\n",
            "<keras.layers.convolutional.conv2d.Conv2D object at 0x7f542019a890>\n",
            "<keras.layers.convolutional.conv2d.Conv2D object at 0x7f54201d7340>\n",
            "<keras.layers.normalization.batch_normalization.BatchNormalization object at 0x7f542019b8e0>\n",
            "<keras.layers.normalization.batch_normalization.BatchNormalization object at 0x7f54201d62c0>\n",
            "<keras.layers.merging.add.Add object at 0x7f54201d7400>\n",
            "<keras.layers.core.activation.Activation object at 0x7f54201d7c10>\n",
            "<keras.layers.convolutional.conv2d.Conv2D object at 0x7f54201f1270>\n",
            "<keras.layers.normalization.batch_normalization.BatchNormalization object at 0x7f54201f2830>\n",
            "<keras.layers.core.activation.Activation object at 0x7f54201f23e0>\n",
            "<keras.layers.convolutional.conv2d.Conv2D object at 0x7f54201f3460>\n",
            "<keras.layers.normalization.batch_normalization.BatchNormalization object at 0x7f54201f16c0>\n",
            "<keras.layers.core.activation.Activation object at 0x7f54201f3760>\n",
            "<keras.layers.convolutional.conv2d.Conv2D object at 0x7f54201f1ba0>\n",
            "<keras.layers.normalization.batch_normalization.BatchNormalization object at 0x7f54200140a0>\n",
            "<keras.layers.merging.add.Add object at 0x7f54201f3640>\n",
            "<keras.layers.core.activation.Activation object at 0x7f54200170a0>\n",
            "<keras.layers.convolutional.conv2d.Conv2D object at 0x7f5420016a70>\n",
            "<keras.layers.normalization.batch_normalization.BatchNormalization object at 0x7f5420017610>\n",
            "<keras.layers.core.activation.Activation object at 0x7f5420014520>\n",
            "<keras.layers.convolutional.conv2d.Conv2D object at 0x7f5420017e20>\n",
            "<keras.layers.normalization.batch_normalization.BatchNormalization object at 0x7f54200173a0>\n",
            "<keras.layers.core.activation.Activation object at 0x7f54201f0430>\n",
            "<keras.layers.convolutional.conv2d.Conv2D object at 0x7f54201f0a30>\n",
            "<keras.layers.normalization.batch_normalization.BatchNormalization object at 0x7f54201f0cd0>\n",
            "<keras.layers.merging.add.Add object at 0x7f542012a920>\n",
            "<keras.layers.core.activation.Activation object at 0x7f542019a4a0>\n"
          ]
        }
      ]
    },
    {
      "cell_type": "code",
      "source": [
        "x = Flatten()(resnet.output)"
      ],
      "metadata": {
        "id": "txwuCr7nHNLm"
      },
      "execution_count": 36,
      "outputs": []
    },
    {
      "cell_type": "code",
      "source": [
        "out = Dense(16, activation='softmax')(x)"
      ],
      "metadata": {
        "id": "Of1A6CGqHNQi"
      },
      "execution_count": 37,
      "outputs": []
    },
    {
      "cell_type": "code",
      "source": [
        "res_model = Model(inputs=resnet.input,outputs=out)"
      ],
      "metadata": {
        "id": "ytLpjgZPHNT6"
      },
      "execution_count": 38,
      "outputs": []
    },
    {
      "cell_type": "code",
      "source": [
        "res_model.summary()"
      ],
      "metadata": {
        "colab": {
          "base_uri": "https://localhost:8080/"
        },
        "id": "6a-m1wpSIHw1",
        "outputId": "41afe0cb-8cd2-48d2-e8cd-ba88e9357b67"
      },
      "execution_count": 39,
      "outputs": [
        {
          "output_type": "stream",
          "name": "stdout",
          "text": [
            "Model: \"model_1\"\n",
            "__________________________________________________________________________________________________\n",
            " Layer (type)                   Output Shape         Param #     Connected to                     \n",
            "==================================================================================================\n",
            " input_2 (InputLayer)           [(None, 224, 224, 3  0           []                               \n",
            "                                )]                                                                \n",
            "                                                                                                  \n",
            " conv1_pad (ZeroPadding2D)      (None, 230, 230, 3)  0           ['input_2[0][0]']                \n",
            "                                                                                                  \n",
            " conv1_conv (Conv2D)            (None, 112, 112, 64  9472        ['conv1_pad[0][0]']              \n",
            "                                )                                                                 \n",
            "                                                                                                  \n",
            " conv1_bn (BatchNormalization)  (None, 112, 112, 64  256         ['conv1_conv[0][0]']             \n",
            "                                )                                                                 \n",
            "                                                                                                  \n",
            " conv1_relu (Activation)        (None, 112, 112, 64  0           ['conv1_bn[0][0]']               \n",
            "                                )                                                                 \n",
            "                                                                                                  \n",
            " pool1_pad (ZeroPadding2D)      (None, 114, 114, 64  0           ['conv1_relu[0][0]']             \n",
            "                                )                                                                 \n",
            "                                                                                                  \n",
            " pool1_pool (MaxPooling2D)      (None, 56, 56, 64)   0           ['pool1_pad[0][0]']              \n",
            "                                                                                                  \n",
            " conv2_block1_1_conv (Conv2D)   (None, 56, 56, 64)   4160        ['pool1_pool[0][0]']             \n",
            "                                                                                                  \n",
            " conv2_block1_1_bn (BatchNormal  (None, 56, 56, 64)  256         ['conv2_block1_1_conv[0][0]']    \n",
            " ization)                                                                                         \n",
            "                                                                                                  \n",
            " conv2_block1_1_relu (Activatio  (None, 56, 56, 64)  0           ['conv2_block1_1_bn[0][0]']      \n",
            " n)                                                                                               \n",
            "                                                                                                  \n",
            " conv2_block1_2_conv (Conv2D)   (None, 56, 56, 64)   36928       ['conv2_block1_1_relu[0][0]']    \n",
            "                                                                                                  \n",
            " conv2_block1_2_bn (BatchNormal  (None, 56, 56, 64)  256         ['conv2_block1_2_conv[0][0]']    \n",
            " ization)                                                                                         \n",
            "                                                                                                  \n",
            " conv2_block1_2_relu (Activatio  (None, 56, 56, 64)  0           ['conv2_block1_2_bn[0][0]']      \n",
            " n)                                                                                               \n",
            "                                                                                                  \n",
            " conv2_block1_0_conv (Conv2D)   (None, 56, 56, 256)  16640       ['pool1_pool[0][0]']             \n",
            "                                                                                                  \n",
            " conv2_block1_3_conv (Conv2D)   (None, 56, 56, 256)  16640       ['conv2_block1_2_relu[0][0]']    \n",
            "                                                                                                  \n",
            " conv2_block1_0_bn (BatchNormal  (None, 56, 56, 256)  1024       ['conv2_block1_0_conv[0][0]']    \n",
            " ization)                                                                                         \n",
            "                                                                                                  \n",
            " conv2_block1_3_bn (BatchNormal  (None, 56, 56, 256)  1024       ['conv2_block1_3_conv[0][0]']    \n",
            " ization)                                                                                         \n",
            "                                                                                                  \n",
            " conv2_block1_add (Add)         (None, 56, 56, 256)  0           ['conv2_block1_0_bn[0][0]',      \n",
            "                                                                  'conv2_block1_3_bn[0][0]']      \n",
            "                                                                                                  \n",
            " conv2_block1_out (Activation)  (None, 56, 56, 256)  0           ['conv2_block1_add[0][0]']       \n",
            "                                                                                                  \n",
            " conv2_block2_1_conv (Conv2D)   (None, 56, 56, 64)   16448       ['conv2_block1_out[0][0]']       \n",
            "                                                                                                  \n",
            " conv2_block2_1_bn (BatchNormal  (None, 56, 56, 64)  256         ['conv2_block2_1_conv[0][0]']    \n",
            " ization)                                                                                         \n",
            "                                                                                                  \n",
            " conv2_block2_1_relu (Activatio  (None, 56, 56, 64)  0           ['conv2_block2_1_bn[0][0]']      \n",
            " n)                                                                                               \n",
            "                                                                                                  \n",
            " conv2_block2_2_conv (Conv2D)   (None, 56, 56, 64)   36928       ['conv2_block2_1_relu[0][0]']    \n",
            "                                                                                                  \n",
            " conv2_block2_2_bn (BatchNormal  (None, 56, 56, 64)  256         ['conv2_block2_2_conv[0][0]']    \n",
            " ization)                                                                                         \n",
            "                                                                                                  \n",
            " conv2_block2_2_relu (Activatio  (None, 56, 56, 64)  0           ['conv2_block2_2_bn[0][0]']      \n",
            " n)                                                                                               \n",
            "                                                                                                  \n",
            " conv2_block2_3_conv (Conv2D)   (None, 56, 56, 256)  16640       ['conv2_block2_2_relu[0][0]']    \n",
            "                                                                                                  \n",
            " conv2_block2_3_bn (BatchNormal  (None, 56, 56, 256)  1024       ['conv2_block2_3_conv[0][0]']    \n",
            " ization)                                                                                         \n",
            "                                                                                                  \n",
            " conv2_block2_add (Add)         (None, 56, 56, 256)  0           ['conv2_block1_out[0][0]',       \n",
            "                                                                  'conv2_block2_3_bn[0][0]']      \n",
            "                                                                                                  \n",
            " conv2_block2_out (Activation)  (None, 56, 56, 256)  0           ['conv2_block2_add[0][0]']       \n",
            "                                                                                                  \n",
            " conv2_block3_1_conv (Conv2D)   (None, 56, 56, 64)   16448       ['conv2_block2_out[0][0]']       \n",
            "                                                                                                  \n",
            " conv2_block3_1_bn (BatchNormal  (None, 56, 56, 64)  256         ['conv2_block3_1_conv[0][0]']    \n",
            " ization)                                                                                         \n",
            "                                                                                                  \n",
            " conv2_block3_1_relu (Activatio  (None, 56, 56, 64)  0           ['conv2_block3_1_bn[0][0]']      \n",
            " n)                                                                                               \n",
            "                                                                                                  \n",
            " conv2_block3_2_conv (Conv2D)   (None, 56, 56, 64)   36928       ['conv2_block3_1_relu[0][0]']    \n",
            "                                                                                                  \n",
            " conv2_block3_2_bn (BatchNormal  (None, 56, 56, 64)  256         ['conv2_block3_2_conv[0][0]']    \n",
            " ization)                                                                                         \n",
            "                                                                                                  \n",
            " conv2_block3_2_relu (Activatio  (None, 56, 56, 64)  0           ['conv2_block3_2_bn[0][0]']      \n",
            " n)                                                                                               \n",
            "                                                                                                  \n",
            " conv2_block3_3_conv (Conv2D)   (None, 56, 56, 256)  16640       ['conv2_block3_2_relu[0][0]']    \n",
            "                                                                                                  \n",
            " conv2_block3_3_bn (BatchNormal  (None, 56, 56, 256)  1024       ['conv2_block3_3_conv[0][0]']    \n",
            " ization)                                                                                         \n",
            "                                                                                                  \n",
            " conv2_block3_add (Add)         (None, 56, 56, 256)  0           ['conv2_block2_out[0][0]',       \n",
            "                                                                  'conv2_block3_3_bn[0][0]']      \n",
            "                                                                                                  \n",
            " conv2_block3_out (Activation)  (None, 56, 56, 256)  0           ['conv2_block3_add[0][0]']       \n",
            "                                                                                                  \n",
            " conv3_block1_1_conv (Conv2D)   (None, 28, 28, 128)  32896       ['conv2_block3_out[0][0]']       \n",
            "                                                                                                  \n",
            " conv3_block1_1_bn (BatchNormal  (None, 28, 28, 128)  512        ['conv3_block1_1_conv[0][0]']    \n",
            " ization)                                                                                         \n",
            "                                                                                                  \n",
            " conv3_block1_1_relu (Activatio  (None, 28, 28, 128)  0          ['conv3_block1_1_bn[0][0]']      \n",
            " n)                                                                                               \n",
            "                                                                                                  \n",
            " conv3_block1_2_conv (Conv2D)   (None, 28, 28, 128)  147584      ['conv3_block1_1_relu[0][0]']    \n",
            "                                                                                                  \n",
            " conv3_block1_2_bn (BatchNormal  (None, 28, 28, 128)  512        ['conv3_block1_2_conv[0][0]']    \n",
            " ization)                                                                                         \n",
            "                                                                                                  \n",
            " conv3_block1_2_relu (Activatio  (None, 28, 28, 128)  0          ['conv3_block1_2_bn[0][0]']      \n",
            " n)                                                                                               \n",
            "                                                                                                  \n",
            " conv3_block1_0_conv (Conv2D)   (None, 28, 28, 512)  131584      ['conv2_block3_out[0][0]']       \n",
            "                                                                                                  \n",
            " conv3_block1_3_conv (Conv2D)   (None, 28, 28, 512)  66048       ['conv3_block1_2_relu[0][0]']    \n",
            "                                                                                                  \n",
            " conv3_block1_0_bn (BatchNormal  (None, 28, 28, 512)  2048       ['conv3_block1_0_conv[0][0]']    \n",
            " ization)                                                                                         \n",
            "                                                                                                  \n",
            " conv3_block1_3_bn (BatchNormal  (None, 28, 28, 512)  2048       ['conv3_block1_3_conv[0][0]']    \n",
            " ization)                                                                                         \n",
            "                                                                                                  \n",
            " conv3_block1_add (Add)         (None, 28, 28, 512)  0           ['conv3_block1_0_bn[0][0]',      \n",
            "                                                                  'conv3_block1_3_bn[0][0]']      \n",
            "                                                                                                  \n",
            " conv3_block1_out (Activation)  (None, 28, 28, 512)  0           ['conv3_block1_add[0][0]']       \n",
            "                                                                                                  \n",
            " conv3_block2_1_conv (Conv2D)   (None, 28, 28, 128)  65664       ['conv3_block1_out[0][0]']       \n",
            "                                                                                                  \n",
            " conv3_block2_1_bn (BatchNormal  (None, 28, 28, 128)  512        ['conv3_block2_1_conv[0][0]']    \n",
            " ization)                                                                                         \n",
            "                                                                                                  \n",
            " conv3_block2_1_relu (Activatio  (None, 28, 28, 128)  0          ['conv3_block2_1_bn[0][0]']      \n",
            " n)                                                                                               \n",
            "                                                                                                  \n",
            " conv3_block2_2_conv (Conv2D)   (None, 28, 28, 128)  147584      ['conv3_block2_1_relu[0][0]']    \n",
            "                                                                                                  \n",
            " conv3_block2_2_bn (BatchNormal  (None, 28, 28, 128)  512        ['conv3_block2_2_conv[0][0]']    \n",
            " ization)                                                                                         \n",
            "                                                                                                  \n",
            " conv3_block2_2_relu (Activatio  (None, 28, 28, 128)  0          ['conv3_block2_2_bn[0][0]']      \n",
            " n)                                                                                               \n",
            "                                                                                                  \n",
            " conv3_block2_3_conv (Conv2D)   (None, 28, 28, 512)  66048       ['conv3_block2_2_relu[0][0]']    \n",
            "                                                                                                  \n",
            " conv3_block2_3_bn (BatchNormal  (None, 28, 28, 512)  2048       ['conv3_block2_3_conv[0][0]']    \n",
            " ization)                                                                                         \n",
            "                                                                                                  \n",
            " conv3_block2_add (Add)         (None, 28, 28, 512)  0           ['conv3_block1_out[0][0]',       \n",
            "                                                                  'conv3_block2_3_bn[0][0]']      \n",
            "                                                                                                  \n",
            " conv3_block2_out (Activation)  (None, 28, 28, 512)  0           ['conv3_block2_add[0][0]']       \n",
            "                                                                                                  \n",
            " conv3_block3_1_conv (Conv2D)   (None, 28, 28, 128)  65664       ['conv3_block2_out[0][0]']       \n",
            "                                                                                                  \n",
            " conv3_block3_1_bn (BatchNormal  (None, 28, 28, 128)  512        ['conv3_block3_1_conv[0][0]']    \n",
            " ization)                                                                                         \n",
            "                                                                                                  \n",
            " conv3_block3_1_relu (Activatio  (None, 28, 28, 128)  0          ['conv3_block3_1_bn[0][0]']      \n",
            " n)                                                                                               \n",
            "                                                                                                  \n",
            " conv3_block3_2_conv (Conv2D)   (None, 28, 28, 128)  147584      ['conv3_block3_1_relu[0][0]']    \n",
            "                                                                                                  \n",
            " conv3_block3_2_bn (BatchNormal  (None, 28, 28, 128)  512        ['conv3_block3_2_conv[0][0]']    \n",
            " ization)                                                                                         \n",
            "                                                                                                  \n",
            " conv3_block3_2_relu (Activatio  (None, 28, 28, 128)  0          ['conv3_block3_2_bn[0][0]']      \n",
            " n)                                                                                               \n",
            "                                                                                                  \n",
            " conv3_block3_3_conv (Conv2D)   (None, 28, 28, 512)  66048       ['conv3_block3_2_relu[0][0]']    \n",
            "                                                                                                  \n",
            " conv3_block3_3_bn (BatchNormal  (None, 28, 28, 512)  2048       ['conv3_block3_3_conv[0][0]']    \n",
            " ization)                                                                                         \n",
            "                                                                                                  \n",
            " conv3_block3_add (Add)         (None, 28, 28, 512)  0           ['conv3_block2_out[0][0]',       \n",
            "                                                                  'conv3_block3_3_bn[0][0]']      \n",
            "                                                                                                  \n",
            " conv3_block3_out (Activation)  (None, 28, 28, 512)  0           ['conv3_block3_add[0][0]']       \n",
            "                                                                                                  \n",
            " conv3_block4_1_conv (Conv2D)   (None, 28, 28, 128)  65664       ['conv3_block3_out[0][0]']       \n",
            "                                                                                                  \n",
            " conv3_block4_1_bn (BatchNormal  (None, 28, 28, 128)  512        ['conv3_block4_1_conv[0][0]']    \n",
            " ization)                                                                                         \n",
            "                                                                                                  \n",
            " conv3_block4_1_relu (Activatio  (None, 28, 28, 128)  0          ['conv3_block4_1_bn[0][0]']      \n",
            " n)                                                                                               \n",
            "                                                                                                  \n",
            " conv3_block4_2_conv (Conv2D)   (None, 28, 28, 128)  147584      ['conv3_block4_1_relu[0][0]']    \n",
            "                                                                                                  \n",
            " conv3_block4_2_bn (BatchNormal  (None, 28, 28, 128)  512        ['conv3_block4_2_conv[0][0]']    \n",
            " ization)                                                                                         \n",
            "                                                                                                  \n",
            " conv3_block4_2_relu (Activatio  (None, 28, 28, 128)  0          ['conv3_block4_2_bn[0][0]']      \n",
            " n)                                                                                               \n",
            "                                                                                                  \n",
            " conv3_block4_3_conv (Conv2D)   (None, 28, 28, 512)  66048       ['conv3_block4_2_relu[0][0]']    \n",
            "                                                                                                  \n",
            " conv3_block4_3_bn (BatchNormal  (None, 28, 28, 512)  2048       ['conv3_block4_3_conv[0][0]']    \n",
            " ization)                                                                                         \n",
            "                                                                                                  \n",
            " conv3_block4_add (Add)         (None, 28, 28, 512)  0           ['conv3_block3_out[0][0]',       \n",
            "                                                                  'conv3_block4_3_bn[0][0]']      \n",
            "                                                                                                  \n",
            " conv3_block4_out (Activation)  (None, 28, 28, 512)  0           ['conv3_block4_add[0][0]']       \n",
            "                                                                                                  \n",
            " conv4_block1_1_conv (Conv2D)   (None, 14, 14, 256)  131328      ['conv3_block4_out[0][0]']       \n",
            "                                                                                                  \n",
            " conv4_block1_1_bn (BatchNormal  (None, 14, 14, 256)  1024       ['conv4_block1_1_conv[0][0]']    \n",
            " ization)                                                                                         \n",
            "                                                                                                  \n",
            " conv4_block1_1_relu (Activatio  (None, 14, 14, 256)  0          ['conv4_block1_1_bn[0][0]']      \n",
            " n)                                                                                               \n",
            "                                                                                                  \n",
            " conv4_block1_2_conv (Conv2D)   (None, 14, 14, 256)  590080      ['conv4_block1_1_relu[0][0]']    \n",
            "                                                                                                  \n",
            " conv4_block1_2_bn (BatchNormal  (None, 14, 14, 256)  1024       ['conv4_block1_2_conv[0][0]']    \n",
            " ization)                                                                                         \n",
            "                                                                                                  \n",
            " conv4_block1_2_relu (Activatio  (None, 14, 14, 256)  0          ['conv4_block1_2_bn[0][0]']      \n",
            " n)                                                                                               \n",
            "                                                                                                  \n",
            " conv4_block1_0_conv (Conv2D)   (None, 14, 14, 1024  525312      ['conv3_block4_out[0][0]']       \n",
            "                                )                                                                 \n",
            "                                                                                                  \n",
            " conv4_block1_3_conv (Conv2D)   (None, 14, 14, 1024  263168      ['conv4_block1_2_relu[0][0]']    \n",
            "                                )                                                                 \n",
            "                                                                                                  \n",
            " conv4_block1_0_bn (BatchNormal  (None, 14, 14, 1024  4096       ['conv4_block1_0_conv[0][0]']    \n",
            " ization)                       )                                                                 \n",
            "                                                                                                  \n",
            " conv4_block1_3_bn (BatchNormal  (None, 14, 14, 1024  4096       ['conv4_block1_3_conv[0][0]']    \n",
            " ization)                       )                                                                 \n",
            "                                                                                                  \n",
            " conv4_block1_add (Add)         (None, 14, 14, 1024  0           ['conv4_block1_0_bn[0][0]',      \n",
            "                                )                                 'conv4_block1_3_bn[0][0]']      \n",
            "                                                                                                  \n",
            " conv4_block1_out (Activation)  (None, 14, 14, 1024  0           ['conv4_block1_add[0][0]']       \n",
            "                                )                                                                 \n",
            "                                                                                                  \n",
            " conv4_block2_1_conv (Conv2D)   (None, 14, 14, 256)  262400      ['conv4_block1_out[0][0]']       \n",
            "                                                                                                  \n",
            " conv4_block2_1_bn (BatchNormal  (None, 14, 14, 256)  1024       ['conv4_block2_1_conv[0][0]']    \n",
            " ization)                                                                                         \n",
            "                                                                                                  \n",
            " conv4_block2_1_relu (Activatio  (None, 14, 14, 256)  0          ['conv4_block2_1_bn[0][0]']      \n",
            " n)                                                                                               \n",
            "                                                                                                  \n",
            " conv4_block2_2_conv (Conv2D)   (None, 14, 14, 256)  590080      ['conv4_block2_1_relu[0][0]']    \n",
            "                                                                                                  \n",
            " conv4_block2_2_bn (BatchNormal  (None, 14, 14, 256)  1024       ['conv4_block2_2_conv[0][0]']    \n",
            " ization)                                                                                         \n",
            "                                                                                                  \n",
            " conv4_block2_2_relu (Activatio  (None, 14, 14, 256)  0          ['conv4_block2_2_bn[0][0]']      \n",
            " n)                                                                                               \n",
            "                                                                                                  \n",
            " conv4_block2_3_conv (Conv2D)   (None, 14, 14, 1024  263168      ['conv4_block2_2_relu[0][0]']    \n",
            "                                )                                                                 \n",
            "                                                                                                  \n",
            " conv4_block2_3_bn (BatchNormal  (None, 14, 14, 1024  4096       ['conv4_block2_3_conv[0][0]']    \n",
            " ization)                       )                                                                 \n",
            "                                                                                                  \n",
            " conv4_block2_add (Add)         (None, 14, 14, 1024  0           ['conv4_block1_out[0][0]',       \n",
            "                                )                                 'conv4_block2_3_bn[0][0]']      \n",
            "                                                                                                  \n",
            " conv4_block2_out (Activation)  (None, 14, 14, 1024  0           ['conv4_block2_add[0][0]']       \n",
            "                                )                                                                 \n",
            "                                                                                                  \n",
            " conv4_block3_1_conv (Conv2D)   (None, 14, 14, 256)  262400      ['conv4_block2_out[0][0]']       \n",
            "                                                                                                  \n",
            " conv4_block3_1_bn (BatchNormal  (None, 14, 14, 256)  1024       ['conv4_block3_1_conv[0][0]']    \n",
            " ization)                                                                                         \n",
            "                                                                                                  \n",
            " conv4_block3_1_relu (Activatio  (None, 14, 14, 256)  0          ['conv4_block3_1_bn[0][0]']      \n",
            " n)                                                                                               \n",
            "                                                                                                  \n",
            " conv4_block3_2_conv (Conv2D)   (None, 14, 14, 256)  590080      ['conv4_block3_1_relu[0][0]']    \n",
            "                                                                                                  \n",
            " conv4_block3_2_bn (BatchNormal  (None, 14, 14, 256)  1024       ['conv4_block3_2_conv[0][0]']    \n",
            " ization)                                                                                         \n",
            "                                                                                                  \n",
            " conv4_block3_2_relu (Activatio  (None, 14, 14, 256)  0          ['conv4_block3_2_bn[0][0]']      \n",
            " n)                                                                                               \n",
            "                                                                                                  \n",
            " conv4_block3_3_conv (Conv2D)   (None, 14, 14, 1024  263168      ['conv4_block3_2_relu[0][0]']    \n",
            "                                )                                                                 \n",
            "                                                                                                  \n",
            " conv4_block3_3_bn (BatchNormal  (None, 14, 14, 1024  4096       ['conv4_block3_3_conv[0][0]']    \n",
            " ization)                       )                                                                 \n",
            "                                                                                                  \n",
            " conv4_block3_add (Add)         (None, 14, 14, 1024  0           ['conv4_block2_out[0][0]',       \n",
            "                                )                                 'conv4_block3_3_bn[0][0]']      \n",
            "                                                                                                  \n",
            " conv4_block3_out (Activation)  (None, 14, 14, 1024  0           ['conv4_block3_add[0][0]']       \n",
            "                                )                                                                 \n",
            "                                                                                                  \n",
            " conv4_block4_1_conv (Conv2D)   (None, 14, 14, 256)  262400      ['conv4_block3_out[0][0]']       \n",
            "                                                                                                  \n",
            " conv4_block4_1_bn (BatchNormal  (None, 14, 14, 256)  1024       ['conv4_block4_1_conv[0][0]']    \n",
            " ization)                                                                                         \n",
            "                                                                                                  \n",
            " conv4_block4_1_relu (Activatio  (None, 14, 14, 256)  0          ['conv4_block4_1_bn[0][0]']      \n",
            " n)                                                                                               \n",
            "                                                                                                  \n",
            " conv4_block4_2_conv (Conv2D)   (None, 14, 14, 256)  590080      ['conv4_block4_1_relu[0][0]']    \n",
            "                                                                                                  \n",
            " conv4_block4_2_bn (BatchNormal  (None, 14, 14, 256)  1024       ['conv4_block4_2_conv[0][0]']    \n",
            " ization)                                                                                         \n",
            "                                                                                                  \n",
            " conv4_block4_2_relu (Activatio  (None, 14, 14, 256)  0          ['conv4_block4_2_bn[0][0]']      \n",
            " n)                                                                                               \n",
            "                                                                                                  \n",
            " conv4_block4_3_conv (Conv2D)   (None, 14, 14, 1024  263168      ['conv4_block4_2_relu[0][0]']    \n",
            "                                )                                                                 \n",
            "                                                                                                  \n",
            " conv4_block4_3_bn (BatchNormal  (None, 14, 14, 1024  4096       ['conv4_block4_3_conv[0][0]']    \n",
            " ization)                       )                                                                 \n",
            "                                                                                                  \n",
            " conv4_block4_add (Add)         (None, 14, 14, 1024  0           ['conv4_block3_out[0][0]',       \n",
            "                                )                                 'conv4_block4_3_bn[0][0]']      \n",
            "                                                                                                  \n",
            " conv4_block4_out (Activation)  (None, 14, 14, 1024  0           ['conv4_block4_add[0][0]']       \n",
            "                                )                                                                 \n",
            "                                                                                                  \n",
            " conv4_block5_1_conv (Conv2D)   (None, 14, 14, 256)  262400      ['conv4_block4_out[0][0]']       \n",
            "                                                                                                  \n",
            " conv4_block5_1_bn (BatchNormal  (None, 14, 14, 256)  1024       ['conv4_block5_1_conv[0][0]']    \n",
            " ization)                                                                                         \n",
            "                                                                                                  \n",
            " conv4_block5_1_relu (Activatio  (None, 14, 14, 256)  0          ['conv4_block5_1_bn[0][0]']      \n",
            " n)                                                                                               \n",
            "                                                                                                  \n",
            " conv4_block5_2_conv (Conv2D)   (None, 14, 14, 256)  590080      ['conv4_block5_1_relu[0][0]']    \n",
            "                                                                                                  \n",
            " conv4_block5_2_bn (BatchNormal  (None, 14, 14, 256)  1024       ['conv4_block5_2_conv[0][0]']    \n",
            " ization)                                                                                         \n",
            "                                                                                                  \n",
            " conv4_block5_2_relu (Activatio  (None, 14, 14, 256)  0          ['conv4_block5_2_bn[0][0]']      \n",
            " n)                                                                                               \n",
            "                                                                                                  \n",
            " conv4_block5_3_conv (Conv2D)   (None, 14, 14, 1024  263168      ['conv4_block5_2_relu[0][0]']    \n",
            "                                )                                                                 \n",
            "                                                                                                  \n",
            " conv4_block5_3_bn (BatchNormal  (None, 14, 14, 1024  4096       ['conv4_block5_3_conv[0][0]']    \n",
            " ization)                       )                                                                 \n",
            "                                                                                                  \n",
            " conv4_block5_add (Add)         (None, 14, 14, 1024  0           ['conv4_block4_out[0][0]',       \n",
            "                                )                                 'conv4_block5_3_bn[0][0]']      \n",
            "                                                                                                  \n",
            " conv4_block5_out (Activation)  (None, 14, 14, 1024  0           ['conv4_block5_add[0][0]']       \n",
            "                                )                                                                 \n",
            "                                                                                                  \n",
            " conv4_block6_1_conv (Conv2D)   (None, 14, 14, 256)  262400      ['conv4_block5_out[0][0]']       \n",
            "                                                                                                  \n",
            " conv4_block6_1_bn (BatchNormal  (None, 14, 14, 256)  1024       ['conv4_block6_1_conv[0][0]']    \n",
            " ization)                                                                                         \n",
            "                                                                                                  \n",
            " conv4_block6_1_relu (Activatio  (None, 14, 14, 256)  0          ['conv4_block6_1_bn[0][0]']      \n",
            " n)                                                                                               \n",
            "                                                                                                  \n",
            " conv4_block6_2_conv (Conv2D)   (None, 14, 14, 256)  590080      ['conv4_block6_1_relu[0][0]']    \n",
            "                                                                                                  \n",
            " conv4_block6_2_bn (BatchNormal  (None, 14, 14, 256)  1024       ['conv4_block6_2_conv[0][0]']    \n",
            " ization)                                                                                         \n",
            "                                                                                                  \n",
            " conv4_block6_2_relu (Activatio  (None, 14, 14, 256)  0          ['conv4_block6_2_bn[0][0]']      \n",
            " n)                                                                                               \n",
            "                                                                                                  \n",
            " conv4_block6_3_conv (Conv2D)   (None, 14, 14, 1024  263168      ['conv4_block6_2_relu[0][0]']    \n",
            "                                )                                                                 \n",
            "                                                                                                  \n",
            " conv4_block6_3_bn (BatchNormal  (None, 14, 14, 1024  4096       ['conv4_block6_3_conv[0][0]']    \n",
            " ization)                       )                                                                 \n",
            "                                                                                                  \n",
            " conv4_block6_add (Add)         (None, 14, 14, 1024  0           ['conv4_block5_out[0][0]',       \n",
            "                                )                                 'conv4_block6_3_bn[0][0]']      \n",
            "                                                                                                  \n",
            " conv4_block6_out (Activation)  (None, 14, 14, 1024  0           ['conv4_block6_add[0][0]']       \n",
            "                                )                                                                 \n",
            "                                                                                                  \n",
            " conv5_block1_1_conv (Conv2D)   (None, 7, 7, 512)    524800      ['conv4_block6_out[0][0]']       \n",
            "                                                                                                  \n",
            " conv5_block1_1_bn (BatchNormal  (None, 7, 7, 512)   2048        ['conv5_block1_1_conv[0][0]']    \n",
            " ization)                                                                                         \n",
            "                                                                                                  \n",
            " conv5_block1_1_relu (Activatio  (None, 7, 7, 512)   0           ['conv5_block1_1_bn[0][0]']      \n",
            " n)                                                                                               \n",
            "                                                                                                  \n",
            " conv5_block1_2_conv (Conv2D)   (None, 7, 7, 512)    2359808     ['conv5_block1_1_relu[0][0]']    \n",
            "                                                                                                  \n",
            " conv5_block1_2_bn (BatchNormal  (None, 7, 7, 512)   2048        ['conv5_block1_2_conv[0][0]']    \n",
            " ization)                                                                                         \n",
            "                                                                                                  \n",
            " conv5_block1_2_relu (Activatio  (None, 7, 7, 512)   0           ['conv5_block1_2_bn[0][0]']      \n",
            " n)                                                                                               \n",
            "                                                                                                  \n",
            " conv5_block1_0_conv (Conv2D)   (None, 7, 7, 2048)   2099200     ['conv4_block6_out[0][0]']       \n",
            "                                                                                                  \n",
            " conv5_block1_3_conv (Conv2D)   (None, 7, 7, 2048)   1050624     ['conv5_block1_2_relu[0][0]']    \n",
            "                                                                                                  \n",
            " conv5_block1_0_bn (BatchNormal  (None, 7, 7, 2048)  8192        ['conv5_block1_0_conv[0][0]']    \n",
            " ization)                                                                                         \n",
            "                                                                                                  \n",
            " conv5_block1_3_bn (BatchNormal  (None, 7, 7, 2048)  8192        ['conv5_block1_3_conv[0][0]']    \n",
            " ization)                                                                                         \n",
            "                                                                                                  \n",
            " conv5_block1_add (Add)         (None, 7, 7, 2048)   0           ['conv5_block1_0_bn[0][0]',      \n",
            "                                                                  'conv5_block1_3_bn[0][0]']      \n",
            "                                                                                                  \n",
            " conv5_block1_out (Activation)  (None, 7, 7, 2048)   0           ['conv5_block1_add[0][0]']       \n",
            "                                                                                                  \n",
            " conv5_block2_1_conv (Conv2D)   (None, 7, 7, 512)    1049088     ['conv5_block1_out[0][0]']       \n",
            "                                                                                                  \n",
            " conv5_block2_1_bn (BatchNormal  (None, 7, 7, 512)   2048        ['conv5_block2_1_conv[0][0]']    \n",
            " ization)                                                                                         \n",
            "                                                                                                  \n",
            " conv5_block2_1_relu (Activatio  (None, 7, 7, 512)   0           ['conv5_block2_1_bn[0][0]']      \n",
            " n)                                                                                               \n",
            "                                                                                                  \n",
            " conv5_block2_2_conv (Conv2D)   (None, 7, 7, 512)    2359808     ['conv5_block2_1_relu[0][0]']    \n",
            "                                                                                                  \n",
            " conv5_block2_2_bn (BatchNormal  (None, 7, 7, 512)   2048        ['conv5_block2_2_conv[0][0]']    \n",
            " ization)                                                                                         \n",
            "                                                                                                  \n",
            " conv5_block2_2_relu (Activatio  (None, 7, 7, 512)   0           ['conv5_block2_2_bn[0][0]']      \n",
            " n)                                                                                               \n",
            "                                                                                                  \n",
            " conv5_block2_3_conv (Conv2D)   (None, 7, 7, 2048)   1050624     ['conv5_block2_2_relu[0][0]']    \n",
            "                                                                                                  \n",
            " conv5_block2_3_bn (BatchNormal  (None, 7, 7, 2048)  8192        ['conv5_block2_3_conv[0][0]']    \n",
            " ization)                                                                                         \n",
            "                                                                                                  \n",
            " conv5_block2_add (Add)         (None, 7, 7, 2048)   0           ['conv5_block1_out[0][0]',       \n",
            "                                                                  'conv5_block2_3_bn[0][0]']      \n",
            "                                                                                                  \n",
            " conv5_block2_out (Activation)  (None, 7, 7, 2048)   0           ['conv5_block2_add[0][0]']       \n",
            "                                                                                                  \n",
            " conv5_block3_1_conv (Conv2D)   (None, 7, 7, 512)    1049088     ['conv5_block2_out[0][0]']       \n",
            "                                                                                                  \n",
            " conv5_block3_1_bn (BatchNormal  (None, 7, 7, 512)   2048        ['conv5_block3_1_conv[0][0]']    \n",
            " ization)                                                                                         \n",
            "                                                                                                  \n",
            " conv5_block3_1_relu (Activatio  (None, 7, 7, 512)   0           ['conv5_block3_1_bn[0][0]']      \n",
            " n)                                                                                               \n",
            "                                                                                                  \n",
            " conv5_block3_2_conv (Conv2D)   (None, 7, 7, 512)    2359808     ['conv5_block3_1_relu[0][0]']    \n",
            "                                                                                                  \n",
            " conv5_block3_2_bn (BatchNormal  (None, 7, 7, 512)   2048        ['conv5_block3_2_conv[0][0]']    \n",
            " ization)                                                                                         \n",
            "                                                                                                  \n",
            " conv5_block3_2_relu (Activatio  (None, 7, 7, 512)   0           ['conv5_block3_2_bn[0][0]']      \n",
            " n)                                                                                               \n",
            "                                                                                                  \n",
            " conv5_block3_3_conv (Conv2D)   (None, 7, 7, 2048)   1050624     ['conv5_block3_2_relu[0][0]']    \n",
            "                                                                                                  \n",
            " conv5_block3_3_bn (BatchNormal  (None, 7, 7, 2048)  8192        ['conv5_block3_3_conv[0][0]']    \n",
            " ization)                                                                                         \n",
            "                                                                                                  \n",
            " conv5_block3_add (Add)         (None, 7, 7, 2048)   0           ['conv5_block2_out[0][0]',       \n",
            "                                                                  'conv5_block3_3_bn[0][0]']      \n",
            "                                                                                                  \n",
            " conv5_block3_out (Activation)  (None, 7, 7, 2048)   0           ['conv5_block3_add[0][0]']       \n",
            "                                                                                                  \n",
            " flatten_4 (Flatten)            (None, 100352)       0           ['conv5_block3_out[0][0]']       \n",
            "                                                                                                  \n",
            " dense_9 (Dense)                (None, 16)           1605648     ['flatten_4[0][0]']              \n",
            "                                                                                                  \n",
            "==================================================================================================\n",
            "Total params: 25,193,360\n",
            "Trainable params: 1,605,648\n",
            "Non-trainable params: 23,587,712\n",
            "__________________________________________________________________________________________________\n"
          ]
        }
      ]
    },
    {
      "cell_type": "code",
      "source": [
        "res_model.compile(loss='categorical_crossentropy',optimizer='adam',metrics=['accuracy'])"
      ],
      "metadata": {
        "id": "Z6iBbH9GIHqN"
      },
      "execution_count": 40,
      "outputs": []
    },
    {
      "cell_type": "code",
      "source": [
        "res_model.fit(train,epochs=5,validation_data=test,steps_per_epoch=len(train),\n",
        "              validation_steps=len(test))"
      ],
      "metadata": {
        "colab": {
          "base_uri": "https://localhost:8080/"
        },
        "id": "gewfDLF3IPJ4",
        "outputId": "76b8828d-a916-4b8b-b8a8-2320765d3ff9"
      },
      "execution_count": 41,
      "outputs": [
        {
          "output_type": "stream",
          "name": "stdout",
          "text": [
            "Epoch 1/5\n",
            "7/7 [==============================] - 106s 15s/step - loss: 13.5420 - accuracy: 0.0800 - val_loss: 14.0580 - val_accuracy: 0.1338\n",
            "Epoch 2/5\n",
            "7/7 [==============================] - 86s 13s/step - loss: 12.8468 - accuracy: 0.1600 - val_loss: 14.8511 - val_accuracy: 0.0764\n",
            "Epoch 3/5\n",
            "7/7 [==============================] - 86s 13s/step - loss: 12.2949 - accuracy: 0.1733 - val_loss: 11.2668 - val_accuracy: 0.1401\n",
            "Epoch 4/5\n",
            "7/7 [==============================] - 85s 14s/step - loss: 7.5202 - accuracy: 0.1733 - val_loss: 6.4487 - val_accuracy: 0.0764\n",
            "Epoch 5/5\n",
            "7/7 [==============================] - 86s 13s/step - loss: 4.2642 - accuracy: 0.2133 - val_loss: 6.1905 - val_accuracy: 0.1401\n"
          ]
        },
        {
          "output_type": "execute_result",
          "data": {
            "text/plain": [
              "<keras.callbacks.History at 0x7f54200ba200>"
            ]
          },
          "metadata": {},
          "execution_count": 41
        }
      ]
    }
  ]
}