{
  "nbformat": 4,
  "nbformat_minor": 0,
  "metadata": {
    "colab": {
      "provenance": [],
      "gpuType": "T4"
    },
    "kernelspec": {
      "name": "python3",
      "display_name": "Python 3"
    },
    "language_info": {
      "name": "python"
    },
    "accelerator": "GPU"
  },
  "cells": [
    {
      "cell_type": "code",
      "execution_count": null,
      "metadata": {
        "colab": {
          "base_uri": "https://localhost:8080/"
        },
        "id": "qHrDXkux8PKe",
        "outputId": "ecaa6280-4be7-4b00-ee09-2370ca8636df"
      },
      "outputs": [
        {
          "output_type": "stream",
          "name": "stdout",
          "text": [
            "Archive:  /content/drive/MyDrive/Datasets/archive_2.zip\n",
            "  inflating: test_data/test_data/blasti/DSC_6396.jpg  \n",
            "  inflating: test_data/test_data/blasti/DSC_6397.jpg  \n",
            "  inflating: test_data/test_data/blasti/DSC_6398.jpg  \n",
            "  inflating: test_data/test_data/blasti/DSC_6399.jpg  \n",
            "  inflating: test_data/test_data/blasti/DSC_6400.jpg  \n",
            "  inflating: test_data/test_data/blasti/DSC_6401.jpg  \n",
            "  inflating: test_data/test_data/blasti/DSC_6402.jpg  \n",
            "  inflating: test_data/test_data/blasti/DSC_6403.jpg  \n",
            "  inflating: test_data/test_data/blasti/DSC_6405.jpg  \n",
            "  inflating: test_data/test_data/blasti/DSC_6406.jpg  \n",
            "  inflating: test_data/test_data/blasti/DSC_6407.jpg  \n",
            "  inflating: test_data/test_data/blasti/DSC_6408.jpg  \n",
            "  inflating: test_data/test_data/blasti/DSC_6409.jpg  \n",
            "  inflating: test_data/test_data/blasti/DSC_6410.jpg  \n",
            "  inflating: test_data/test_data/blasti/DSC_6411.jpg  \n",
            "  inflating: test_data/test_data/bonegl/DSC_4587.jpg  \n",
            "  inflating: test_data/test_data/bonegl/DSC_4588.jpg  \n",
            "  inflating: test_data/test_data/bonegl/DSC_4589.jpg  \n",
            "  inflating: test_data/test_data/bonegl/DSC_4590.jpg  \n",
            "  inflating: test_data/test_data/bonegl/DSC_4591.jpg  \n",
            "  inflating: test_data/test_data/bonegl/DSC_4592.jpg  \n",
            "  inflating: test_data/test_data/bonegl/DSC_4593.jpg  \n",
            "  inflating: test_data/test_data/brhkyt/D72_0473.jpg  \n",
            "  inflating: test_data/test_data/brhkyt/D72_0474.jpg  \n",
            "  inflating: test_data/test_data/brhkyt/D72_0475.jpg  \n",
            "  inflating: test_data/test_data/brhkyt/D72_0477.jpg  \n",
            "  inflating: test_data/test_data/brhkyt/D72_0478.jpg  \n",
            "  inflating: test_data/test_data/brhkyt/D72_0479.jpg  \n",
            "  inflating: test_data/test_data/cbrtsh/_D32_10310.jpg  \n",
            "  inflating: test_data/test_data/cbrtsh/_D32_10311.jpg  \n",
            "  inflating: test_data/test_data/cbrtsh/_D32_10312.jpg  \n",
            "  inflating: test_data/test_data/cbrtsh/_D32_10313.jpg  \n",
            "  inflating: test_data/test_data/cbrtsh/_D32_10314.jpg  \n",
            "  inflating: test_data/test_data/cbrtsh/_D32_10317.jpg  \n",
            "  inflating: test_data/test_data/cbrtsh/_D32_10318.jpg  \n",
            "  inflating: test_data/test_data/cmnmyn/DSC_2443.jpg  \n",
            "  inflating: test_data/test_data/cmnmyn/DSC_4681.jpg  \n",
            "  inflating: test_data/test_data/cmnmyn/DSC_5137.jpg  \n",
            "  inflating: test_data/test_data/cmnmyn/DSC_7625.jpg  \n",
            "  inflating: test_data/test_data/cmnmyn/P1050277.jpg  \n",
            "  inflating: test_data/test_data/cmnmyn/_D32_12426.jpg  \n",
            "  inflating: test_data/test_data/cmnmyn/_D32_12427.jpg  \n",
            "  inflating: test_data/test_data/cmnmyn/_D32_12428.jpg  \n",
            "  inflating: test_data/test_data/gretit/11620454726_31a35c26da_o.jpg  \n",
            "  inflating: test_data/test_data/gretit/11776135285_ccf938fa2e_o.jpg  \n",
            "  inflating: test_data/test_data/gretit/11905645146_6a5d4ff9f9_o.jpg  \n",
            "  inflating: test_data/test_data/gretit/8537646712_0b282c4c6a_o.jpg  \n",
            "  inflating: test_data/test_data/gretit/D72_0693.jpg  \n",
            "  inflating: test_data/test_data/gretit/D72_0694.jpg  \n",
            "  inflating: test_data/test_data/gretit/D72_0695.jpg  \n",
            "  inflating: test_data/test_data/hilpig/DSC_6359.jpg  \n",
            "  inflating: test_data/test_data/hilpig/DSC_6362.jpg  \n",
            "  inflating: test_data/test_data/hilpig/DSC_6364.jpg  \n",
            "  inflating: test_data/test_data/hilpig/DSC_6368.jpg  \n",
            "  inflating: test_data/test_data/hilpig/DSC_6403.jpg  \n",
            "  inflating: test_data/test_data/hilpig/DSC_6404.jpg  \n",
            "  inflating: test_data/test_data/hilpig/P1000319.jpg  \n",
            "  inflating: test_data/test_data/hilpig/P1000323.jpg  \n",
            "  inflating: test_data/test_data/hilpig/P1050044.jpg  \n",
            "  inflating: test_data/test_data/hilpig/P1050045.jpg  \n",
            "  inflating: test_data/test_data/himbul/11602064885_3826df4500_o.jpg  \n",
            "  inflating: test_data/test_data/himbul/11619942574_42f23a7b05_o.jpg  \n",
            "  inflating: test_data/test_data/himbul/11620097904_33fa8ee878_o.jpg  \n",
            "  inflating: test_data/test_data/himbul/5857371972_ed4f88b275_o.jpg  \n",
            "  inflating: test_data/test_data/himbul/6154954471_eefe6e00d1_o.jpg  \n",
            "  inflating: test_data/test_data/himbul/D72_0688.jpg  \n",
            "  inflating: test_data/test_data/himbul/D72_0691.jpg  \n",
            "  inflating: test_data/test_data/himbul/DSC08357.jpg  \n",
            "  inflating: test_data/test_data/himbul/DSC_3230.jpg  \n",
            "  inflating: test_data/test_data/himbul/DSC_7439.jpg  \n",
            "  inflating: test_data/test_data/himbul/DSC_7602.jpg  \n",
            "  inflating: test_data/test_data/himbul/P1060368.jpg  \n",
            "  inflating: test_data/test_data/himbul/P1060369.jpg  \n",
            "  inflating: test_data/test_data/himbul/_D32_10242.jpg  \n",
            "  inflating: test_data/test_data/himbul/_D32_10245.jpg  \n",
            "  inflating: test_data/test_data/himbul/_D32_10251.jpg  \n",
            "  inflating: test_data/test_data/himbul/_D32_10319.jpg  \n",
            "  inflating: test_data/test_data/himbul/_D32_10320.jpg  \n",
            "  inflating: test_data/test_data/himbul/_DSC9446.jpg  \n",
            "  inflating: test_data/test_data/himgri/IMG_5384.JPG  \n",
            "  inflating: test_data/test_data/himgri/IMG_5385.JPG  \n",
            "  inflating: test_data/test_data/himgri/IMG_5386.JPG  \n",
            "  inflating: test_data/test_data/himgri/IMG_5387.JPG  \n",
            "  inflating: test_data/test_data/himgri/IMG_5459.JPG  \n",
            "  inflating: test_data/test_data/himgri/IMG_5460.JPG  \n",
            "  inflating: test_data/test_data/himgri/IMG_5487.JPG  \n",
            "  inflating: test_data/test_data/himgri/IMG_5488.JPG  \n",
            "  inflating: test_data/test_data/himgri/IMG_5489.JPG  \n",
            "  inflating: test_data/test_data/himgri/IMG_5490.JPG  \n",
            "  inflating: test_data/test_data/himgri/IMG_5491.JPG  \n",
            "  inflating: test_data/test_data/himgri/IMG_5492.JPG  \n",
            "  inflating: test_data/test_data/himgri/P1020742.jpg  \n",
            "  inflating: test_data/test_data/himgri/P1020743.jpg  \n",
            "  inflating: test_data/test_data/himgri/P1020746.jpg  \n",
            "  inflating: test_data/test_data/himgri/P1020748.jpg  \n",
            "  inflating: test_data/test_data/himgri/P1030055.jpg  \n",
            "  inflating: test_data/test_data/himgri/P1060776.jpg  \n",
            "  inflating: test_data/test_data/himgri/P1060777.jpg  \n",
            "  inflating: test_data/test_data/himgri/P1060778.jpg  \n",
            "  inflating: test_data/test_data/hsparo/100_5573.JPG  \n",
            "  inflating: test_data/test_data/hsparo/100_5585.JPG  \n",
            "  inflating: test_data/test_data/hsparo/100_5586.JPG  \n",
            "  inflating: test_data/test_data/hsparo/100_5742.JPG  \n",
            "  inflating: test_data/test_data/hsparo/12265273154_48e0fefd42_o.jpg  \n",
            "  inflating: test_data/test_data/hsparo/DSC_4521.jpg  \n",
            "  inflating: test_data/test_data/hsparo/DSC_7619.jpg  \n",
            "  inflating: test_data/test_data/hsparo/_DSC_11244.jpg  \n",
            "  inflating: test_data/test_data/hsparo/_DSC_11246.jpg  \n",
            "  inflating: test_data/test_data/indvul/DSC_1263.jpg  \n",
            "  inflating: test_data/test_data/indvul/DSC_1273.jpg  \n",
            "  inflating: test_data/test_data/indvul/DSC_1274.jpg  \n",
            "  inflating: test_data/test_data/indvul/DSC_1275.jpg  \n",
            "  inflating: test_data/test_data/indvul/DSC_1277.jpg  \n",
            "  inflating: test_data/test_data/indvul/_DSC8754.jpg  \n",
            "  inflating: test_data/test_data/indvul/_DSC9520.jpg  \n",
            "  inflating: test_data/test_data/indvul/_DSC9521.jpg  \n",
            "  inflating: test_data/test_data/indvul/_DSC9523.jpg  \n",
            "  inflating: test_data/test_data/jglowl/_D32_10584.jpg  \n",
            "  inflating: test_data/test_data/jglowl/_D32_10587.jpg  \n",
            "  inflating: test_data/test_data/jglowl/_D32_10593.jpg  \n",
            "  inflating: test_data/test_data/jglowl/_D32_13515.jpg  \n",
            "  inflating: test_data/test_data/jglowl/_D32_13516.jpg  \n",
            "  inflating: test_data/test_data/jglowl/_D32_13517.jpg  \n",
            "  inflating: test_data/test_data/lbicrw/100_4917.JPG  \n",
            "  inflating: test_data/test_data/lbicrw/IMG_5538.JPG  \n",
            "  inflating: test_data/test_data/lbicrw/IMG_5541.JPG  \n",
            "  inflating: test_data/test_data/lbicrw/IMG_5543.JPG  \n",
            "  inflating: test_data/test_data/lbicrw/IMG_5544.JPG  \n",
            "  inflating: test_data/test_data/lbicrw/P1030030.jpg  \n",
            "  inflating: test_data/test_data/mgprob/100_5811.JPG  \n",
            "  inflating: test_data/test_data/mgprob/100_5812.JPG  \n",
            "  inflating: test_data/test_data/mgprob/100_5813.JPG  \n",
            "  inflating: test_data/test_data/mgprob/DSC_3233.jpg  \n",
            "  inflating: test_data/test_data/mgprob/_DSC0085.jpg  \n",
            "  inflating: test_data/test_data/mgprob/_DSC0133.jpg  \n",
            "  inflating: test_data/test_data/mgprob/_DSC0135.jpg  \n",
            "  inflating: test_data/test_data/rebimg/100_5756.JPG  \n",
            "  inflating: test_data/test_data/rebimg/100_5757.JPG  \n",
            "  inflating: test_data/test_data/rebimg/100_5758.JPG  \n",
            "  inflating: test_data/test_data/rebimg/100_5759.JPG  \n",
            "  inflating: test_data/test_data/rebimg/100_5760.JPG  \n",
            "  inflating: test_data/test_data/rebimg/13009302395_5d88a9d62b_o.jpg  \n",
            "  inflating: test_data/test_data/rebimg/13009315305_f1cbfb6767_o.jpg  \n",
            "  inflating: test_data/test_data/rebimg/13009451823_8eb502581f_o.jpg  \n",
            "  inflating: test_data/test_data/rebimg/DSC_7148.jpg  \n",
            "  inflating: test_data/test_data/rebimg/IMG_5251.JPG  \n",
            "  inflating: test_data/test_data/rebimg/IMG_5252.JPG  \n",
            "  inflating: test_data/test_data/wcrsrt/100_4462.JPG  \n",
            "  inflating: test_data/test_data/wcrsrt/100_4463.JPG  \n",
            "  inflating: test_data/test_data/wcrsrt/100_4464.JPG  \n",
            "  inflating: test_data/test_data/wcrsrt/100_4466.JPG  \n",
            "  inflating: test_data/test_data/wcrsrt/100_4467.JPG  \n",
            "  inflating: test_data/test_data/wcrsrt/100_4468.JPG  \n",
            "  inflating: test_data/test_data/wcrsrt/100_5103.JPG  \n",
            "  inflating: test_data/test_data/wcrsrt/100_5105.JPG  \n",
            "  inflating: test_data/test_data/wcrsrt/11382677585_ef6570a041_o.jpg  \n",
            "  inflating: test_data/test_data/wcrsrt/11382746854_7ce73793b3_o.jpg  \n",
            "  inflating: train_data/train_data/blasti/DSC_6382.jpg  \n",
            "  inflating: train_data/train_data/blasti/DSC_6383.jpg  \n",
            "  inflating: train_data/train_data/blasti/DSC_6384-2.jpg  \n",
            "  inflating: train_data/train_data/blasti/DSC_6384.jpg  \n",
            "  inflating: train_data/train_data/blasti/DSC_6385.jpg  \n",
            "  inflating: train_data/train_data/blasti/DSC_6386.jpg  \n",
            "  inflating: train_data/train_data/blasti/DSC_6387.jpg  \n",
            "  inflating: train_data/train_data/blasti/DSC_6388.jpg  \n",
            "  inflating: train_data/train_data/blasti/DSC_6389.jpg  \n",
            "  inflating: train_data/train_data/blasti/DSC_6390.jpg  \n",
            "  inflating: train_data/train_data/blasti/DSC_6391.jpg  \n",
            "  inflating: train_data/train_data/blasti/DSC_6392.jpg  \n",
            "  inflating: train_data/train_data/blasti/DSC_6393.jpg  \n",
            "  inflating: train_data/train_data/blasti/DSC_6394.jpg  \n",
            "  inflating: train_data/train_data/blasti/DSC_6395.jpg  \n",
            "  inflating: train_data/train_data/bonegl/DSC_4570.jpg  \n",
            "  inflating: train_data/train_data/bonegl/DSC_4571.jpg  \n",
            "  inflating: train_data/train_data/bonegl/DSC_4583.jpg  \n",
            "  inflating: train_data/train_data/bonegl/DSC_4584.jpg  \n",
            "  inflating: train_data/train_data/bonegl/DSC_4585.jpg  \n",
            "  inflating: train_data/train_data/bonegl/DSC_4586.jpg  \n",
            "  inflating: train_data/train_data/brhkyt/D72_0400.jpg  \n",
            "  inflating: train_data/train_data/brhkyt/D72_0401.jpg  \n",
            "  inflating: train_data/train_data/brhkyt/D72_0470.jpg  \n",
            "  inflating: train_data/train_data/brhkyt/D72_0471.jpg  \n",
            "  inflating: train_data/train_data/brhkyt/D72_0472.jpg  \n",
            "  inflating: train_data/train_data/cbrtsh/100_5097.JPG  \n",
            "  inflating: train_data/train_data/cbrtsh/_D32_10303.jpg  \n",
            "  inflating: train_data/train_data/cbrtsh/_D32_10305.jpg  \n",
            "  inflating: train_data/train_data/cbrtsh/_D32_10306.jpg  \n",
            "  inflating: train_data/train_data/cbrtsh/_D32_10307.jpg  \n",
            "  inflating: train_data/train_data/cbrtsh/_D32_10308.jpg  \n",
            "  inflating: train_data/train_data/cbrtsh/_D32_10309.jpg  \n",
            "  inflating: train_data/train_data/cmnmyn/100_5763.JPG  \n",
            "  inflating: train_data/train_data/cmnmyn/5866682091_870ccc946c_o.jpg  \n",
            "  inflating: train_data/train_data/cmnmyn/6154956165_64266b8b53_o.jpg  \n",
            "  inflating: train_data/train_data/cmnmyn/DSCN5784.jpg  \n",
            "  inflating: train_data/train_data/cmnmyn/DSCN5787.jpg  \n",
            "  inflating: train_data/train_data/cmnmyn/DSCN5790.jpg  \n",
            "  inflating: train_data/train_data/cmnmyn/DSCN5791.jpg  \n",
            "  inflating: train_data/train_data/gretit/100_5042.JPG  \n",
            "  inflating: train_data/train_data/gretit/100_5043.JPG  \n",
            "  inflating: train_data/train_data/gretit/100_5044.JPG  \n",
            "  inflating: train_data/train_data/gretit/100_5045.JPG  \n",
            "  inflating: train_data/train_data/gretit/100_5046.JPG  \n",
            "  inflating: train_data/train_data/gretit/100_5047.JPG  \n",
            "  inflating: train_data/train_data/hilpig/DSC_6272.jpg  \n",
            "  inflating: train_data/train_data/hilpig/DSC_6273.jpg  \n",
            "  inflating: train_data/train_data/hilpig/DSC_6274.jpg  \n",
            "  inflating: train_data/train_data/hilpig/DSC_6275.jpg  \n",
            "  inflating: train_data/train_data/hilpig/DSC_6350.jpg  \n",
            "  inflating: train_data/train_data/hilpig/DSC_6351.jpg  \n",
            "  inflating: train_data/train_data/hilpig/DSC_6352.jpg  \n",
            "  inflating: train_data/train_data/hilpig/DSC_6353.jpg  \n",
            "  inflating: train_data/train_data/hilpig/DSC_6354.jpg  \n",
            "  inflating: train_data/train_data/hilpig/DSC_6358.jpg  \n",
            "  inflating: train_data/train_data/himbul/100_5028.JPG  \n",
            "  inflating: train_data/train_data/himbul/100_5029.JPG  \n",
            "  inflating: train_data/train_data/himbul/100_5096.JPG  \n",
            "  inflating: train_data/train_data/himbul/100_5099.JPG  \n",
            "  inflating: train_data/train_data/himbul/100_5100.JPG  \n",
            "  inflating: train_data/train_data/himbul/100_5102.JPG  \n",
            "  inflating: train_data/train_data/himbul/100_5110.JPG  \n",
            "  inflating: train_data/train_data/himbul/100_5112.JPG  \n",
            "  inflating: train_data/train_data/himbul/100_5113.JPG  \n",
            "  inflating: train_data/train_data/himbul/100_5159.JPG  \n",
            "  inflating: train_data/train_data/himbul/100_5160.JPG  \n",
            "  inflating: train_data/train_data/himbul/100_5161.JPG  \n",
            "  inflating: train_data/train_data/himbul/100_5162.JPG  \n",
            "  inflating: train_data/train_data/himbul/10774570945_9bc537c255_o.jpg  \n",
            "  inflating: train_data/train_data/himbul/11383838134_96e891a316_o.jpg  \n",
            "  inflating: train_data/train_data/himbul/11383857084_cdd7514746_o.jpg  \n",
            "  inflating: train_data/train_data/himbul/11387473723_464965720a_o.jpg  \n",
            "  inflating: train_data/train_data/himbul/9007817678_24db19fc63_o.jpg  \n",
            "  inflating: train_data/train_data/himgri/12029790563_2fe54a68aa_o.jpg  \n",
            "  inflating: train_data/train_data/himgri/12029822653_1185544e7b_o.jpg  \n",
            "  inflating: train_data/train_data/himgri/12029933015_802428e277_o.jpg  \n",
            "  inflating: train_data/train_data/himgri/12029987304_031b7a2d53_o.jpg  \n",
            "  inflating: train_data/train_data/himgri/12030165813_f5341e8ed0_o.jpg  \n",
            "  inflating: train_data/train_data/himgri/12030221124_1baaf905d1_o.jpg  \n",
            "  inflating: train_data/train_data/himgri/12030269234_1c3f5a8e8c_o.jpg  \n",
            "  inflating: train_data/train_data/himgri/12152037683_13e1556c41_o.jpg  \n",
            "  inflating: train_data/train_data/himgri/12152178844_dc29e3126f_o.jpg  \n",
            "  inflating: train_data/train_data/himgri/12152510436_23b62fed3b_o.jpg  \n",
            "  inflating: train_data/train_data/himgri/12265055185_138e3c7c70_o.jpg  \n",
            "  inflating: train_data/train_data/himgri/12265498144_d2e80faa3b_o.jpg  \n",
            "  inflating: train_data/train_data/himgri/12265561764_4814951031_o.jpg  \n",
            "  inflating: train_data/train_data/himgri/12265582724_61cb64e73a_o.jpg  \n",
            "  inflating: train_data/train_data/himgri/12265738206_2b9b25cc8a_o.jpg  \n",
            "  inflating: train_data/train_data/himgri/12265747116_d4b4fa3741_o.jpg  \n",
            "  inflating: train_data/train_data/himgri/12266053036_fcab92d8e8_o.jpg  \n",
            "  inflating: train_data/train_data/himgri/12266077576_1d7143aaf7_o.jpg  \n",
            "  inflating: train_data/train_data/himgri/12266086526_82cd337667_o.jpg  \n",
            "  inflating: train_data/train_data/himgri/IMG_5463.JPG  \n",
            "  inflating: train_data/train_data/hsparo/100_4757.JPG  \n",
            "  inflating: train_data/train_data/hsparo/100_4758.JPG  \n",
            "  inflating: train_data/train_data/hsparo/100_5039.JPG  \n",
            "  inflating: train_data/train_data/hsparo/100_5040.JPG  \n",
            "  inflating: train_data/train_data/hsparo/100_5041.JPG  \n",
            "  inflating: train_data/train_data/hsparo/100_5048.JPG  \n",
            "  inflating: train_data/train_data/hsparo/100_5049.JPG  \n",
            "  inflating: train_data/train_data/hsparo/100_5050.JPG  \n",
            "  inflating: train_data/train_data/hsparo/100_5572.JPG  \n",
            "  inflating: train_data/train_data/indvul/DSC_0502.jpg  \n",
            "  inflating: train_data/train_data/indvul/DSC_0571e.jpg  \n",
            "  inflating: train_data/train_data/indvul/DSC_0572.jpg  \n",
            "  inflating: train_data/train_data/indvul/DSC_0576e.jpg  \n",
            "  inflating: train_data/train_data/indvul/DSC_0582.jpg  \n",
            "  inflating: train_data/train_data/indvul/DSC_0583e.jpg  \n",
            "  inflating: train_data/train_data/indvul/DSC_0584.jpg  \n",
            "  inflating: train_data/train_data/indvul/DSC_0616c.jpg  \n",
            "  inflating: train_data/train_data/indvul/DSC_0617.jpg  \n",
            "  inflating: train_data/train_data/jglowl/12152151476_7a1524aabb_o.jpg  \n",
            "  inflating: train_data/train_data/jglowl/DSC01335.jpg  \n",
            "  inflating: train_data/train_data/jglowl/DSC01336.jpg  \n",
            "  inflating: train_data/train_data/jglowl/_D32_10285.jpg  \n",
            "  inflating: train_data/train_data/jglowl/_D32_10578.jpg  \n",
            "  inflating: train_data/train_data/jglowl/_D32_10583.jpg  \n",
            "  inflating: train_data/train_data/lbicrw/100_4037.JPG  \n",
            "  inflating: train_data/train_data/lbicrw/100_4912.JPG  \n",
            "  inflating: train_data/train_data/lbicrw/100_4913.JPG  \n",
            "  inflating: train_data/train_data/lbicrw/100_4914.JPG  \n",
            "  inflating: train_data/train_data/lbicrw/100_4915.JPG  \n",
            "  inflating: train_data/train_data/lbicrw/100_4916.JPG  \n",
            "  inflating: train_data/train_data/mgprob/100_5587.JPG  \n",
            "  inflating: train_data/train_data/mgprob/100_5588.JPG  \n",
            "  inflating: train_data/train_data/mgprob/100_5589.JPG  \n",
            "  inflating: train_data/train_data/mgprob/100_5590.JPG  \n",
            "  inflating: train_data/train_data/mgprob/100_5592.JPG  \n",
            "  inflating: train_data/train_data/mgprob/100_5762.JPG  \n",
            "  inflating: train_data/train_data/rebimg/100_5744.JPG  \n",
            "  inflating: train_data/train_data/rebimg/100_5745.JPG  \n",
            "  inflating: train_data/train_data/rebimg/100_5746.JPG  \n",
            "  inflating: train_data/train_data/rebimg/100_5748.JPG  \n",
            "  inflating: train_data/train_data/rebimg/100_5749.JPG  \n",
            "  inflating: train_data/train_data/rebimg/100_5750.JPG  \n",
            "  inflating: train_data/train_data/rebimg/100_5751.JPG  \n",
            "  inflating: train_data/train_data/rebimg/100_5752.JPG  \n",
            "  inflating: train_data/train_data/rebimg/100_5754.JPG  \n",
            "  inflating: train_data/train_data/rebimg/100_5755.JPG  \n",
            "  inflating: train_data/train_data/wcrsrt/100_4452.JPG  \n",
            "  inflating: train_data/train_data/wcrsrt/100_4453.JPG  \n",
            "  inflating: train_data/train_data/wcrsrt/100_4454.JPG  \n",
            "  inflating: train_data/train_data/wcrsrt/100_4455.JPG  \n",
            "  inflating: train_data/train_data/wcrsrt/100_4456.JPG  \n",
            "  inflating: train_data/train_data/wcrsrt/100_4457.JPG  \n",
            "  inflating: train_data/train_data/wcrsrt/100_4458.JPG  \n",
            "  inflating: train_data/train_data/wcrsrt/100_4459.JPG  \n",
            "  inflating: train_data/train_data/wcrsrt/100_4460.JPG  \n",
            "  inflating: train_data/train_data/wcrsrt/100_4461.JPG  \n"
          ]
        }
      ],
      "source": [
        "!unzip '/content/drive/MyDrive/Datasets/archive_2.zip'"
      ]
    },
    {
      "cell_type": "code",
      "source": [
        "# Data Augmentation\n",
        "\n",
        "from tensorflow.keras.preprocessing.image import ImageDataGenerator"
      ],
      "metadata": {
        "id": "eG42CeZdLIyL"
      },
      "execution_count": null,
      "outputs": []
    },
    {
      "cell_type": "code",
      "source": [
        "train_gen = ImageDataGenerator(rescale=(1./255),horizontal_flip=True,shear_range=0.2)\n",
        "test_gen = ImageDataGenerator(rescale=(1./255))"
      ],
      "metadata": {
        "id": "B_RL-DskYdWv"
      },
      "execution_count": null,
      "outputs": []
    },
    {
      "cell_type": "code",
      "source": [
        "train = train_gen.flow_from_directory('/content/train_data/train_data',\n",
        "                                      target_size=(120, 120),\n",
        "                                      class_mode='categorical', \n",
        "                                      batch_size=8)\n",
        "test = test_gen.flow_from_directory('/content/test_data/test_data',\n",
        "                                    target_size=(120, 120),\n",
        "                                      class_mode='categorical', \n",
        "                                      batch_size=8)"
      ],
      "metadata": {
        "colab": {
          "base_uri": "https://localhost:8080/"
        },
        "id": "O2jsCztcYkPr",
        "outputId": "74c1ad8a-075d-40cb-f770-b4fb58b96705"
      },
      "execution_count": null,
      "outputs": [
        {
          "output_type": "stream",
          "name": "stdout",
          "text": [
            "Found 150 images belonging to 16 classes.\n",
            "Found 157 images belonging to 16 classes.\n"
          ]
        }
      ]
    },
    {
      "cell_type": "code",
      "source": [
        "train.class_indices"
      ],
      "metadata": {
        "colab": {
          "base_uri": "https://localhost:8080/"
        },
        "id": "5WAU2HZ5YoQN",
        "outputId": "db901a63-01e8-44c5-a7b6-5949d6c65a4b"
      },
      "execution_count": null,
      "outputs": [
        {
          "output_type": "execute_result",
          "data": {
            "text/plain": [
              "{'blasti': 0,\n",
              " 'bonegl': 1,\n",
              " 'brhkyt': 2,\n",
              " 'cbrtsh': 3,\n",
              " 'cmnmyn': 4,\n",
              " 'gretit': 5,\n",
              " 'hilpig': 6,\n",
              " 'himbul': 7,\n",
              " 'himgri': 8,\n",
              " 'hsparo': 9,\n",
              " 'indvul': 10,\n",
              " 'jglowl': 11,\n",
              " 'lbicrw': 12,\n",
              " 'mgprob': 13,\n",
              " 'rebimg': 14,\n",
              " 'wcrsrt': 15}"
            ]
          },
          "metadata": {},
          "execution_count": 6
        }
      ]
    },
    {
      "cell_type": "code",
      "source": [
        "# CNN\n",
        "\n",
        "from tensorflow.keras.layers import Convolution2D,MaxPooling2D,Flatten,Dense\n",
        "from tensorflow.keras.models import Sequential"
      ],
      "metadata": {
        "id": "Juhrh12fY_BC"
      },
      "execution_count": null,
      "outputs": []
    },
    {
      "cell_type": "code",
      "source": [
        "model = Sequential()\n",
        "model.add(Convolution2D(20,(3,3),activation='relu',input_shape=(120, 120, 3)))\n",
        "model.add(MaxPooling2D(pool_size=(2,2)))\n",
        "model.add(Flatten())\n",
        "model.add(Dense(45,activation='relu'))\n",
        "model.add(Dense(16,activation='softmax'))"
      ],
      "metadata": {
        "id": "rsd2kebZZDZX"
      },
      "execution_count": null,
      "outputs": []
    },
    {
      "cell_type": "code",
      "source": [
        "model.summary()"
      ],
      "metadata": {
        "colab": {
          "base_uri": "https://localhost:8080/"
        },
        "id": "R3OhFoar4DLq",
        "outputId": "cf68fa41-1c27-496d-ca9f-adde48e3aa76"
      },
      "execution_count": null,
      "outputs": [
        {
          "output_type": "stream",
          "name": "stdout",
          "text": [
            "Model: \"sequential_3\"\n",
            "_________________________________________________________________\n",
            " Layer (type)                Output Shape              Param #   \n",
            "=================================================================\n",
            " conv2d_5 (Conv2D)           (None, 118, 118, 20)      560       \n",
            "                                                                 \n",
            " max_pooling2d_5 (MaxPooling  (None, 59, 59, 20)       0         \n",
            " 2D)                                                             \n",
            "                                                                 \n",
            " flatten_3 (Flatten)         (None, 69620)             0         \n",
            "                                                                 \n",
            " dense_8 (Dense)             (None, 45)                3132945   \n",
            "                                                                 \n",
            " dense_9 (Dense)             (None, 16)                736       \n",
            "                                                                 \n",
            "=================================================================\n",
            "Total params: 3,134,241\n",
            "Trainable params: 3,134,241\n",
            "Non-trainable params: 0\n",
            "_________________________________________________________________\n"
          ]
        }
      ]
    },
    {
      "cell_type": "code",
      "source": [
        "model.compile(optimizer='adam',loss='categorical_crossentropy',metrics=['accuracy'])"
      ],
      "metadata": {
        "id": "Ft03Oa5HZGni"
      },
      "execution_count": null,
      "outputs": []
    },
    {
      "cell_type": "code",
      "source": [
        "model.fit(train, batch_size=8, validation_data=test, epochs=15)"
      ],
      "metadata": {
        "colab": {
          "base_uri": "https://localhost:8080/"
        },
        "id": "sEbuuZsmZKVV",
        "outputId": "97024505-6f50-4d93-b0b0-9544eb9c7ad2"
      },
      "execution_count": null,
      "outputs": [
        {
          "output_type": "stream",
          "name": "stdout",
          "text": [
            "Epoch 1/15\n",
            "19/19 [==============================] - 91s 5s/step - loss: 2.6745 - accuracy: 0.1267 - val_loss: 2.6634 - val_accuracy: 0.1975\n",
            "Epoch 2/15\n",
            "19/19 [==============================] - 85s 5s/step - loss: 2.3771 - accuracy: 0.2333 - val_loss: 2.6406 - val_accuracy: 0.1656\n",
            "Epoch 3/15\n",
            "19/19 [==============================] - 87s 5s/step - loss: 2.2472 - accuracy: 0.2800 - val_loss: 2.6519 - val_accuracy: 0.2038\n",
            "Epoch 4/15\n",
            "19/19 [==============================] - 88s 5s/step - loss: 2.1644 - accuracy: 0.3000 - val_loss: 2.7008 - val_accuracy: 0.1847\n",
            "Epoch 5/15\n",
            "19/19 [==============================] - 86s 5s/step - loss: 1.9962 - accuracy: 0.3400 - val_loss: 2.6570 - val_accuracy: 0.1465\n",
            "Epoch 6/15\n",
            "19/19 [==============================] - 89s 5s/step - loss: 1.8105 - accuracy: 0.4533 - val_loss: 2.7074 - val_accuracy: 0.2229\n",
            "Epoch 7/15\n",
            "19/19 [==============================] - 119s 7s/step - loss: 1.5846 - accuracy: 0.4533 - val_loss: 2.8829 - val_accuracy: 0.1975\n",
            "Epoch 8/15\n",
            "19/19 [==============================] - 119s 6s/step - loss: 1.5084 - accuracy: 0.5000 - val_loss: 2.8844 - val_accuracy: 0.2102\n",
            "Epoch 9/15\n",
            "19/19 [==============================] - 119s 7s/step - loss: 1.2638 - accuracy: 0.6133 - val_loss: 2.7730 - val_accuracy: 0.2293\n",
            "Epoch 10/15\n",
            "19/19 [==============================] - 87s 5s/step - loss: 1.0439 - accuracy: 0.6933 - val_loss: 3.3971 - val_accuracy: 0.2484\n",
            "Epoch 11/15\n",
            "19/19 [==============================] - 84s 5s/step - loss: 0.9557 - accuracy: 0.7400 - val_loss: 2.9507 - val_accuracy: 0.1975\n",
            "Epoch 12/15\n",
            "19/19 [==============================] - 86s 5s/step - loss: 0.6872 - accuracy: 0.8133 - val_loss: 3.1634 - val_accuracy: 0.2166\n",
            "Epoch 13/15\n",
            "19/19 [==============================] - 83s 5s/step - loss: 0.5936 - accuracy: 0.8800 - val_loss: 3.3363 - val_accuracy: 0.2166\n",
            "Epoch 14/15\n",
            "19/19 [==============================] - 85s 5s/step - loss: 0.5331 - accuracy: 0.8600 - val_loss: 3.4048 - val_accuracy: 0.2293\n",
            "Epoch 15/15\n",
            "19/19 [==============================] - 84s 5s/step - loss: 0.4640 - accuracy: 0.8867 - val_loss: 3.3031 - val_accuracy: 0.1656\n"
          ]
        },
        {
          "output_type": "execute_result",
          "data": {
            "text/plain": [
              "<keras.callbacks.History at 0x7fe2ce21e050>"
            ]
          },
          "metadata": {},
          "execution_count": 34
        }
      ]
    },
    {
      "cell_type": "code",
      "source": [
        "model.save('birdsWeights.h5')"
      ],
      "metadata": {
        "id": "xe_eVGjaZNPp"
      },
      "execution_count": null,
      "outputs": []
    },
    {
      "cell_type": "code",
      "source": [
        "# Testing\n",
        "\n",
        "import numpy as np\n",
        "from tensorflow.keras.preprocessing import image"
      ],
      "metadata": {
        "id": "jMWQt5_py4t5"
      },
      "execution_count": null,
      "outputs": []
    },
    {
      "cell_type": "code",
      "source": [
        "# Testing 1\n",
        "\n",
        "img1 = image.load_img('/content/Common_Myna.jpg',target_size=(120,120))\n",
        "img1 = image.img_to_array(img1)\n",
        "img1 = np.expand_dims(img1,axis=0)\n",
        "pred = np.argmax(model.predict(img1))\n",
        "print(pred)\n",
        "output = ['blasti', 'bonegl', 'brhkyt', 'cbrtsh', 'cmnmyn', 'gretit', 'hilpig', \n",
        "          'himbul', 'himgri', 'hsparo', 'indvul', 'jglowl', 'lbicrw', 'mgprob',\n",
        "          'rebimg', 'wcrsrt']\n",
        "print(output[pred])"
      ],
      "metadata": {
        "id": "ANIaN4JXy7IG",
        "colab": {
          "base_uri": "https://localhost:8080/"
        },
        "outputId": "5cb1abe5-a7cb-4e55-e2ed-26e083ab52c7"
      },
      "execution_count": null,
      "outputs": [
        {
          "output_type": "stream",
          "name": "stdout",
          "text": [
            "1/1 [==============================] - 0s 52ms/step\n",
            "7\n",
            "himbul\n"
          ]
        }
      ]
    },
    {
      "cell_type": "code",
      "source": [
        "# Testing 2\n",
        "\n",
        "img1 = image.load_img('/content/White_Capped_Water_Redstartjpg.jpg',target_size=(120,120))\n",
        "img1 = image.img_to_array(img1)\n",
        "img1 = np.expand_dims(img1,axis=0)\n",
        "pred = np.argmax(model.predict(img1))\n",
        "print(pred)\n",
        "output = ['blasti', 'bonegl', 'brhkyt', 'cbrtsh', 'cmnmyn', 'gretit', 'hilpig', \n",
        "          'himbul', 'himgri', 'hsparo', 'indvul', 'jglowl', 'lbicrw', 'mgprob',\n",
        "          'rebimg', 'wcrsrt']\n",
        "print(output[pred])"
      ],
      "metadata": {
        "id": "gmRYpHmQ0FaN",
        "colab": {
          "base_uri": "https://localhost:8080/"
        },
        "outputId": "8693a66f-1c9d-4a7c-f40b-ab66ec74eee0"
      },
      "execution_count": null,
      "outputs": [
        {
          "output_type": "stream",
          "name": "stdout",
          "text": [
            "1/1 [==============================] - 0s 20ms/step\n",
            "7\n",
            "himbul\n"
          ]
        }
      ]
    },
    {
      "cell_type": "code",
      "source": [
        "# Testing 3\n",
        "\n",
        "img1 = image.load_img('/content/Himalayan_Griffon.jpg',target_size=(120,120))\n",
        "img1 = image.img_to_array(img1)\n",
        "img1 = np.expand_dims(img1,axis=0)\n",
        "pred = np.argmax(model.predict(img1))\n",
        "print(pred)\n",
        "output = ['blasti', 'bonegl', 'brhkyt', 'cbrtsh', 'cmnmyn', 'gretit', 'hilpig', \n",
        "          'himbul', 'himgri', 'hsparo', 'indvul', 'jglowl', 'lbicrw', 'mgprob',\n",
        "          'rebimg', 'wcrsrt']\n",
        "print(output[pred])"
      ],
      "metadata": {
        "id": "n6vCy4aF1dJt",
        "colab": {
          "base_uri": "https://localhost:8080/"
        },
        "outputId": "8b946b3e-d64e-4145-b572-566a6a73bab2"
      },
      "execution_count": null,
      "outputs": [
        {
          "output_type": "stream",
          "name": "stdout",
          "text": [
            "1/1 [==============================] - 0s 19ms/step\n",
            "8\n",
            "himgri\n"
          ]
        }
      ]
    },
    {
      "cell_type": "code",
      "source": [
        "# Testing 4\n",
        "\n",
        "img1 = image.load_img('/content/Jungle_Owlet.jpg',target_size=(120,120))\n",
        "img1 = image.img_to_array(img1)\n",
        "img1 = np.expand_dims(img1,axis=0)\n",
        "pred = np.argmax(model.predict(img1))\n",
        "print(pred)\n",
        "output = ['blasti', 'bonegl', 'brhkyt', 'cbrtsh', 'cmnmyn', 'gretit', 'hilpig', \n",
        "          'himbul', 'himgri', 'hsparo', 'indvul', 'jglowl', 'lbicrw', 'mgprob',\n",
        "          'rebimg', 'wcrsrt']\n",
        "print(output[pred])"
      ],
      "metadata": {
        "id": "_lkiZXkv1z9b",
        "colab": {
          "base_uri": "https://localhost:8080/"
        },
        "outputId": "b1d390d2-a472-4f8e-85e7-a9458a7272bc"
      },
      "execution_count": null,
      "outputs": [
        {
          "output_type": "stream",
          "name": "stdout",
          "text": [
            "1/1 [==============================] - 0s 17ms/step\n",
            "5\n",
            "gretit\n"
          ]
        }
      ]
    },
    {
      "cell_type": "markdown",
      "source": [
        "**Model Tuning with addition of feature extraction layers**"
      ],
      "metadata": {
        "id": "dteGkxCk3ZBQ"
      }
    },
    {
      "cell_type": "code",
      "source": [
        "model = Sequential()\n",
        "model.add(Convolution2D(12,(3,3),activation='relu',input_shape=(120, 120, 3)))\n",
        "model.add(MaxPooling2D(pool_size=(2,2)))\n",
        "model.add(Convolution2D(24,(3,3),activation='relu'))\n",
        "model.add(MaxPooling2D(pool_size=(2,2)))\n",
        "model.add(Convolution2D(36,(3,3),activation='relu'))\n",
        "model.add(MaxPooling2D(pool_size=(2,2)))\n",
        "model.add(Flatten())\n",
        "model.add(Dense(62,activation='relu'))\n",
        "model.add(Dense(32,activation='relu'))\n",
        "model.add(Dense(16,activation='relu'))\n",
        "model.add(Dense(16,activation='softmax'))"
      ],
      "metadata": {
        "id": "xBE71XUZ2ybV"
      },
      "execution_count": null,
      "outputs": []
    },
    {
      "cell_type": "code",
      "source": [
        "model.summary()"
      ],
      "metadata": {
        "id": "0qim5h1138Uw",
        "colab": {
          "base_uri": "https://localhost:8080/"
        },
        "outputId": "0dc9a122-dff8-4ee5-8c4b-a0ed9a35c451"
      },
      "execution_count": null,
      "outputs": [
        {
          "output_type": "stream",
          "name": "stdout",
          "text": [
            "Model: \"sequential_4\"\n",
            "_________________________________________________________________\n",
            " Layer (type)                Output Shape              Param #   \n",
            "=================================================================\n",
            " conv2d_6 (Conv2D)           (None, 118, 118, 12)      336       \n",
            "                                                                 \n",
            " max_pooling2d_6 (MaxPooling  (None, 59, 59, 12)       0         \n",
            " 2D)                                                             \n",
            "                                                                 \n",
            " conv2d_7 (Conv2D)           (None, 57, 57, 24)        2616      \n",
            "                                                                 \n",
            " max_pooling2d_7 (MaxPooling  (None, 28, 28, 24)       0         \n",
            " 2D)                                                             \n",
            "                                                                 \n",
            " conv2d_8 (Conv2D)           (None, 26, 26, 36)        7812      \n",
            "                                                                 \n",
            " max_pooling2d_8 (MaxPooling  (None, 13, 13, 36)       0         \n",
            " 2D)                                                             \n",
            "                                                                 \n",
            " flatten_4 (Flatten)         (None, 6084)              0         \n",
            "                                                                 \n",
            " dense_10 (Dense)            (None, 62)                377270    \n",
            "                                                                 \n",
            " dense_11 (Dense)            (None, 32)                2016      \n",
            "                                                                 \n",
            " dense_12 (Dense)            (None, 16)                528       \n",
            "                                                                 \n",
            " dense_13 (Dense)            (None, 16)                272       \n",
            "                                                                 \n",
            "=================================================================\n",
            "Total params: 390,850\n",
            "Trainable params: 390,850\n",
            "Non-trainable params: 0\n",
            "_________________________________________________________________\n"
          ]
        }
      ]
    },
    {
      "cell_type": "code",
      "source": [
        "model.compile(optimizer='adam',loss='categorical_crossentropy',metrics=['accuracy'])"
      ],
      "metadata": {
        "id": "kvMCfTkx3_Wa"
      },
      "execution_count": null,
      "outputs": []
    },
    {
      "cell_type": "code",
      "source": [
        "model.fit(train,batch_size=8,validation_data=test,epochs=30)"
      ],
      "metadata": {
        "id": "mxPR7TNG4IGN",
        "colab": {
          "base_uri": "https://localhost:8080/"
        },
        "outputId": "2d111e56-1ce2-4d82-fcf5-ec767415701e"
      },
      "execution_count": null,
      "outputs": [
        {
          "output_type": "stream",
          "name": "stdout",
          "text": [
            "Epoch 1/30\n",
            "19/19 [==============================] - 123s 7s/step - loss: 2.7809 - accuracy: 0.0667 - val_loss: 2.7591 - val_accuracy: 0.1274\n",
            "Epoch 2/30\n",
            "19/19 [==============================] - 120s 7s/step - loss: 2.7579 - accuracy: 0.1467 - val_loss: 2.7101 - val_accuracy: 0.1529\n",
            "Epoch 3/30\n",
            "19/19 [==============================] - 88s 5s/step - loss: 2.6948 - accuracy: 0.2000 - val_loss: 2.6747 - val_accuracy: 0.1401\n",
            "Epoch 4/30\n",
            "19/19 [==============================] - 121s 7s/step - loss: 2.6000 - accuracy: 0.2000 - val_loss: 2.6669 - val_accuracy: 0.1401\n",
            "Epoch 5/30\n",
            "19/19 [==============================] - 119s 7s/step - loss: 2.5398 - accuracy: 0.1867 - val_loss: 2.6516 - val_accuracy: 0.1720\n",
            "Epoch 6/30\n",
            "19/19 [==============================] - 91s 5s/step - loss: 2.4450 - accuracy: 0.1933 - val_loss: 2.6288 - val_accuracy: 0.2229\n",
            "Epoch 7/30\n",
            "19/19 [==============================] - 88s 5s/step - loss: 2.3429 - accuracy: 0.2733 - val_loss: 2.6284 - val_accuracy: 0.2229\n",
            "Epoch 8/30\n",
            "19/19 [==============================] - 90s 5s/step - loss: 2.2147 - accuracy: 0.3000 - val_loss: 2.6802 - val_accuracy: 0.1911\n",
            "Epoch 9/30\n",
            "19/19 [==============================] - 88s 5s/step - loss: 2.1451 - accuracy: 0.2933 - val_loss: 2.6349 - val_accuracy: 0.1720\n",
            "Epoch 10/30\n",
            "19/19 [==============================] - 94s 5s/step - loss: 2.0332 - accuracy: 0.3200 - val_loss: 2.7919 - val_accuracy: 0.1975\n",
            "Epoch 11/30\n",
            "19/19 [==============================] - 91s 5s/step - loss: 1.9486 - accuracy: 0.3267 - val_loss: 2.7369 - val_accuracy: 0.1783\n",
            "Epoch 12/30\n",
            "19/19 [==============================] - 88s 5s/step - loss: 1.8723 - accuracy: 0.3867 - val_loss: 2.8416 - val_accuracy: 0.2293\n",
            "Epoch 13/30\n",
            "19/19 [==============================] - 86s 5s/step - loss: 1.7275 - accuracy: 0.4467 - val_loss: 3.1411 - val_accuracy: 0.2420\n",
            "Epoch 14/30\n",
            "19/19 [==============================] - 88s 5s/step - loss: 1.6745 - accuracy: 0.4133 - val_loss: 3.0450 - val_accuracy: 0.2229\n",
            "Epoch 15/30\n",
            "19/19 [==============================] - 88s 5s/step - loss: 1.5220 - accuracy: 0.4733 - val_loss: 3.2154 - val_accuracy: 0.1656\n",
            "Epoch 16/30\n",
            "19/19 [==============================] - 89s 5s/step - loss: 1.3292 - accuracy: 0.5600 - val_loss: 3.5031 - val_accuracy: 0.1465\n",
            "Epoch 17/30\n",
            "19/19 [==============================] - 86s 5s/step - loss: 1.2781 - accuracy: 0.5667 - val_loss: 3.1985 - val_accuracy: 0.2038\n",
            "Epoch 18/30\n",
            "19/19 [==============================] - 87s 5s/step - loss: 1.4986 - accuracy: 0.5400 - val_loss: 3.2818 - val_accuracy: 0.1975\n",
            "Epoch 19/30\n",
            "19/19 [==============================] - 90s 5s/step - loss: 1.3166 - accuracy: 0.5800 - val_loss: 3.4052 - val_accuracy: 0.2420\n",
            "Epoch 20/30\n",
            "19/19 [==============================] - 88s 5s/step - loss: 1.1242 - accuracy: 0.6133 - val_loss: 3.4614 - val_accuracy: 0.1783\n",
            "Epoch 21/30\n",
            "19/19 [==============================] - 120s 7s/step - loss: 0.9365 - accuracy: 0.6933 - val_loss: 3.9740 - val_accuracy: 0.1911\n",
            "Epoch 22/30\n",
            "19/19 [==============================] - 121s 7s/step - loss: 0.9098 - accuracy: 0.7067 - val_loss: 3.7243 - val_accuracy: 0.1975\n",
            "Epoch 23/30\n",
            "19/19 [==============================] - 88s 5s/step - loss: 0.7929 - accuracy: 0.7533 - val_loss: 4.3190 - val_accuracy: 0.1975\n",
            "Epoch 24/30\n",
            "19/19 [==============================] - 86s 5s/step - loss: 0.8369 - accuracy: 0.7333 - val_loss: 4.7658 - val_accuracy: 0.2229\n",
            "Epoch 25/30\n",
            "19/19 [==============================] - 87s 5s/step - loss: 0.7426 - accuracy: 0.7933 - val_loss: 5.1243 - val_accuracy: 0.2484\n",
            "Epoch 26/30\n",
            "19/19 [==============================] - 87s 5s/step - loss: 0.6104 - accuracy: 0.7867 - val_loss: 4.9152 - val_accuracy: 0.2038\n",
            "Epoch 27/30\n",
            "19/19 [==============================] - 89s 5s/step - loss: 0.6736 - accuracy: 0.7733 - val_loss: 5.0952 - val_accuracy: 0.2611\n",
            "Epoch 28/30\n",
            "19/19 [==============================] - 88s 5s/step - loss: 0.4946 - accuracy: 0.8467 - val_loss: 5.3670 - val_accuracy: 0.2102\n",
            "Epoch 29/30\n",
            "19/19 [==============================] - 85s 5s/step - loss: 0.5116 - accuracy: 0.8200 - val_loss: 5.2766 - val_accuracy: 0.1975\n",
            "Epoch 30/30\n",
            "19/19 [==============================] - 86s 5s/step - loss: 0.4769 - accuracy: 0.8600 - val_loss: 5.4665 - val_accuracy: 0.2548\n"
          ]
        },
        {
          "output_type": "execute_result",
          "data": {
            "text/plain": [
              "<keras.callbacks.History at 0x7fe2cde4f850>"
            ]
          },
          "metadata": {},
          "execution_count": 44
        }
      ]
    },
    {
      "cell_type": "code",
      "source": [
        "# Testing 1\n",
        "\n",
        "img1 = image.load_img('/content/Common_Myna.jpg',target_size=(120,120))\n",
        "img1 = image.img_to_array(img1)\n",
        "img1 = np.expand_dims(img1,axis=0)\n",
        "pred = np.argmax(model.predict(img1))\n",
        "print(pred)\n",
        "output = ['blasti', 'bonegl', 'brhkyt', 'cbrtsh', 'cmnmyn', 'gretit', 'hilpig', \n",
        "          'himbul', 'himgri', 'hsparo', 'indvul', 'jglowl', 'lbicrw', 'mgprob',\n",
        "          'rebimg', 'wcrsrt']\n",
        "print(output[pred])"
      ],
      "metadata": {
        "id": "E3enOXUn4KTO",
        "colab": {
          "base_uri": "https://localhost:8080/"
        },
        "outputId": "e8e392c0-aeee-4987-ee7e-07304b24fe15"
      },
      "execution_count": null,
      "outputs": [
        {
          "output_type": "stream",
          "name": "stdout",
          "text": [
            "1/1 [==============================] - 0s 204ms/step\n",
            "4\n",
            "cmnmyn\n"
          ]
        }
      ]
    },
    {
      "cell_type": "code",
      "source": [
        "# Testing 2\n",
        "\n",
        "img1 = image.load_img('/content/White_Capped_Water_Redstartjpg.jpg',target_size=(120,120))\n",
        "img1 = image.img_to_array(img1)\n",
        "img1 = np.expand_dims(img1,axis=0)\n",
        "pred = np.argmax(model.predict(img1))\n",
        "print(pred)\n",
        "output = ['blasti', 'bonegl', 'brhkyt', 'cbrtsh', 'cmnmyn', 'gretit', 'hilpig', \n",
        "          'himbul', 'himgri', 'hsparo', 'indvul', 'jglowl', 'lbicrw', 'mgprob',\n",
        "          'rebimg', 'wcrsrt']\n",
        "print(output[pred])"
      ],
      "metadata": {
        "id": "ZNkDdkgyb6rR",
        "colab": {
          "base_uri": "https://localhost:8080/"
        },
        "outputId": "13540df1-0cb1-4467-b4f7-e60ca14eecc6"
      },
      "execution_count": null,
      "outputs": [
        {
          "output_type": "stream",
          "name": "stdout",
          "text": [
            "1/1 [==============================] - 0s 19ms/step\n",
            "7\n",
            "himbul\n"
          ]
        }
      ]
    },
    {
      "cell_type": "code",
      "source": [
        "# Testing 3\n",
        "\n",
        "img1 = image.load_img('/content/Himalayan_Griffon.jpg',target_size=(120,120))\n",
        "img1 = image.img_to_array(img1)\n",
        "img1 = np.expand_dims(img1,axis=0)\n",
        "pred = np.argmax(model.predict(img1))\n",
        "print(pred)\n",
        "output = ['blasti', 'bonegl', 'brhkyt', 'cbrtsh', 'cmnmyn', 'gretit', 'hilpig', \n",
        "          'himbul', 'himgri', 'hsparo', 'indvul', 'jglowl', 'lbicrw', 'mgprob',\n",
        "          'rebimg', 'wcrsrt']\n",
        "print(output[pred])"
      ],
      "metadata": {
        "id": "3a8Tfrxbb9Jm",
        "colab": {
          "base_uri": "https://localhost:8080/"
        },
        "outputId": "df2a3297-5050-4a0e-81b6-2eefed8f72a1"
      },
      "execution_count": null,
      "outputs": [
        {
          "output_type": "stream",
          "name": "stdout",
          "text": [
            "1/1 [==============================] - 0s 28ms/step\n",
            "8\n",
            "himgri\n"
          ]
        }
      ]
    },
    {
      "cell_type": "code",
      "source": [
        "# Testing 4\n",
        "\n",
        "img1 = image.load_img('/content/Jungle_Owlet.jpg',target_size=(120,120))\n",
        "img1 = image.img_to_array(img1)\n",
        "img1 = np.expand_dims(img1,axis=0)\n",
        "pred = np.argmax(model.predict(img1))\n",
        "print(pred)\n",
        "output = ['blasti', 'bonegl', 'brhkyt', 'cbrtsh', 'cmnmyn', 'gretit', 'hilpig', \n",
        "          'himbul', 'himgri', 'hsparo', 'indvul', 'jglowl', 'lbicrw', 'mgprob',\n",
        "          'rebimg', 'wcrsrt']\n",
        "print(output[pred])"
      ],
      "metadata": {
        "id": "kiOAQUHob-xy",
        "colab": {
          "base_uri": "https://localhost:8080/"
        },
        "outputId": "1b0caa6c-38e4-4cab-dd2c-bf8d68f1eefe"
      },
      "execution_count": null,
      "outputs": [
        {
          "output_type": "stream",
          "name": "stdout",
          "text": [
            "1/1 [==============================] - 0s 29ms/step\n",
            "14\n",
            "rebimg\n"
          ]
        }
      ]
    },
    {
      "cell_type": "markdown",
      "source": [
        "**Model tuning using dropout, batch normalization & early stopping**"
      ],
      "metadata": {
        "id": "XMwOF_Z4Jm8K"
      }
    },
    {
      "cell_type": "code",
      "source": [
        "from tensorflow.keras.layers import BatchNormalization, Dropout"
      ],
      "metadata": {
        "id": "gd9xlru4cARi"
      },
      "execution_count": null,
      "outputs": []
    },
    {
      "cell_type": "code",
      "source": [
        "# Initializing the Sequential model\n",
        "model = Sequential()\n",
        "# Adding convolution layer with input\n",
        "model.add(Convolution2D(12,(3,3), activation='relu', input_shape=(120, 120, 3)))\n",
        "# Normalizing the convolution layer output\n",
        "model.add(BatchNormalization())\n",
        "# Selecting the maximum values\n",
        "model.add(MaxPooling2D(pool_size=(2,2)))\n",
        "# Dropping the unwanted 20% of data\n",
        "model.add(Dropout(0.2))\n",
        "model.add(Convolution2D(24,(3,3), activation='relu'))\n",
        "model.add(BatchNormalization())\n",
        "model.add(MaxPooling2D(pool_size=(2,2)))\n",
        "model.add(Dropout(0.2))\n",
        "model.add(Convolution2D(36,(3,3), activation='relu'))\n",
        "model.add(BatchNormalization())\n",
        "model.add(MaxPooling2D(pool_size=(2,2)))\n",
        "model.add(Dropout(0.2))\n",
        "model.add(Flatten())\n",
        "# Hiddern layers\n",
        "model.add(Dense(62, activation='relu'))\n",
        "model.add(BatchNormalization())\n",
        "model.add(Dropout(0.1))\n",
        "model.add(Dense(32, activation='relu'))\n",
        "model.add(Dense(16, activation='relu'))\n",
        "# Output layer\n",
        "model.add(Dense(16, activation='softmax'))"
      ],
      "metadata": {
        "id": "TedcEbplJxwW"
      },
      "execution_count": null,
      "outputs": []
    },
    {
      "cell_type": "code",
      "source": [
        "model.summary()"
      ],
      "metadata": {
        "colab": {
          "base_uri": "https://localhost:8080/"
        },
        "id": "twzn6Nu3JxhV",
        "outputId": "3840968f-9c7f-46f2-fcc3-385783c55f8e"
      },
      "execution_count": null,
      "outputs": [
        {
          "output_type": "stream",
          "name": "stdout",
          "text": [
            "Model: \"sequential_5\"\n",
            "_________________________________________________________________\n",
            " Layer (type)                Output Shape              Param #   \n",
            "=================================================================\n",
            " conv2d_9 (Conv2D)           (None, 118, 118, 12)      336       \n",
            "                                                                 \n",
            " batch_normalization (BatchN  (None, 118, 118, 12)     48        \n",
            " ormalization)                                                   \n",
            "                                                                 \n",
            " max_pooling2d_9 (MaxPooling  (None, 59, 59, 12)       0         \n",
            " 2D)                                                             \n",
            "                                                                 \n",
            " dropout (Dropout)           (None, 59, 59, 12)        0         \n",
            "                                                                 \n",
            " conv2d_10 (Conv2D)          (None, 57, 57, 24)        2616      \n",
            "                                                                 \n",
            " batch_normalization_1 (Batc  (None, 57, 57, 24)       96        \n",
            " hNormalization)                                                 \n",
            "                                                                 \n",
            " max_pooling2d_10 (MaxPoolin  (None, 28, 28, 24)       0         \n",
            " g2D)                                                            \n",
            "                                                                 \n",
            " dropout_1 (Dropout)         (None, 28, 28, 24)        0         \n",
            "                                                                 \n",
            " conv2d_11 (Conv2D)          (None, 26, 26, 36)        7812      \n",
            "                                                                 \n",
            " batch_normalization_2 (Batc  (None, 26, 26, 36)       144       \n",
            " hNormalization)                                                 \n",
            "                                                                 \n",
            " max_pooling2d_11 (MaxPoolin  (None, 13, 13, 36)       0         \n",
            " g2D)                                                            \n",
            "                                                                 \n",
            " dropout_2 (Dropout)         (None, 13, 13, 36)        0         \n",
            "                                                                 \n",
            " flatten_5 (Flatten)         (None, 6084)              0         \n",
            "                                                                 \n",
            " dense_14 (Dense)            (None, 62)                377270    \n",
            "                                                                 \n",
            " batch_normalization_3 (Batc  (None, 62)               248       \n",
            " hNormalization)                                                 \n",
            "                                                                 \n",
            " dropout_3 (Dropout)         (None, 62)                0         \n",
            "                                                                 \n",
            " dense_15 (Dense)            (None, 32)                2016      \n",
            "                                                                 \n",
            " dense_16 (Dense)            (None, 16)                528       \n",
            "                                                                 \n",
            " dense_17 (Dense)            (None, 16)                272       \n",
            "                                                                 \n",
            "=================================================================\n",
            "Total params: 391,386\n",
            "Trainable params: 391,118\n",
            "Non-trainable params: 268\n",
            "_________________________________________________________________\n"
          ]
        }
      ]
    },
    {
      "cell_type": "code",
      "source": [
        "model.compile(optimizer='adam', loss='categorical_crossentropy', metrics=['accuracy'])"
      ],
      "metadata": {
        "id": "8655rpRwJxUe"
      },
      "execution_count": null,
      "outputs": []
    },
    {
      "cell_type": "code",
      "source": [
        "# Early stopping\n",
        "\n",
        "from tensorflow.keras.callbacks import EarlyStopping"
      ],
      "metadata": {
        "id": "xJnj5qE2JxJk"
      },
      "execution_count": null,
      "outputs": []
    },
    {
      "cell_type": "code",
      "source": [
        "early_stop = EarlyStopping(monitor='accuracy',patience=5)"
      ],
      "metadata": {
        "id": "_J-zSvalKTkO"
      },
      "execution_count": null,
      "outputs": []
    },
    {
      "cell_type": "code",
      "source": [
        "model.fit(train, batch_size=8, validation_data=test, epochs=30, callbacks=early_stop)"
      ],
      "metadata": {
        "colab": {
          "base_uri": "https://localhost:8080/"
        },
        "id": "0GuMfPp-KTdC",
        "outputId": "ec21a069-871e-44cc-af20-58c93a98f3e9"
      },
      "execution_count": null,
      "outputs": [
        {
          "output_type": "stream",
          "name": "stdout",
          "text": [
            "Epoch 1/30\n",
            "19/19 [==============================] - 97s 5s/step - loss: 2.7592 - accuracy: 0.0667 - val_loss: 2.7696 - val_accuracy: 0.0446\n",
            "Epoch 2/30\n",
            "19/19 [==============================] - 120s 7s/step - loss: 2.5351 - accuracy: 0.1467 - val_loss: 2.8678 - val_accuracy: 0.1338\n",
            "Epoch 3/30\n",
            "19/19 [==============================] - 118s 7s/step - loss: 2.4061 - accuracy: 0.2667 - val_loss: 2.9449 - val_accuracy: 0.1210\n",
            "Epoch 4/30\n",
            "19/19 [==============================] - 87s 5s/step - loss: 2.4143 - accuracy: 0.2200 - val_loss: 3.1156 - val_accuracy: 0.1019\n",
            "Epoch 5/30\n",
            "19/19 [==============================] - 86s 5s/step - loss: 2.4074 - accuracy: 0.2067 - val_loss: 3.4697 - val_accuracy: 0.0955\n",
            "Epoch 6/30\n",
            "19/19 [==============================] - 117s 6s/step - loss: 2.2231 - accuracy: 0.2733 - val_loss: 3.5246 - val_accuracy: 0.1019\n",
            "Epoch 7/30\n",
            "19/19 [==============================] - 85s 5s/step - loss: 2.2724 - accuracy: 0.2467 - val_loss: 4.0806 - val_accuracy: 0.0955\n",
            "Epoch 8/30\n",
            "19/19 [==============================] - 84s 5s/step - loss: 2.1780 - accuracy: 0.3600 - val_loss: 5.3933 - val_accuracy: 0.0955\n",
            "Epoch 9/30\n",
            "19/19 [==============================] - 86s 5s/step - loss: 2.1248 - accuracy: 0.3333 - val_loss: 4.3284 - val_accuracy: 0.1210\n",
            "Epoch 10/30\n",
            "19/19 [==============================] - 84s 5s/step - loss: 2.0209 - accuracy: 0.3667 - val_loss: 4.0121 - val_accuracy: 0.0573\n",
            "Epoch 11/30\n",
            "19/19 [==============================] - 86s 5s/step - loss: 2.0164 - accuracy: 0.3600 - val_loss: 4.3254 - val_accuracy: 0.1146\n",
            "Epoch 12/30\n",
            "19/19 [==============================] - 86s 5s/step - loss: 1.9437 - accuracy: 0.4000 - val_loss: 4.4031 - val_accuracy: 0.1146\n",
            "Epoch 13/30\n",
            "19/19 [==============================] - 120s 6s/step - loss: 1.8440 - accuracy: 0.4267 - val_loss: 3.8911 - val_accuracy: 0.0828\n",
            "Epoch 14/30\n",
            "19/19 [==============================] - 85s 5s/step - loss: 1.7749 - accuracy: 0.4067 - val_loss: 3.5983 - val_accuracy: 0.1210\n",
            "Epoch 15/30\n",
            "19/19 [==============================] - 118s 6s/step - loss: 1.8166 - accuracy: 0.4333 - val_loss: 3.9282 - val_accuracy: 0.1146\n",
            "Epoch 16/30\n",
            "19/19 [==============================] - 85s 5s/step - loss: 1.5862 - accuracy: 0.4867 - val_loss: 3.8215 - val_accuracy: 0.1274\n",
            "Epoch 17/30\n",
            "19/19 [==============================] - 84s 5s/step - loss: 1.6862 - accuracy: 0.5133 - val_loss: 3.4086 - val_accuracy: 0.0764\n",
            "Epoch 18/30\n",
            "19/19 [==============================] - 83s 5s/step - loss: 1.6291 - accuracy: 0.5067 - val_loss: 3.3537 - val_accuracy: 0.1592\n",
            "Epoch 19/30\n",
            "19/19 [==============================] - 85s 5s/step - loss: 1.3988 - accuracy: 0.5933 - val_loss: 3.4036 - val_accuracy: 0.0764\n",
            "Epoch 20/30\n",
            "19/19 [==============================] - 84s 5s/step - loss: 1.4332 - accuracy: 0.5867 - val_loss: 3.3048 - val_accuracy: 0.0764\n",
            "Epoch 21/30\n",
            "19/19 [==============================] - 87s 5s/step - loss: 1.4041 - accuracy: 0.5800 - val_loss: 3.3851 - val_accuracy: 0.1465\n",
            "Epoch 22/30\n",
            "19/19 [==============================] - 118s 6s/step - loss: 1.2138 - accuracy: 0.6267 - val_loss: 3.4538 - val_accuracy: 0.1592\n",
            "Epoch 23/30\n",
            "19/19 [==============================] - 86s 5s/step - loss: 1.1059 - accuracy: 0.7067 - val_loss: 3.3922 - val_accuracy: 0.1720\n",
            "Epoch 24/30\n",
            "19/19 [==============================] - 85s 5s/step - loss: 1.0808 - accuracy: 0.6800 - val_loss: 3.4565 - val_accuracy: 0.1656\n",
            "Epoch 25/30\n",
            "19/19 [==============================] - 83s 5s/step - loss: 0.9532 - accuracy: 0.6933 - val_loss: 3.4459 - val_accuracy: 0.1274\n",
            "Epoch 26/30\n",
            "19/19 [==============================] - 85s 5s/step - loss: 0.8451 - accuracy: 0.7000 - val_loss: 3.2403 - val_accuracy: 0.2166\n",
            "Epoch 27/30\n",
            "19/19 [==============================] - 84s 5s/step - loss: 0.9780 - accuracy: 0.7467 - val_loss: 3.0262 - val_accuracy: 0.1975\n",
            "Epoch 28/30\n",
            "19/19 [==============================] - 86s 5s/step - loss: 0.9527 - accuracy: 0.6933 - val_loss: 3.1549 - val_accuracy: 0.2229\n",
            "Epoch 29/30\n",
            "19/19 [==============================] - 85s 5s/step - loss: 0.8695 - accuracy: 0.7600 - val_loss: 2.8071 - val_accuracy: 0.2166\n",
            "Epoch 30/30\n",
            "19/19 [==============================] - 88s 5s/step - loss: 0.7584 - accuracy: 0.8200 - val_loss: 2.8021 - val_accuracy: 0.2420\n"
          ]
        },
        {
          "output_type": "execute_result",
          "data": {
            "text/plain": [
              "<keras.callbacks.History at 0x7fe2d4962f50>"
            ]
          },
          "metadata": {},
          "execution_count": 62
        }
      ]
    },
    {
      "cell_type": "code",
      "source": [
        "# Testing 1\n",
        "\n",
        "img1 = image.load_img('/content/Common_Myna.jpg',target_size=(120,120))\n",
        "img1 = image.img_to_array(img1)\n",
        "img1 = np.expand_dims(img1,axis=0)\n",
        "pred = np.argmax(model.predict(img1))\n",
        "print(pred)\n",
        "output = ['blasti', 'bonegl', 'brhkyt', 'cbrtsh', 'cmnmyn', 'gretit', 'hilpig', \n",
        "          'himbul', 'himgri', 'hsparo', 'indvul', 'jglowl', 'lbicrw', 'mgprob',\n",
        "          'rebimg', 'wcrsrt']\n",
        "print(output[pred])"
      ],
      "metadata": {
        "colab": {
          "base_uri": "https://localhost:8080/"
        },
        "id": "zJAI780hKTV5",
        "outputId": "55de2b48-c485-4bab-da01-bdc283916419"
      },
      "execution_count": null,
      "outputs": [
        {
          "output_type": "stream",
          "name": "stdout",
          "text": [
            "1/1 [==============================] - 0s 123ms/step\n",
            "4\n",
            "cmnmyn\n"
          ]
        }
      ]
    },
    {
      "cell_type": "code",
      "source": [
        "# Testing 2\n",
        "\n",
        "img1 = image.load_img('/content/White_Capped_Water_Redstartjpg.jpg',target_size=(120,120))\n",
        "img1 = image.img_to_array(img1)\n",
        "img1 = np.expand_dims(img1,axis=0)\n",
        "pred = np.argmax(model.predict(img1))\n",
        "print(pred)\n",
        "output = ['blasti', 'bonegl', 'brhkyt', 'cbrtsh', 'cmnmyn', 'gretit', 'hilpig', \n",
        "          'himbul', 'himgri', 'hsparo', 'indvul', 'jglowl', 'lbicrw', 'mgprob',\n",
        "          'rebimg', 'wcrsrt']\n",
        "print(output[pred])"
      ],
      "metadata": {
        "colab": {
          "base_uri": "https://localhost:8080/"
        },
        "id": "URjhyg9XKTNr",
        "outputId": "1c7554a9-84fb-4bd7-c95e-d40929bfc097"
      },
      "execution_count": null,
      "outputs": [
        {
          "output_type": "stream",
          "name": "stdout",
          "text": [
            "1/1 [==============================] - 0s 20ms/step\n",
            "4\n",
            "cmnmyn\n"
          ]
        }
      ]
    },
    {
      "cell_type": "code",
      "source": [
        "# Testing 3\n",
        "\n",
        "img1 = image.load_img('/content/Himalayan_Griffon.jpg',target_size=(120,120))\n",
        "img1 = image.img_to_array(img1)\n",
        "img1 = np.expand_dims(img1,axis=0)\n",
        "pred = np.argmax(model.predict(img1))\n",
        "print(pred)\n",
        "output = ['blasti', 'bonegl', 'brhkyt', 'cbrtsh', 'cmnmyn', 'gretit', 'hilpig', \n",
        "          'himbul', 'himgri', 'hsparo', 'indvul', 'jglowl', 'lbicrw', 'mgprob',\n",
        "          'rebimg', 'wcrsrt']\n",
        "print(output[pred])"
      ],
      "metadata": {
        "colab": {
          "base_uri": "https://localhost:8080/"
        },
        "id": "mgYJq2GVKTFL",
        "outputId": "f3a64b9b-8c9e-4525-92b9-014d70348d01"
      },
      "execution_count": null,
      "outputs": [
        {
          "output_type": "stream",
          "name": "stdout",
          "text": [
            "1/1 [==============================] - 0s 19ms/step\n",
            "4\n",
            "cmnmyn\n"
          ]
        }
      ]
    },
    {
      "cell_type": "code",
      "source": [
        "# Testing 4\n",
        "\n",
        "img1 = image.load_img('/content/Jungle_Owlet.jpg',target_size=(120,120))\n",
        "img1 = image.img_to_array(img1)\n",
        "img1 = np.expand_dims(img1,axis=0)\n",
        "pred = np.argmax(model.predict(img1))\n",
        "print(pred)\n",
        "output = ['blasti', 'bonegl', 'brhkyt', 'cbrtsh', 'cmnmyn', 'gretit', 'hilpig', \n",
        "          'himbul', 'himgri', 'hsparo', 'indvul', 'jglowl', 'lbicrw', 'mgprob',\n",
        "          'rebimg', 'wcrsrt']\n",
        "print(output[pred])"
      ],
      "metadata": {
        "colab": {
          "base_uri": "https://localhost:8080/"
        },
        "id": "N8vV9x6NJw3j",
        "outputId": "19661394-1314-4518-cef3-6bfadaeefe23"
      },
      "execution_count": null,
      "outputs": [
        {
          "output_type": "stream",
          "name": "stdout",
          "text": [
            "1/1 [==============================] - 0s 21ms/step\n",
            "4\n",
            "cmnmyn\n"
          ]
        }
      ]
    },
    {
      "cell_type": "markdown",
      "source": [
        "## **Transfer Learning**"
      ],
      "metadata": {
        "id": "HKxPa-5VK108"
      }
    },
    {
      "cell_type": "code",
      "source": [
        "from tensorflow.keras.layers import Dense,Flatten,Input\n",
        "from tensorflow.keras.models import Model\n",
        "from tensorflow.keras.preprocessing import image\n",
        "from tensorflow.keras.preprocessing.image import ImageDataGenerator, load_img\n",
        "import numpy as np"
      ],
      "metadata": {
        "id": "4u4qI2zdLLCN"
      },
      "execution_count": null,
      "outputs": []
    },
    {
      "cell_type": "code",
      "source": [
        "train_path = \"/content/train_data/train_data\"\n",
        "test_path = \"/content/test_data/test_data\""
      ],
      "metadata": {
        "id": "sEipT0acLK6S"
      },
      "execution_count": null,
      "outputs": []
    },
    {
      "cell_type": "code",
      "source": [
        "train_gen = ImageDataGenerator(rescale=1./255,\n",
        "                               shear_range=0.2,\n",
        "                               zoom_range=0.2,\n",
        "                               horizontal_flip=True)\n",
        "\n",
        "test_gen = ImageDataGenerator(rescale=1./255) "
      ],
      "metadata": {
        "id": "rAYoMp9mLKyd"
      },
      "execution_count": null,
      "outputs": []
    },
    {
      "cell_type": "code",
      "source": [
        "train = train_gen.flow_from_directory(train_path,\n",
        "                                      target_size=(224,224),\n",
        "                                      batch_size=22,\n",
        "                                      class_mode='categorical')\n",
        "\n",
        "test = test_gen.flow_from_directory(test_path,\n",
        "                                      target_size=(224,224),\n",
        "                                      batch_size=22,\n",
        "                                      class_mode='categorical')"
      ],
      "metadata": {
        "colab": {
          "base_uri": "https://localhost:8080/"
        },
        "id": "cbcNnP9rLKny",
        "outputId": "a1386264-6a87-4a6a-fa23-8b7f120c9586"
      },
      "execution_count": null,
      "outputs": [
        {
          "output_type": "stream",
          "name": "stdout",
          "text": [
            "Found 150 images belonging to 16 classes.\n",
            "Found 157 images belonging to 16 classes.\n"
          ]
        }
      ]
    },
    {
      "cell_type": "markdown",
      "source": [
        "**VGG**"
      ],
      "metadata": {
        "id": "mh2ZzMtsK9Mx"
      }
    },
    {
      "cell_type": "code",
      "source": [
        "from tensorflow.keras.applications.vgg16 import VGG16, preprocess_input"
      ],
      "metadata": {
        "id": "HyhQ145KLKcZ"
      },
      "execution_count": null,
      "outputs": []
    },
    {
      "cell_type": "code",
      "source": [
        "# Adding the preprocessing layer to the front of vgg\n",
        "\n",
        "vgg = VGG16(include_top=False,weights='imagenet',input_shape=(224,224,3))"
      ],
      "metadata": {
        "colab": {
          "base_uri": "https://localhost:8080/"
        },
        "id": "zpfQzJ8tg3-b",
        "outputId": "70019701-06ac-4c3c-9f0e-3801c058f184"
      },
      "execution_count": null,
      "outputs": [
        {
          "output_type": "stream",
          "name": "stdout",
          "text": [
            "Downloading data from https://storage.googleapis.com/tensorflow/keras-applications/vgg16/vgg16_weights_tf_dim_ordering_tf_kernels_notop.h5\n",
            "58889256/58889256 [==============================] - 1s 0us/step\n"
          ]
        }
      ]
    },
    {
      "cell_type": "code",
      "source": [
        "# Train model with existing weights\n",
        "\n",
        "for layer in vgg.layers:\n",
        "  print(layer)"
      ],
      "metadata": {
        "colab": {
          "base_uri": "https://localhost:8080/"
        },
        "id": "FyLxEhJ6g9ox",
        "outputId": "985c6276-39ff-427a-a349-039ead9ad07d"
      },
      "execution_count": null,
      "outputs": [
        {
          "output_type": "stream",
          "name": "stdout",
          "text": [
            "<keras.engine.input_layer.InputLayer object at 0x7fe2462e0820>\n",
            "<keras.layers.convolutional.conv2d.Conv2D object at 0x7fe2462e0340>\n",
            "<keras.layers.convolutional.conv2d.Conv2D object at 0x7fe2462e03a0>\n",
            "<keras.layers.pooling.max_pooling2d.MaxPooling2D object at 0x7fe2462e22c0>\n",
            "<keras.layers.convolutional.conv2d.Conv2D object at 0x7fe2462e16c0>\n",
            "<keras.layers.convolutional.conv2d.Conv2D object at 0x7fe2462e23b0>\n",
            "<keras.layers.pooling.max_pooling2d.MaxPooling2D object at 0x7fe2ce144550>\n",
            "<keras.layers.convolutional.conv2d.Conv2D object at 0x7fe2ce145a50>\n",
            "<keras.layers.convolutional.conv2d.Conv2D object at 0x7fe2462e3820>\n",
            "<keras.layers.convolutional.conv2d.Conv2D object at 0x7fe2d4150190>\n",
            "<keras.layers.pooling.max_pooling2d.MaxPooling2D object at 0x7fe2d49b5750>\n",
            "<keras.layers.convolutional.conv2d.Conv2D object at 0x7fe2d4153220>\n",
            "<keras.layers.convolutional.conv2d.Conv2D object at 0x7fe246472920>\n",
            "<keras.layers.convolutional.conv2d.Conv2D object at 0x7fe2465bb940>\n",
            "<keras.layers.pooling.max_pooling2d.MaxPooling2D object at 0x7fe24647ff40>\n",
            "<keras.layers.convolutional.conv2d.Conv2D object at 0x7fe2cc657460>\n",
            "<keras.layers.convolutional.conv2d.Conv2D object at 0x7fe2462e1c90>\n",
            "<keras.layers.convolutional.conv2d.Conv2D object at 0x7fe2462e2ad0>\n",
            "<keras.layers.pooling.max_pooling2d.MaxPooling2D object at 0x7fe2464bf1c0>\n"
          ]
        }
      ]
    },
    {
      "cell_type": "code",
      "source": [
        "# Train model with existing weights\n",
        "\n",
        "for layer in vgg.layers:\n",
        "  layer.trainable=False"
      ],
      "metadata": {
        "id": "g4H0wENlhCo_"
      },
      "execution_count": null,
      "outputs": []
    },
    {
      "cell_type": "code",
      "source": [
        "x = Flatten()(vgg.output)"
      ],
      "metadata": {
        "id": "C3NgI653hGxm"
      },
      "execution_count": null,
      "outputs": []
    },
    {
      "cell_type": "code",
      "source": [
        "# output layer\n",
        "\n",
        "prediction = Dense(16,activation='softmax')(x)"
      ],
      "metadata": {
        "id": "hNzuOPIMhIzz"
      },
      "execution_count": null,
      "outputs": []
    },
    {
      "cell_type": "code",
      "source": [
        "# Create Vgg16 model\n",
        "\n",
        "model = Model(inputs=vgg.input,outputs=prediction)"
      ],
      "metadata": {
        "id": "ZOz-fDLShLNA"
      },
      "execution_count": null,
      "outputs": []
    },
    {
      "cell_type": "code",
      "source": [
        "model.summary()"
      ],
      "metadata": {
        "colab": {
          "base_uri": "https://localhost:8080/"
        },
        "id": "Bi2TIAo8hPWJ",
        "outputId": "557cbf18-b830-4272-c076-1b5ce1acd09c"
      },
      "execution_count": null,
      "outputs": [
        {
          "output_type": "stream",
          "name": "stdout",
          "text": [
            "Model: \"model\"\n",
            "_________________________________________________________________\n",
            " Layer (type)                Output Shape              Param #   \n",
            "=================================================================\n",
            " input_1 (InputLayer)        [(None, 224, 224, 3)]     0         \n",
            "                                                                 \n",
            " block1_conv1 (Conv2D)       (None, 224, 224, 64)      1792      \n",
            "                                                                 \n",
            " block1_conv2 (Conv2D)       (None, 224, 224, 64)      36928     \n",
            "                                                                 \n",
            " block1_pool (MaxPooling2D)  (None, 112, 112, 64)      0         \n",
            "                                                                 \n",
            " block2_conv1 (Conv2D)       (None, 112, 112, 128)     73856     \n",
            "                                                                 \n",
            " block2_conv2 (Conv2D)       (None, 112, 112, 128)     147584    \n",
            "                                                                 \n",
            " block2_pool (MaxPooling2D)  (None, 56, 56, 128)       0         \n",
            "                                                                 \n",
            " block3_conv1 (Conv2D)       (None, 56, 56, 256)       295168    \n",
            "                                                                 \n",
            " block3_conv2 (Conv2D)       (None, 56, 56, 256)       590080    \n",
            "                                                                 \n",
            " block3_conv3 (Conv2D)       (None, 56, 56, 256)       590080    \n",
            "                                                                 \n",
            " block3_pool (MaxPooling2D)  (None, 28, 28, 256)       0         \n",
            "                                                                 \n",
            " block4_conv1 (Conv2D)       (None, 28, 28, 512)       1180160   \n",
            "                                                                 \n",
            " block4_conv2 (Conv2D)       (None, 28, 28, 512)       2359808   \n",
            "                                                                 \n",
            " block4_conv3 (Conv2D)       (None, 28, 28, 512)       2359808   \n",
            "                                                                 \n",
            " block4_pool (MaxPooling2D)  (None, 14, 14, 512)       0         \n",
            "                                                                 \n",
            " block5_conv1 (Conv2D)       (None, 14, 14, 512)       2359808   \n",
            "                                                                 \n",
            " block5_conv2 (Conv2D)       (None, 14, 14, 512)       2359808   \n",
            "                                                                 \n",
            " block5_conv3 (Conv2D)       (None, 14, 14, 512)       2359808   \n",
            "                                                                 \n",
            " block5_pool (MaxPooling2D)  (None, 7, 7, 512)         0         \n",
            "                                                                 \n",
            " flatten_6 (Flatten)         (None, 25088)             0         \n",
            "                                                                 \n",
            " dense_19 (Dense)            (None, 16)                401424    \n",
            "                                                                 \n",
            "=================================================================\n",
            "Total params: 15,116,112\n",
            "Trainable params: 401,424\n",
            "Non-trainable params: 14,714,688\n",
            "_________________________________________________________________\n"
          ]
        }
      ]
    },
    {
      "cell_type": "code",
      "source": [
        "model.compile(loss='categorical_crossentropy',optimizer='adam',metrics=['accuracy'])"
      ],
      "metadata": {
        "id": "zXZxW3XQhR1D"
      },
      "execution_count": null,
      "outputs": []
    },
    {
      "cell_type": "code",
      "source": [
        "model.fit_generator(train, validation_data=test, epochs=15, steps_per_epoch=len(train), validation_steps=len(test))"
      ],
      "metadata": {
        "colab": {
          "base_uri": "https://localhost:8080/"
        },
        "id": "Wrudr-5nhWsa",
        "outputId": "51db95f5-326d-4a7c-d19b-b786b5cad1ae"
      },
      "execution_count": null,
      "outputs": [
        {
          "output_type": "stream",
          "name": "stderr",
          "text": [
            "<ipython-input-84-774eaf6ecc77>:1: UserWarning: `Model.fit_generator` is deprecated and will be removed in a future version. Please use `Model.fit`, which supports generators.\n",
            "  model.fit_generator(train, validation_data=test, epochs=15, steps_per_epoch=len(train), validation_steps=len(test))\n"
          ]
        },
        {
          "output_type": "stream",
          "name": "stdout",
          "text": [
            "Epoch 1/15\n",
            "7/7 [==============================] - 130s 20s/step - loss: 2.0593 - accuracy: 0.4067 - val_loss: 2.6572 - val_accuracy: 0.2675\n",
            "Epoch 2/15\n",
            "7/7 [==============================] - 123s 20s/step - loss: 0.9399 - accuracy: 0.6933 - val_loss: 2.7690 - val_accuracy: 0.3439\n",
            "Epoch 3/15\n",
            "7/7 [==============================] - 122s 20s/step - loss: 0.6091 - accuracy: 0.8067 - val_loss: 2.6640 - val_accuracy: 0.3694\n",
            "Epoch 4/15\n",
            "7/7 [==============================] - 93s 15s/step - loss: 0.3365 - accuracy: 0.9200 - val_loss: 2.7857 - val_accuracy: 0.3694\n",
            "Epoch 5/15\n",
            "7/7 [==============================] - 91s 14s/step - loss: 0.2623 - accuracy: 0.9200 - val_loss: 2.7580 - val_accuracy: 0.3503\n",
            "Epoch 6/15\n",
            "7/7 [==============================] - 121s 19s/step - loss: 0.1940 - accuracy: 0.9467 - val_loss: 2.6352 - val_accuracy: 0.4076\n",
            "Epoch 7/15\n",
            "7/7 [==============================] - 122s 19s/step - loss: 0.1713 - accuracy: 0.9600 - val_loss: 2.8743 - val_accuracy: 0.3949\n",
            "Epoch 8/15\n",
            "7/7 [==============================] - 92s 15s/step - loss: 0.0977 - accuracy: 0.9867 - val_loss: 2.8521 - val_accuracy: 0.3949\n",
            "Epoch 9/15\n",
            "7/7 [==============================] - 90s 14s/step - loss: 0.0922 - accuracy: 0.9867 - val_loss: 2.8766 - val_accuracy: 0.4140\n",
            "Epoch 10/15\n",
            "7/7 [==============================] - 92s 14s/step - loss: 0.0737 - accuracy: 0.9933 - val_loss: 2.8546 - val_accuracy: 0.4204\n",
            "Epoch 11/15\n",
            "7/7 [==============================] - 90s 14s/step - loss: 0.0639 - accuracy: 0.9933 - val_loss: 2.8274 - val_accuracy: 0.4331\n",
            "Epoch 12/15\n",
            "7/7 [==============================] - 90s 14s/step - loss: 0.0503 - accuracy: 1.0000 - val_loss: 2.7927 - val_accuracy: 0.4331\n",
            "Epoch 13/15\n",
            "7/7 [==============================] - 88s 14s/step - loss: 0.0446 - accuracy: 1.0000 - val_loss: 2.8577 - val_accuracy: 0.4268\n",
            "Epoch 14/15\n",
            "7/7 [==============================] - 88s 14s/step - loss: 0.0386 - accuracy: 0.9933 - val_loss: 2.8623 - val_accuracy: 0.4140\n",
            "Epoch 15/15\n",
            "7/7 [==============================] - 91s 14s/step - loss: 0.0343 - accuracy: 1.0000 - val_loss: 2.8164 - val_accuracy: 0.4204\n"
          ]
        },
        {
          "output_type": "execute_result",
          "data": {
            "text/plain": [
              "<keras.callbacks.History at 0x7fe2464a2530>"
            ]
          },
          "metadata": {},
          "execution_count": 84
        }
      ]
    },
    {
      "cell_type": "code",
      "source": [
        "# Testing 1\n",
        "\n",
        "img1 = image.load_img('/content/Common_Myna.jpg',target_size=(224,224))\n",
        "img1 = image.img_to_array(img1)\n",
        "img1 = np.expand_dims(img1,axis=0)\n",
        "pred = np.argmax(model.predict(img1))\n",
        "print(pred)\n",
        "output = ['blasti', 'bonegl', 'brhkyt', 'cbrtsh', 'cmnmyn', 'gretit', 'hilpig', \n",
        "          'himbul', 'himgri', 'hsparo', 'indvul', 'jglowl', 'lbicrw', 'mgprob',\n",
        "          'rebimg', 'wcrsrt']\n",
        "print(output[pred])"
      ],
      "metadata": {
        "colab": {
          "base_uri": "https://localhost:8080/"
        },
        "id": "shBDjZklhxKI",
        "outputId": "c6cc7ef1-4343-478e-a152-ad0b72b63ca1"
      },
      "execution_count": null,
      "outputs": [
        {
          "output_type": "stream",
          "name": "stdout",
          "text": [
            "1/1 [==============================] - 1s 694ms/step\n",
            "4\n",
            "cmnmyn\n"
          ]
        }
      ]
    },
    {
      "cell_type": "code",
      "source": [
        "# Testing 2\n",
        "\n",
        "img1 = image.load_img('/content/Black_Kite.jpg',target_size=(224,224))\n",
        "img1 = image.img_to_array(img1)\n",
        "img1 = np.expand_dims(img1,axis=0)\n",
        "pred = np.argmax(model.predict(img1))\n",
        "print(pred)\n",
        "output = ['blasti', 'bonegl', 'brhkyt', 'cbrtsh', 'cmnmyn', 'gretit', 'hilpig', \n",
        "          'himbul', 'himgri', 'hsparo', 'indvul', 'jglowl', 'lbicrw', 'mgprob',\n",
        "          'rebimg', 'wcrsrt']\n",
        "print(output[pred])"
      ],
      "metadata": {
        "colab": {
          "base_uri": "https://localhost:8080/"
        },
        "id": "3BzI3lDFhxAo",
        "outputId": "6b7088e7-cc16-4532-eb93-1a2f15451ee5"
      },
      "execution_count": null,
      "outputs": [
        {
          "output_type": "stream",
          "name": "stdout",
          "text": [
            "1/1 [==============================] - 0s 20ms/step\n",
            "2\n",
            "brhkyt\n"
          ]
        }
      ]
    },
    {
      "cell_type": "code",
      "source": [
        "# Testing 3\n",
        "\n",
        "img1 = image.load_img('/content/Himalayan_Griffon.jpg',target_size=(224,224))\n",
        "img1 = image.img_to_array(img1)\n",
        "img1 = np.expand_dims(img1,axis=0)\n",
        "pred = np.argmax(model.predict(img1))\n",
        "print(pred)\n",
        "output = ['blasti', 'bonegl', 'brhkyt', 'cbrtsh', 'cmnmyn', 'gretit', 'hilpig', \n",
        "          'himbul', 'himgri', 'hsparo', 'indvul', 'jglowl', 'lbicrw', 'mgprob',\n",
        "          'rebimg', 'wcrsrt']\n",
        "print(output[pred])"
      ],
      "metadata": {
        "colab": {
          "base_uri": "https://localhost:8080/"
        },
        "id": "gRTHjQDshwzS",
        "outputId": "935a52ce-7bec-4420-f0b3-3116dd97fd36"
      },
      "execution_count": null,
      "outputs": [
        {
          "output_type": "stream",
          "name": "stdout",
          "text": [
            "1/1 [==============================] - 0s 19ms/step\n",
            "8\n",
            "himgri\n"
          ]
        }
      ]
    },
    {
      "cell_type": "code",
      "source": [
        "# Testing 4\n",
        "\n",
        "img1 = image.load_img('/content/Jungle_Owlet.jpg',target_size=(224,224))\n",
        "img1 = image.img_to_array(img1)\n",
        "img1 = np.expand_dims(img1,axis=0)\n",
        "pred = np.argmax(model.predict(img1))\n",
        "print(pred)\n",
        "output = ['blasti', 'bonegl', 'brhkyt', 'cbrtsh', 'cmnmyn', 'gretit', 'hilpig', \n",
        "          'himbul', 'himgri', 'hsparo', 'indvul', 'jglowl', 'lbicrw', 'mgprob',\n",
        "          'rebimg', 'wcrsrt']\n",
        "print(output[pred])"
      ],
      "metadata": {
        "colab": {
          "base_uri": "https://localhost:8080/"
        },
        "id": "SIB-eBKFhfhC",
        "outputId": "a16c088c-920a-411a-d267-920241aa6758"
      },
      "execution_count": null,
      "outputs": [
        {
          "output_type": "stream",
          "name": "stdout",
          "text": [
            "1/1 [==============================] - 0s 18ms/step\n",
            "13\n",
            "mgprob\n"
          ]
        }
      ]
    },
    {
      "cell_type": "markdown",
      "source": [
        "**ResNet50**"
      ],
      "metadata": {
        "id": "y-W2igBNhyPr"
      }
    },
    {
      "cell_type": "code",
      "source": [
        "from tensorflow.keras.applications.resnet50 import ResNet50"
      ],
      "metadata": {
        "id": "_cHmhLFqh1nb"
      },
      "execution_count": null,
      "outputs": []
    },
    {
      "cell_type": "code",
      "source": [
        "resnet = ResNet50(include_top=False,input_shape=(224,224,3))"
      ],
      "metadata": {
        "colab": {
          "base_uri": "https://localhost:8080/"
        },
        "id": "9AQLyo_ah1dn",
        "outputId": "2afb527e-1b15-4818-f7ed-3dc84510920d"
      },
      "execution_count": null,
      "outputs": [
        {
          "output_type": "stream",
          "name": "stdout",
          "text": [
            "Downloading data from https://storage.googleapis.com/tensorflow/keras-applications/resnet/resnet50_weights_tf_dim_ordering_tf_kernels_notop.h5\n",
            "94765736/94765736 [==============================] - 0s 0us/step\n"
          ]
        }
      ]
    },
    {
      "cell_type": "code",
      "source": [
        "for layer in resnet.layers:\n",
        "  layer.trainable=False"
      ],
      "metadata": {
        "id": "iU3BaTCrh1S0"
      },
      "execution_count": null,
      "outputs": []
    },
    {
      "cell_type": "code",
      "source": [
        "for layer in resnet.layers:\n",
        "  print(layer)"
      ],
      "metadata": {
        "colab": {
          "base_uri": "https://localhost:8080/"
        },
        "id": "jrx6svjvh1Ia",
        "outputId": "11c67a4d-6089-4b0b-80e2-a68c33b711f3"
      },
      "execution_count": null,
      "outputs": [
        {
          "output_type": "stream",
          "name": "stdout",
          "text": [
            "<keras.engine.input_layer.InputLayer object at 0x7fe23afca7d0>\n",
            "<keras.layers.reshaping.zero_padding2d.ZeroPadding2D object at 0x7fe2461a3220>\n",
            "<keras.layers.convolutional.conv2d.Conv2D object at 0x7fe2d8d87880>\n",
            "<keras.layers.normalization.batch_normalization.BatchNormalization object at 0x7fe24613a200>\n",
            "<keras.layers.core.activation.Activation object at 0x7fe246139ae0>\n",
            "<keras.layers.reshaping.zero_padding2d.ZeroPadding2D object at 0x7fe2461aed10>\n",
            "<keras.layers.pooling.max_pooling2d.MaxPooling2D object at 0x7fe24628c340>\n",
            "<keras.layers.convolutional.conv2d.Conv2D object at 0x7fe24628fa30>\n",
            "<keras.layers.normalization.batch_normalization.BatchNormalization object at 0x7fe24628c370>\n",
            "<keras.layers.core.activation.Activation object at 0x7fe24628cc40>\n",
            "<keras.layers.convolutional.conv2d.Conv2D object at 0x7fe24628fc70>\n",
            "<keras.layers.normalization.batch_normalization.BatchNormalization object at 0x7fe246205e40>\n",
            "<keras.layers.core.activation.Activation object at 0x7fe246206110>\n",
            "<keras.layers.convolutional.conv2d.Conv2D object at 0x7fe2d8d2bbb0>\n",
            "<keras.layers.convolutional.conv2d.Conv2D object at 0x7fe246206a70>\n",
            "<keras.layers.normalization.batch_normalization.BatchNormalization object at 0x7fe24628f1c0>\n",
            "<keras.layers.normalization.batch_normalization.BatchNormalization object at 0x7fe246207af0>\n",
            "<keras.layers.merging.add.Add object at 0x7fe246206b30>\n",
            "<keras.layers.core.activation.Activation object at 0x7fe246207580>\n",
            "<keras.layers.convolutional.conv2d.Conv2D object at 0x7fe2462062c0>\n",
            "<keras.layers.normalization.batch_normalization.BatchNormalization object at 0x7fe246205840>\n",
            "<keras.layers.core.activation.Activation object at 0x7fe2464a1180>\n",
            "<keras.layers.convolutional.conv2d.Conv2D object at 0x7fe24628e2f0>\n",
            "<keras.layers.normalization.batch_normalization.BatchNormalization object at 0x7fe23af1e530>\n",
            "<keras.layers.core.activation.Activation object at 0x7fe246206770>\n",
            "<keras.layers.convolutional.conv2d.Conv2D object at 0x7fe246207df0>\n",
            "<keras.layers.normalization.batch_normalization.BatchNormalization object at 0x7fe2461ae5c0>\n",
            "<keras.layers.merging.add.Add object at 0x7fe246139e10>\n",
            "<keras.layers.core.activation.Activation object at 0x7fe2461ae320>\n",
            "<keras.layers.convolutional.conv2d.Conv2D object at 0x7fe2461ad390>\n",
            "<keras.layers.normalization.batch_normalization.BatchNormalization object at 0x7fe2461ad420>\n",
            "<keras.layers.core.activation.Activation object at 0x7fe2461ac040>\n",
            "<keras.layers.convolutional.conv2d.Conv2D object at 0x7fe2461a3940>\n",
            "<keras.layers.normalization.batch_normalization.BatchNormalization object at 0x7fe2461aed70>\n",
            "<keras.layers.core.activation.Activation object at 0x7fe2461a00a0>\n",
            "<keras.layers.convolutional.conv2d.Conv2D object at 0x7fe2461a11b0>\n",
            "<keras.layers.normalization.batch_normalization.BatchNormalization object at 0x7fe2461a0670>\n",
            "<keras.layers.merging.add.Add object at 0x7fe2461a1420>\n",
            "<keras.layers.core.activation.Activation object at 0x7fe24616e380>\n",
            "<keras.layers.convolutional.conv2d.Conv2D object at 0x7fe24616c8b0>\n",
            "<keras.layers.normalization.batch_normalization.BatchNormalization object at 0x7fe24616c6a0>\n",
            "<keras.layers.core.activation.Activation object at 0x7fe24616e290>\n",
            "<keras.layers.convolutional.conv2d.Conv2D object at 0x7fe24616d600>\n",
            "<keras.layers.normalization.batch_normalization.BatchNormalization object at 0x7fe2460e8cd0>\n",
            "<keras.layers.core.activation.Activation object at 0x7fe2460ebd00>\n",
            "<keras.layers.convolutional.conv2d.Conv2D object at 0x7fe24616d120>\n",
            "<keras.layers.convolutional.conv2d.Conv2D object at 0x7fe2460eb2e0>\n",
            "<keras.layers.normalization.batch_normalization.BatchNormalization object at 0x7fe24616c220>\n",
            "<keras.layers.normalization.batch_normalization.BatchNormalization object at 0x7fe2460eb640>\n",
            "<keras.layers.merging.add.Add object at 0x7fe2460ea830>\n",
            "<keras.layers.core.activation.Activation object at 0x7fe24624d060>\n",
            "<keras.layers.convolutional.conv2d.Conv2D object at 0x7fe24624d150>\n",
            "<keras.layers.normalization.batch_normalization.BatchNormalization object at 0x7fe24624f760>\n",
            "<keras.layers.core.activation.Activation object at 0x7fe24624f0d0>\n",
            "<keras.layers.convolutional.conv2d.Conv2D object at 0x7fe24624ffa0>\n",
            "<keras.layers.normalization.batch_normalization.BatchNormalization object at 0x7fe24624dcc0>\n",
            "<keras.layers.core.activation.Activation object at 0x7fe24624fd30>\n",
            "<keras.layers.convolutional.conv2d.Conv2D object at 0x7fe24624ead0>\n",
            "<keras.layers.normalization.batch_normalization.BatchNormalization object at 0x7fe24624c4c0>\n",
            "<keras.layers.merging.add.Add object at 0x7fe24616ccd0>\n",
            "<keras.layers.core.activation.Activation object at 0x7fe2460e9810>\n",
            "<keras.layers.convolutional.conv2d.Conv2D object at 0x7fe24616c310>\n",
            "<keras.layers.normalization.batch_normalization.BatchNormalization object at 0x7fe2461a0d60>\n",
            "<keras.layers.core.activation.Activation object at 0x7fe24624d7e0>\n",
            "<keras.layers.convolutional.conv2d.Conv2D object at 0x7fe24616fbe0>\n",
            "<keras.layers.normalization.batch_normalization.BatchNormalization object at 0x7fe2461ac340>\n",
            "<keras.layers.core.activation.Activation object at 0x7fe24616fca0>\n",
            "<keras.layers.convolutional.conv2d.Conv2D object at 0x7fe24613be80>\n",
            "<keras.layers.normalization.batch_normalization.BatchNormalization object at 0x7fe246260820>\n",
            "<keras.layers.merging.add.Add object at 0x7fe246302860>\n",
            "<keras.layers.core.activation.Activation object at 0x7fe246263e80>\n",
            "<keras.layers.convolutional.conv2d.Conv2D object at 0x7fe246263700>\n",
            "<keras.layers.normalization.batch_normalization.BatchNormalization object at 0x7fe246263490>\n",
            "<keras.layers.core.activation.Activation object at 0x7fe2462600d0>\n",
            "<keras.layers.convolutional.conv2d.Conv2D object at 0x7fe246263370>\n",
            "<keras.layers.normalization.batch_normalization.BatchNormalization object at 0x7fe24626e680>\n",
            "<keras.layers.core.activation.Activation object at 0x7fe24626f0d0>\n",
            "<keras.layers.convolutional.conv2d.Conv2D object at 0x7fe24626f2b0>\n",
            "<keras.layers.normalization.batch_normalization.BatchNormalization object at 0x7fe24626e320>\n",
            "<keras.layers.merging.add.Add object at 0x7fe24626f370>\n",
            "<keras.layers.core.activation.Activation object at 0x7fe24626fb80>\n",
            "<keras.layers.convolutional.conv2d.Conv2D object at 0x7fe24626f460>\n",
            "<keras.layers.normalization.batch_normalization.BatchNormalization object at 0x7fe246287790>\n",
            "<keras.layers.core.activation.Activation object at 0x7fe246285ae0>\n",
            "<keras.layers.convolutional.conv2d.Conv2D object at 0x7fe2462862c0>\n",
            "<keras.layers.normalization.batch_normalization.BatchNormalization object at 0x7fe2462b9de0>\n",
            "<keras.layers.core.activation.Activation object at 0x7fe2462bb490>\n",
            "<keras.layers.convolutional.conv2d.Conv2D object at 0x7fe24626e2c0>\n",
            "<keras.layers.convolutional.conv2d.Conv2D object at 0x7fe2462ba770>\n",
            "<keras.layers.normalization.batch_normalization.BatchNormalization object at 0x7fe246286710>\n",
            "<keras.layers.normalization.batch_normalization.BatchNormalization object at 0x7fe2462bb1f0>\n",
            "<keras.layers.merging.add.Add object at 0x7fe2462ba8f0>\n",
            "<keras.layers.core.activation.Activation object at 0x7fe2462b8b50>\n",
            "<keras.layers.convolutional.conv2d.Conv2D object at 0x7fe2462c0340>\n",
            "<keras.layers.normalization.batch_normalization.BatchNormalization object at 0x7fe2462c1b40>\n",
            "<keras.layers.core.activation.Activation object at 0x7fe2462b87f0>\n",
            "<keras.layers.convolutional.conv2d.Conv2D object at 0x7fe2462b8430>\n",
            "<keras.layers.normalization.batch_normalization.BatchNormalization object at 0x7fe2462ba5c0>\n",
            "<keras.layers.core.activation.Activation object at 0x7fe246284c40>\n",
            "<keras.layers.convolutional.conv2d.Conv2D object at 0x7fe246284970>\n",
            "<keras.layers.normalization.batch_normalization.BatchNormalization object at 0x7fe246285b10>\n",
            "<keras.layers.merging.add.Add object at 0x7fe23afd2560>\n",
            "<keras.layers.core.activation.Activation object at 0x7fe246261d80>\n",
            "<keras.layers.convolutional.conv2d.Conv2D object at 0x7fe24626ece0>\n",
            "<keras.layers.normalization.batch_normalization.BatchNormalization object at 0x7fe2460e9870>\n",
            "<keras.layers.core.activation.Activation object at 0x7fe24626c3a0>\n",
            "<keras.layers.convolutional.conv2d.Conv2D object at 0x7fe24624d930>\n",
            "<keras.layers.normalization.batch_normalization.BatchNormalization object at 0x7fe246262f50>\n",
            "<keras.layers.core.activation.Activation object at 0x7fe2462c06a0>\n",
            "<keras.layers.convolutional.conv2d.Conv2D object at 0x7fe2462c39d0>\n",
            "<keras.layers.normalization.batch_normalization.BatchNormalization object at 0x7fe2462c0f10>\n",
            "<keras.layers.merging.add.Add object at 0x7fe2462c3a90>\n",
            "<keras.layers.core.activation.Activation object at 0x7fe2462c3eb0>\n",
            "<keras.layers.convolutional.conv2d.Conv2D object at 0x7fe2461b9f00>\n",
            "<keras.layers.normalization.batch_normalization.BatchNormalization object at 0x7fe2461bae90>\n",
            "<keras.layers.core.activation.Activation object at 0x7fe2461bb1f0>\n",
            "<keras.layers.convolutional.conv2d.Conv2D object at 0x7fe2461bbac0>\n",
            "<keras.layers.normalization.batch_normalization.BatchNormalization object at 0x7fe2461ba200>\n",
            "<keras.layers.core.activation.Activation object at 0x7fe2461bbe50>\n",
            "<keras.layers.convolutional.conv2d.Conv2D object at 0x7fe23ae0cb20>\n",
            "<keras.layers.normalization.batch_normalization.BatchNormalization object at 0x7fe23ae0e3e0>\n",
            "<keras.layers.merging.add.Add object at 0x7fe2461bbc70>\n",
            "<keras.layers.core.activation.Activation object at 0x7fe23ae0f7c0>\n",
            "<keras.layers.convolutional.conv2d.Conv2D object at 0x7fe23ae0f0d0>\n",
            "<keras.layers.normalization.batch_normalization.BatchNormalization object at 0x7fe23ae0fc70>\n",
            "<keras.layers.core.activation.Activation object at 0x7fe23ae0e140>\n",
            "<keras.layers.convolutional.conv2d.Conv2D object at 0x7fe23ae0e080>\n",
            "<keras.layers.normalization.batch_normalization.BatchNormalization object at 0x7fe23ae2a050>\n",
            "<keras.layers.core.activation.Activation object at 0x7fe23ae2aaa0>\n",
            "<keras.layers.convolutional.conv2d.Conv2D object at 0x7fe23ae2ac80>\n",
            "<keras.layers.normalization.batch_normalization.BatchNormalization object at 0x7fe23ae2bd00>\n",
            "<keras.layers.merging.add.Add object at 0x7fe23ae2ad40>\n",
            "<keras.layers.core.activation.Activation object at 0x7fe23ae2b550>\n",
            "<keras.layers.convolutional.conv2d.Conv2D object at 0x7fe23ae29300>\n",
            "<keras.layers.normalization.batch_normalization.BatchNormalization object at 0x7fe23ae4a110>\n",
            "<keras.layers.core.activation.Activation object at 0x7fe23ae2a6b0>\n",
            "<keras.layers.convolutional.conv2d.Conv2D object at 0x7fe23ae2ad10>\n",
            "<keras.layers.normalization.batch_normalization.BatchNormalization object at 0x7fe23ae2ba00>\n",
            "<keras.layers.core.activation.Activation object at 0x7fe23ae0ea10>\n",
            "<keras.layers.convolutional.conv2d.Conv2D object at 0x7fe23ae284c0>\n",
            "<keras.layers.normalization.batch_normalization.BatchNormalization object at 0x7fe2461b9090>\n",
            "<keras.layers.merging.add.Add object at 0x7fe2461a2830>\n",
            "<keras.layers.core.activation.Activation object at 0x7fe246263220>\n",
            "<keras.layers.convolutional.conv2d.Conv2D object at 0x7fe2462848b0>\n",
            "<keras.layers.normalization.batch_normalization.BatchNormalization object at 0x7fe23ae0cd90>\n",
            "<keras.layers.core.activation.Activation object at 0x7fe24626f430>\n",
            "<keras.layers.convolutional.conv2d.Conv2D object at 0x7fe23ae48580>\n",
            "<keras.layers.normalization.batch_normalization.BatchNormalization object at 0x7fe23ae4bac0>\n",
            "<keras.layers.core.activation.Activation object at 0x7fe23ae4baf0>\n",
            "<keras.layers.convolutional.conv2d.Conv2D object at 0x7fe2462c2a10>\n",
            "<keras.layers.convolutional.conv2d.Conv2D object at 0x7fe23ae5d450>\n",
            "<keras.layers.normalization.batch_normalization.BatchNormalization object at 0x7fe246287cd0>\n",
            "<keras.layers.normalization.batch_normalization.BatchNormalization object at 0x7fe23ae5ea70>\n",
            "<keras.layers.merging.add.Add object at 0x7fe23ae4b3d0>\n",
            "<keras.layers.core.activation.Activation object at 0x7fe23ae5d4b0>\n",
            "<keras.layers.convolutional.conv2d.Conv2D object at 0x7fe23ae5f010>\n",
            "<keras.layers.normalization.batch_normalization.BatchNormalization object at 0x7fe23ae5eef0>\n",
            "<keras.layers.core.activation.Activation object at 0x7fe23ae5d9c0>\n",
            "<keras.layers.convolutional.conv2d.Conv2D object at 0x7fe23ae79450>\n",
            "<keras.layers.normalization.batch_normalization.BatchNormalization object at 0x7fe23ae7a710>\n",
            "<keras.layers.core.activation.Activation object at 0x7fe23ae7bbb0>\n",
            "<keras.layers.convolutional.conv2d.Conv2D object at 0x7fe23ae7b340>\n",
            "<keras.layers.normalization.batch_normalization.BatchNormalization object at 0x7fe23ae7aef0>\n",
            "<keras.layers.merging.add.Add object at 0x7fe23ae7b400>\n",
            "<keras.layers.core.activation.Activation object at 0x7fe23ae7ba30>\n",
            "<keras.layers.convolutional.conv2d.Conv2D object at 0x7fe23ae91510>\n",
            "<keras.layers.normalization.batch_normalization.BatchNormalization object at 0x7fe23ae927d0>\n",
            "<keras.layers.core.activation.Activation object at 0x7fe23ae923b0>\n",
            "<keras.layers.convolutional.conv2d.Conv2D object at 0x7fe23ae93400>\n",
            "<keras.layers.normalization.batch_normalization.BatchNormalization object at 0x7fe23ae920e0>\n",
            "<keras.layers.core.activation.Activation object at 0x7fe23ae92500>\n",
            "<keras.layers.convolutional.conv2d.Conv2D object at 0x7fe23ae93850>\n",
            "<keras.layers.normalization.batch_normalization.BatchNormalization object at 0x7fe23aeb4f40>\n",
            "<keras.layers.merging.add.Add object at 0x7fe23ae93520>\n",
            "<keras.layers.core.activation.Activation object at 0x7fe23ae90d00>\n"
          ]
        }
      ]
    },
    {
      "cell_type": "code",
      "source": [
        "x = Flatten()(resnet.output)"
      ],
      "metadata": {
        "id": "ApHVLN4uh0eg"
      },
      "execution_count": null,
      "outputs": []
    },
    {
      "cell_type": "code",
      "source": [
        "out = Dense(16, activation='softmax')(x)"
      ],
      "metadata": {
        "id": "WQPbocoEh7cZ"
      },
      "execution_count": null,
      "outputs": []
    },
    {
      "cell_type": "code",
      "source": [
        "res_model = Model(inputs=resnet.input,outputs=out)"
      ],
      "metadata": {
        "id": "RvzbuBOAh7Sd"
      },
      "execution_count": null,
      "outputs": []
    },
    {
      "cell_type": "code",
      "source": [
        "res_model.summary()"
      ],
      "metadata": {
        "colab": {
          "base_uri": "https://localhost:8080/"
        },
        "id": "_gjrwCpLh7Ja",
        "outputId": "468e1061-a38d-4e10-e927-d92cce955286"
      },
      "execution_count": null,
      "outputs": [
        {
          "output_type": "stream",
          "name": "stdout",
          "text": [
            "Model: \"model_1\"\n",
            "__________________________________________________________________________________________________\n",
            " Layer (type)                   Output Shape         Param #     Connected to                     \n",
            "==================================================================================================\n",
            " input_2 (InputLayer)           [(None, 224, 224, 3  0           []                               \n",
            "                                )]                                                                \n",
            "                                                                                                  \n",
            " conv1_pad (ZeroPadding2D)      (None, 230, 230, 3)  0           ['input_2[0][0]']                \n",
            "                                                                                                  \n",
            " conv1_conv (Conv2D)            (None, 112, 112, 64  9472        ['conv1_pad[0][0]']              \n",
            "                                )                                                                 \n",
            "                                                                                                  \n",
            " conv1_bn (BatchNormalization)  (None, 112, 112, 64  256         ['conv1_conv[0][0]']             \n",
            "                                )                                                                 \n",
            "                                                                                                  \n",
            " conv1_relu (Activation)        (None, 112, 112, 64  0           ['conv1_bn[0][0]']               \n",
            "                                )                                                                 \n",
            "                                                                                                  \n",
            " pool1_pad (ZeroPadding2D)      (None, 114, 114, 64  0           ['conv1_relu[0][0]']             \n",
            "                                )                                                                 \n",
            "                                                                                                  \n",
            " pool1_pool (MaxPooling2D)      (None, 56, 56, 64)   0           ['pool1_pad[0][0]']              \n",
            "                                                                                                  \n",
            " conv2_block1_1_conv (Conv2D)   (None, 56, 56, 64)   4160        ['pool1_pool[0][0]']             \n",
            "                                                                                                  \n",
            " conv2_block1_1_bn (BatchNormal  (None, 56, 56, 64)  256         ['conv2_block1_1_conv[0][0]']    \n",
            " ization)                                                                                         \n",
            "                                                                                                  \n",
            " conv2_block1_1_relu (Activatio  (None, 56, 56, 64)  0           ['conv2_block1_1_bn[0][0]']      \n",
            " n)                                                                                               \n",
            "                                                                                                  \n",
            " conv2_block1_2_conv (Conv2D)   (None, 56, 56, 64)   36928       ['conv2_block1_1_relu[0][0]']    \n",
            "                                                                                                  \n",
            " conv2_block1_2_bn (BatchNormal  (None, 56, 56, 64)  256         ['conv2_block1_2_conv[0][0]']    \n",
            " ization)                                                                                         \n",
            "                                                                                                  \n",
            " conv2_block1_2_relu (Activatio  (None, 56, 56, 64)  0           ['conv2_block1_2_bn[0][0]']      \n",
            " n)                                                                                               \n",
            "                                                                                                  \n",
            " conv2_block1_0_conv (Conv2D)   (None, 56, 56, 256)  16640       ['pool1_pool[0][0]']             \n",
            "                                                                                                  \n",
            " conv2_block1_3_conv (Conv2D)   (None, 56, 56, 256)  16640       ['conv2_block1_2_relu[0][0]']    \n",
            "                                                                                                  \n",
            " conv2_block1_0_bn (BatchNormal  (None, 56, 56, 256)  1024       ['conv2_block1_0_conv[0][0]']    \n",
            " ization)                                                                                         \n",
            "                                                                                                  \n",
            " conv2_block1_3_bn (BatchNormal  (None, 56, 56, 256)  1024       ['conv2_block1_3_conv[0][0]']    \n",
            " ization)                                                                                         \n",
            "                                                                                                  \n",
            " conv2_block1_add (Add)         (None, 56, 56, 256)  0           ['conv2_block1_0_bn[0][0]',      \n",
            "                                                                  'conv2_block1_3_bn[0][0]']      \n",
            "                                                                                                  \n",
            " conv2_block1_out (Activation)  (None, 56, 56, 256)  0           ['conv2_block1_add[0][0]']       \n",
            "                                                                                                  \n",
            " conv2_block2_1_conv (Conv2D)   (None, 56, 56, 64)   16448       ['conv2_block1_out[0][0]']       \n",
            "                                                                                                  \n",
            " conv2_block2_1_bn (BatchNormal  (None, 56, 56, 64)  256         ['conv2_block2_1_conv[0][0]']    \n",
            " ization)                                                                                         \n",
            "                                                                                                  \n",
            " conv2_block2_1_relu (Activatio  (None, 56, 56, 64)  0           ['conv2_block2_1_bn[0][0]']      \n",
            " n)                                                                                               \n",
            "                                                                                                  \n",
            " conv2_block2_2_conv (Conv2D)   (None, 56, 56, 64)   36928       ['conv2_block2_1_relu[0][0]']    \n",
            "                                                                                                  \n",
            " conv2_block2_2_bn (BatchNormal  (None, 56, 56, 64)  256         ['conv2_block2_2_conv[0][0]']    \n",
            " ization)                                                                                         \n",
            "                                                                                                  \n",
            " conv2_block2_2_relu (Activatio  (None, 56, 56, 64)  0           ['conv2_block2_2_bn[0][0]']      \n",
            " n)                                                                                               \n",
            "                                                                                                  \n",
            " conv2_block2_3_conv (Conv2D)   (None, 56, 56, 256)  16640       ['conv2_block2_2_relu[0][0]']    \n",
            "                                                                                                  \n",
            " conv2_block2_3_bn (BatchNormal  (None, 56, 56, 256)  1024       ['conv2_block2_3_conv[0][0]']    \n",
            " ization)                                                                                         \n",
            "                                                                                                  \n",
            " conv2_block2_add (Add)         (None, 56, 56, 256)  0           ['conv2_block1_out[0][0]',       \n",
            "                                                                  'conv2_block2_3_bn[0][0]']      \n",
            "                                                                                                  \n",
            " conv2_block2_out (Activation)  (None, 56, 56, 256)  0           ['conv2_block2_add[0][0]']       \n",
            "                                                                                                  \n",
            " conv2_block3_1_conv (Conv2D)   (None, 56, 56, 64)   16448       ['conv2_block2_out[0][0]']       \n",
            "                                                                                                  \n",
            " conv2_block3_1_bn (BatchNormal  (None, 56, 56, 64)  256         ['conv2_block3_1_conv[0][0]']    \n",
            " ization)                                                                                         \n",
            "                                                                                                  \n",
            " conv2_block3_1_relu (Activatio  (None, 56, 56, 64)  0           ['conv2_block3_1_bn[0][0]']      \n",
            " n)                                                                                               \n",
            "                                                                                                  \n",
            " conv2_block3_2_conv (Conv2D)   (None, 56, 56, 64)   36928       ['conv2_block3_1_relu[0][0]']    \n",
            "                                                                                                  \n",
            " conv2_block3_2_bn (BatchNormal  (None, 56, 56, 64)  256         ['conv2_block3_2_conv[0][0]']    \n",
            " ization)                                                                                         \n",
            "                                                                                                  \n",
            " conv2_block3_2_relu (Activatio  (None, 56, 56, 64)  0           ['conv2_block3_2_bn[0][0]']      \n",
            " n)                                                                                               \n",
            "                                                                                                  \n",
            " conv2_block3_3_conv (Conv2D)   (None, 56, 56, 256)  16640       ['conv2_block3_2_relu[0][0]']    \n",
            "                                                                                                  \n",
            " conv2_block3_3_bn (BatchNormal  (None, 56, 56, 256)  1024       ['conv2_block3_3_conv[0][0]']    \n",
            " ization)                                                                                         \n",
            "                                                                                                  \n",
            " conv2_block3_add (Add)         (None, 56, 56, 256)  0           ['conv2_block2_out[0][0]',       \n",
            "                                                                  'conv2_block3_3_bn[0][0]']      \n",
            "                                                                                                  \n",
            " conv2_block3_out (Activation)  (None, 56, 56, 256)  0           ['conv2_block3_add[0][0]']       \n",
            "                                                                                                  \n",
            " conv3_block1_1_conv (Conv2D)   (None, 28, 28, 128)  32896       ['conv2_block3_out[0][0]']       \n",
            "                                                                                                  \n",
            " conv3_block1_1_bn (BatchNormal  (None, 28, 28, 128)  512        ['conv3_block1_1_conv[0][0]']    \n",
            " ization)                                                                                         \n",
            "                                                                                                  \n",
            " conv3_block1_1_relu (Activatio  (None, 28, 28, 128)  0          ['conv3_block1_1_bn[0][0]']      \n",
            " n)                                                                                               \n",
            "                                                                                                  \n",
            " conv3_block1_2_conv (Conv2D)   (None, 28, 28, 128)  147584      ['conv3_block1_1_relu[0][0]']    \n",
            "                                                                                                  \n",
            " conv3_block1_2_bn (BatchNormal  (None, 28, 28, 128)  512        ['conv3_block1_2_conv[0][0]']    \n",
            " ization)                                                                                         \n",
            "                                                                                                  \n",
            " conv3_block1_2_relu (Activatio  (None, 28, 28, 128)  0          ['conv3_block1_2_bn[0][0]']      \n",
            " n)                                                                                               \n",
            "                                                                                                  \n",
            " conv3_block1_0_conv (Conv2D)   (None, 28, 28, 512)  131584      ['conv2_block3_out[0][0]']       \n",
            "                                                                                                  \n",
            " conv3_block1_3_conv (Conv2D)   (None, 28, 28, 512)  66048       ['conv3_block1_2_relu[0][0]']    \n",
            "                                                                                                  \n",
            " conv3_block1_0_bn (BatchNormal  (None, 28, 28, 512)  2048       ['conv3_block1_0_conv[0][0]']    \n",
            " ization)                                                                                         \n",
            "                                                                                                  \n",
            " conv3_block1_3_bn (BatchNormal  (None, 28, 28, 512)  2048       ['conv3_block1_3_conv[0][0]']    \n",
            " ization)                                                                                         \n",
            "                                                                                                  \n",
            " conv3_block1_add (Add)         (None, 28, 28, 512)  0           ['conv3_block1_0_bn[0][0]',      \n",
            "                                                                  'conv3_block1_3_bn[0][0]']      \n",
            "                                                                                                  \n",
            " conv3_block1_out (Activation)  (None, 28, 28, 512)  0           ['conv3_block1_add[0][0]']       \n",
            "                                                                                                  \n",
            " conv3_block2_1_conv (Conv2D)   (None, 28, 28, 128)  65664       ['conv3_block1_out[0][0]']       \n",
            "                                                                                                  \n",
            " conv3_block2_1_bn (BatchNormal  (None, 28, 28, 128)  512        ['conv3_block2_1_conv[0][0]']    \n",
            " ization)                                                                                         \n",
            "                                                                                                  \n",
            " conv3_block2_1_relu (Activatio  (None, 28, 28, 128)  0          ['conv3_block2_1_bn[0][0]']      \n",
            " n)                                                                                               \n",
            "                                                                                                  \n",
            " conv3_block2_2_conv (Conv2D)   (None, 28, 28, 128)  147584      ['conv3_block2_1_relu[0][0]']    \n",
            "                                                                                                  \n",
            " conv3_block2_2_bn (BatchNormal  (None, 28, 28, 128)  512        ['conv3_block2_2_conv[0][0]']    \n",
            " ization)                                                                                         \n",
            "                                                                                                  \n",
            " conv3_block2_2_relu (Activatio  (None, 28, 28, 128)  0          ['conv3_block2_2_bn[0][0]']      \n",
            " n)                                                                                               \n",
            "                                                                                                  \n",
            " conv3_block2_3_conv (Conv2D)   (None, 28, 28, 512)  66048       ['conv3_block2_2_relu[0][0]']    \n",
            "                                                                                                  \n",
            " conv3_block2_3_bn (BatchNormal  (None, 28, 28, 512)  2048       ['conv3_block2_3_conv[0][0]']    \n",
            " ization)                                                                                         \n",
            "                                                                                                  \n",
            " conv3_block2_add (Add)         (None, 28, 28, 512)  0           ['conv3_block1_out[0][0]',       \n",
            "                                                                  'conv3_block2_3_bn[0][0]']      \n",
            "                                                                                                  \n",
            " conv3_block2_out (Activation)  (None, 28, 28, 512)  0           ['conv3_block2_add[0][0]']       \n",
            "                                                                                                  \n",
            " conv3_block3_1_conv (Conv2D)   (None, 28, 28, 128)  65664       ['conv3_block2_out[0][0]']       \n",
            "                                                                                                  \n",
            " conv3_block3_1_bn (BatchNormal  (None, 28, 28, 128)  512        ['conv3_block3_1_conv[0][0]']    \n",
            " ization)                                                                                         \n",
            "                                                                                                  \n",
            " conv3_block3_1_relu (Activatio  (None, 28, 28, 128)  0          ['conv3_block3_1_bn[0][0]']      \n",
            " n)                                                                                               \n",
            "                                                                                                  \n",
            " conv3_block3_2_conv (Conv2D)   (None, 28, 28, 128)  147584      ['conv3_block3_1_relu[0][0]']    \n",
            "                                                                                                  \n",
            " conv3_block3_2_bn (BatchNormal  (None, 28, 28, 128)  512        ['conv3_block3_2_conv[0][0]']    \n",
            " ization)                                                                                         \n",
            "                                                                                                  \n",
            " conv3_block3_2_relu (Activatio  (None, 28, 28, 128)  0          ['conv3_block3_2_bn[0][0]']      \n",
            " n)                                                                                               \n",
            "                                                                                                  \n",
            " conv3_block3_3_conv (Conv2D)   (None, 28, 28, 512)  66048       ['conv3_block3_2_relu[0][0]']    \n",
            "                                                                                                  \n",
            " conv3_block3_3_bn (BatchNormal  (None, 28, 28, 512)  2048       ['conv3_block3_3_conv[0][0]']    \n",
            " ization)                                                                                         \n",
            "                                                                                                  \n",
            " conv3_block3_add (Add)         (None, 28, 28, 512)  0           ['conv3_block2_out[0][0]',       \n",
            "                                                                  'conv3_block3_3_bn[0][0]']      \n",
            "                                                                                                  \n",
            " conv3_block3_out (Activation)  (None, 28, 28, 512)  0           ['conv3_block3_add[0][0]']       \n",
            "                                                                                                  \n",
            " conv3_block4_1_conv (Conv2D)   (None, 28, 28, 128)  65664       ['conv3_block3_out[0][0]']       \n",
            "                                                                                                  \n",
            " conv3_block4_1_bn (BatchNormal  (None, 28, 28, 128)  512        ['conv3_block4_1_conv[0][0]']    \n",
            " ization)                                                                                         \n",
            "                                                                                                  \n",
            " conv3_block4_1_relu (Activatio  (None, 28, 28, 128)  0          ['conv3_block4_1_bn[0][0]']      \n",
            " n)                                                                                               \n",
            "                                                                                                  \n",
            " conv3_block4_2_conv (Conv2D)   (None, 28, 28, 128)  147584      ['conv3_block4_1_relu[0][0]']    \n",
            "                                                                                                  \n",
            " conv3_block4_2_bn (BatchNormal  (None, 28, 28, 128)  512        ['conv3_block4_2_conv[0][0]']    \n",
            " ization)                                                                                         \n",
            "                                                                                                  \n",
            " conv3_block4_2_relu (Activatio  (None, 28, 28, 128)  0          ['conv3_block4_2_bn[0][0]']      \n",
            " n)                                                                                               \n",
            "                                                                                                  \n",
            " conv3_block4_3_conv (Conv2D)   (None, 28, 28, 512)  66048       ['conv3_block4_2_relu[0][0]']    \n",
            "                                                                                                  \n",
            " conv3_block4_3_bn (BatchNormal  (None, 28, 28, 512)  2048       ['conv3_block4_3_conv[0][0]']    \n",
            " ization)                                                                                         \n",
            "                                                                                                  \n",
            " conv3_block4_add (Add)         (None, 28, 28, 512)  0           ['conv3_block3_out[0][0]',       \n",
            "                                                                  'conv3_block4_3_bn[0][0]']      \n",
            "                                                                                                  \n",
            " conv3_block4_out (Activation)  (None, 28, 28, 512)  0           ['conv3_block4_add[0][0]']       \n",
            "                                                                                                  \n",
            " conv4_block1_1_conv (Conv2D)   (None, 14, 14, 256)  131328      ['conv3_block4_out[0][0]']       \n",
            "                                                                                                  \n",
            " conv4_block1_1_bn (BatchNormal  (None, 14, 14, 256)  1024       ['conv4_block1_1_conv[0][0]']    \n",
            " ization)                                                                                         \n",
            "                                                                                                  \n",
            " conv4_block1_1_relu (Activatio  (None, 14, 14, 256)  0          ['conv4_block1_1_bn[0][0]']      \n",
            " n)                                                                                               \n",
            "                                                                                                  \n",
            " conv4_block1_2_conv (Conv2D)   (None, 14, 14, 256)  590080      ['conv4_block1_1_relu[0][0]']    \n",
            "                                                                                                  \n",
            " conv4_block1_2_bn (BatchNormal  (None, 14, 14, 256)  1024       ['conv4_block1_2_conv[0][0]']    \n",
            " ization)                                                                                         \n",
            "                                                                                                  \n",
            " conv4_block1_2_relu (Activatio  (None, 14, 14, 256)  0          ['conv4_block1_2_bn[0][0]']      \n",
            " n)                                                                                               \n",
            "                                                                                                  \n",
            " conv4_block1_0_conv (Conv2D)   (None, 14, 14, 1024  525312      ['conv3_block4_out[0][0]']       \n",
            "                                )                                                                 \n",
            "                                                                                                  \n",
            " conv4_block1_3_conv (Conv2D)   (None, 14, 14, 1024  263168      ['conv4_block1_2_relu[0][0]']    \n",
            "                                )                                                                 \n",
            "                                                                                                  \n",
            " conv4_block1_0_bn (BatchNormal  (None, 14, 14, 1024  4096       ['conv4_block1_0_conv[0][0]']    \n",
            " ization)                       )                                                                 \n",
            "                                                                                                  \n",
            " conv4_block1_3_bn (BatchNormal  (None, 14, 14, 1024  4096       ['conv4_block1_3_conv[0][0]']    \n",
            " ization)                       )                                                                 \n",
            "                                                                                                  \n",
            " conv4_block1_add (Add)         (None, 14, 14, 1024  0           ['conv4_block1_0_bn[0][0]',      \n",
            "                                )                                 'conv4_block1_3_bn[0][0]']      \n",
            "                                                                                                  \n",
            " conv4_block1_out (Activation)  (None, 14, 14, 1024  0           ['conv4_block1_add[0][0]']       \n",
            "                                )                                                                 \n",
            "                                                                                                  \n",
            " conv4_block2_1_conv (Conv2D)   (None, 14, 14, 256)  262400      ['conv4_block1_out[0][0]']       \n",
            "                                                                                                  \n",
            " conv4_block2_1_bn (BatchNormal  (None, 14, 14, 256)  1024       ['conv4_block2_1_conv[0][0]']    \n",
            " ization)                                                                                         \n",
            "                                                                                                  \n",
            " conv4_block2_1_relu (Activatio  (None, 14, 14, 256)  0          ['conv4_block2_1_bn[0][0]']      \n",
            " n)                                                                                               \n",
            "                                                                                                  \n",
            " conv4_block2_2_conv (Conv2D)   (None, 14, 14, 256)  590080      ['conv4_block2_1_relu[0][0]']    \n",
            "                                                                                                  \n",
            " conv4_block2_2_bn (BatchNormal  (None, 14, 14, 256)  1024       ['conv4_block2_2_conv[0][0]']    \n",
            " ization)                                                                                         \n",
            "                                                                                                  \n",
            " conv4_block2_2_relu (Activatio  (None, 14, 14, 256)  0          ['conv4_block2_2_bn[0][0]']      \n",
            " n)                                                                                               \n",
            "                                                                                                  \n",
            " conv4_block2_3_conv (Conv2D)   (None, 14, 14, 1024  263168      ['conv4_block2_2_relu[0][0]']    \n",
            "                                )                                                                 \n",
            "                                                                                                  \n",
            " conv4_block2_3_bn (BatchNormal  (None, 14, 14, 1024  4096       ['conv4_block2_3_conv[0][0]']    \n",
            " ization)                       )                                                                 \n",
            "                                                                                                  \n",
            " conv4_block2_add (Add)         (None, 14, 14, 1024  0           ['conv4_block1_out[0][0]',       \n",
            "                                )                                 'conv4_block2_3_bn[0][0]']      \n",
            "                                                                                                  \n",
            " conv4_block2_out (Activation)  (None, 14, 14, 1024  0           ['conv4_block2_add[0][0]']       \n",
            "                                )                                                                 \n",
            "                                                                                                  \n",
            " conv4_block3_1_conv (Conv2D)   (None, 14, 14, 256)  262400      ['conv4_block2_out[0][0]']       \n",
            "                                                                                                  \n",
            " conv4_block3_1_bn (BatchNormal  (None, 14, 14, 256)  1024       ['conv4_block3_1_conv[0][0]']    \n",
            " ization)                                                                                         \n",
            "                                                                                                  \n",
            " conv4_block3_1_relu (Activatio  (None, 14, 14, 256)  0          ['conv4_block3_1_bn[0][0]']      \n",
            " n)                                                                                               \n",
            "                                                                                                  \n",
            " conv4_block3_2_conv (Conv2D)   (None, 14, 14, 256)  590080      ['conv4_block3_1_relu[0][0]']    \n",
            "                                                                                                  \n",
            " conv4_block3_2_bn (BatchNormal  (None, 14, 14, 256)  1024       ['conv4_block3_2_conv[0][0]']    \n",
            " ization)                                                                                         \n",
            "                                                                                                  \n",
            " conv4_block3_2_relu (Activatio  (None, 14, 14, 256)  0          ['conv4_block3_2_bn[0][0]']      \n",
            " n)                                                                                               \n",
            "                                                                                                  \n",
            " conv4_block3_3_conv (Conv2D)   (None, 14, 14, 1024  263168      ['conv4_block3_2_relu[0][0]']    \n",
            "                                )                                                                 \n",
            "                                                                                                  \n",
            " conv4_block3_3_bn (BatchNormal  (None, 14, 14, 1024  4096       ['conv4_block3_3_conv[0][0]']    \n",
            " ization)                       )                                                                 \n",
            "                                                                                                  \n",
            " conv4_block3_add (Add)         (None, 14, 14, 1024  0           ['conv4_block2_out[0][0]',       \n",
            "                                )                                 'conv4_block3_3_bn[0][0]']      \n",
            "                                                                                                  \n",
            " conv4_block3_out (Activation)  (None, 14, 14, 1024  0           ['conv4_block3_add[0][0]']       \n",
            "                                )                                                                 \n",
            "                                                                                                  \n",
            " conv4_block4_1_conv (Conv2D)   (None, 14, 14, 256)  262400      ['conv4_block3_out[0][0]']       \n",
            "                                                                                                  \n",
            " conv4_block4_1_bn (BatchNormal  (None, 14, 14, 256)  1024       ['conv4_block4_1_conv[0][0]']    \n",
            " ization)                                                                                         \n",
            "                                                                                                  \n",
            " conv4_block4_1_relu (Activatio  (None, 14, 14, 256)  0          ['conv4_block4_1_bn[0][0]']      \n",
            " n)                                                                                               \n",
            "                                                                                                  \n",
            " conv4_block4_2_conv (Conv2D)   (None, 14, 14, 256)  590080      ['conv4_block4_1_relu[0][0]']    \n",
            "                                                                                                  \n",
            " conv4_block4_2_bn (BatchNormal  (None, 14, 14, 256)  1024       ['conv4_block4_2_conv[0][0]']    \n",
            " ization)                                                                                         \n",
            "                                                                                                  \n",
            " conv4_block4_2_relu (Activatio  (None, 14, 14, 256)  0          ['conv4_block4_2_bn[0][0]']      \n",
            " n)                                                                                               \n",
            "                                                                                                  \n",
            " conv4_block4_3_conv (Conv2D)   (None, 14, 14, 1024  263168      ['conv4_block4_2_relu[0][0]']    \n",
            "                                )                                                                 \n",
            "                                                                                                  \n",
            " conv4_block4_3_bn (BatchNormal  (None, 14, 14, 1024  4096       ['conv4_block4_3_conv[0][0]']    \n",
            " ization)                       )                                                                 \n",
            "                                                                                                  \n",
            " conv4_block4_add (Add)         (None, 14, 14, 1024  0           ['conv4_block3_out[0][0]',       \n",
            "                                )                                 'conv4_block4_3_bn[0][0]']      \n",
            "                                                                                                  \n",
            " conv4_block4_out (Activation)  (None, 14, 14, 1024  0           ['conv4_block4_add[0][0]']       \n",
            "                                )                                                                 \n",
            "                                                                                                  \n",
            " conv4_block5_1_conv (Conv2D)   (None, 14, 14, 256)  262400      ['conv4_block4_out[0][0]']       \n",
            "                                                                                                  \n",
            " conv4_block5_1_bn (BatchNormal  (None, 14, 14, 256)  1024       ['conv4_block5_1_conv[0][0]']    \n",
            " ization)                                                                                         \n",
            "                                                                                                  \n",
            " conv4_block5_1_relu (Activatio  (None, 14, 14, 256)  0          ['conv4_block5_1_bn[0][0]']      \n",
            " n)                                                                                               \n",
            "                                                                                                  \n",
            " conv4_block5_2_conv (Conv2D)   (None, 14, 14, 256)  590080      ['conv4_block5_1_relu[0][0]']    \n",
            "                                                                                                  \n",
            " conv4_block5_2_bn (BatchNormal  (None, 14, 14, 256)  1024       ['conv4_block5_2_conv[0][0]']    \n",
            " ization)                                                                                         \n",
            "                                                                                                  \n",
            " conv4_block5_2_relu (Activatio  (None, 14, 14, 256)  0          ['conv4_block5_2_bn[0][0]']      \n",
            " n)                                                                                               \n",
            "                                                                                                  \n",
            " conv4_block5_3_conv (Conv2D)   (None, 14, 14, 1024  263168      ['conv4_block5_2_relu[0][0]']    \n",
            "                                )                                                                 \n",
            "                                                                                                  \n",
            " conv4_block5_3_bn (BatchNormal  (None, 14, 14, 1024  4096       ['conv4_block5_3_conv[0][0]']    \n",
            " ization)                       )                                                                 \n",
            "                                                                                                  \n",
            " conv4_block5_add (Add)         (None, 14, 14, 1024  0           ['conv4_block4_out[0][0]',       \n",
            "                                )                                 'conv4_block5_3_bn[0][0]']      \n",
            "                                                                                                  \n",
            " conv4_block5_out (Activation)  (None, 14, 14, 1024  0           ['conv4_block5_add[0][0]']       \n",
            "                                )                                                                 \n",
            "                                                                                                  \n",
            " conv4_block6_1_conv (Conv2D)   (None, 14, 14, 256)  262400      ['conv4_block5_out[0][0]']       \n",
            "                                                                                                  \n",
            " conv4_block6_1_bn (BatchNormal  (None, 14, 14, 256)  1024       ['conv4_block6_1_conv[0][0]']    \n",
            " ization)                                                                                         \n",
            "                                                                                                  \n",
            " conv4_block6_1_relu (Activatio  (None, 14, 14, 256)  0          ['conv4_block6_1_bn[0][0]']      \n",
            " n)                                                                                               \n",
            "                                                                                                  \n",
            " conv4_block6_2_conv (Conv2D)   (None, 14, 14, 256)  590080      ['conv4_block6_1_relu[0][0]']    \n",
            "                                                                                                  \n",
            " conv4_block6_2_bn (BatchNormal  (None, 14, 14, 256)  1024       ['conv4_block6_2_conv[0][0]']    \n",
            " ization)                                                                                         \n",
            "                                                                                                  \n",
            " conv4_block6_2_relu (Activatio  (None, 14, 14, 256)  0          ['conv4_block6_2_bn[0][0]']      \n",
            " n)                                                                                               \n",
            "                                                                                                  \n",
            " conv4_block6_3_conv (Conv2D)   (None, 14, 14, 1024  263168      ['conv4_block6_2_relu[0][0]']    \n",
            "                                )                                                                 \n",
            "                                                                                                  \n",
            " conv4_block6_3_bn (BatchNormal  (None, 14, 14, 1024  4096       ['conv4_block6_3_conv[0][0]']    \n",
            " ization)                       )                                                                 \n",
            "                                                                                                  \n",
            " conv4_block6_add (Add)         (None, 14, 14, 1024  0           ['conv4_block5_out[0][0]',       \n",
            "                                )                                 'conv4_block6_3_bn[0][0]']      \n",
            "                                                                                                  \n",
            " conv4_block6_out (Activation)  (None, 14, 14, 1024  0           ['conv4_block6_add[0][0]']       \n",
            "                                )                                                                 \n",
            "                                                                                                  \n",
            " conv5_block1_1_conv (Conv2D)   (None, 7, 7, 512)    524800      ['conv4_block6_out[0][0]']       \n",
            "                                                                                                  \n",
            " conv5_block1_1_bn (BatchNormal  (None, 7, 7, 512)   2048        ['conv5_block1_1_conv[0][0]']    \n",
            " ization)                                                                                         \n",
            "                                                                                                  \n",
            " conv5_block1_1_relu (Activatio  (None, 7, 7, 512)   0           ['conv5_block1_1_bn[0][0]']      \n",
            " n)                                                                                               \n",
            "                                                                                                  \n",
            " conv5_block1_2_conv (Conv2D)   (None, 7, 7, 512)    2359808     ['conv5_block1_1_relu[0][0]']    \n",
            "                                                                                                  \n",
            " conv5_block1_2_bn (BatchNormal  (None, 7, 7, 512)   2048        ['conv5_block1_2_conv[0][0]']    \n",
            " ization)                                                                                         \n",
            "                                                                                                  \n",
            " conv5_block1_2_relu (Activatio  (None, 7, 7, 512)   0           ['conv5_block1_2_bn[0][0]']      \n",
            " n)                                                                                               \n",
            "                                                                                                  \n",
            " conv5_block1_0_conv (Conv2D)   (None, 7, 7, 2048)   2099200     ['conv4_block6_out[0][0]']       \n",
            "                                                                                                  \n",
            " conv5_block1_3_conv (Conv2D)   (None, 7, 7, 2048)   1050624     ['conv5_block1_2_relu[0][0]']    \n",
            "                                                                                                  \n",
            " conv5_block1_0_bn (BatchNormal  (None, 7, 7, 2048)  8192        ['conv5_block1_0_conv[0][0]']    \n",
            " ization)                                                                                         \n",
            "                                                                                                  \n",
            " conv5_block1_3_bn (BatchNormal  (None, 7, 7, 2048)  8192        ['conv5_block1_3_conv[0][0]']    \n",
            " ization)                                                                                         \n",
            "                                                                                                  \n",
            " conv5_block1_add (Add)         (None, 7, 7, 2048)   0           ['conv5_block1_0_bn[0][0]',      \n",
            "                                                                  'conv5_block1_3_bn[0][0]']      \n",
            "                                                                                                  \n",
            " conv5_block1_out (Activation)  (None, 7, 7, 2048)   0           ['conv5_block1_add[0][0]']       \n",
            "                                                                                                  \n",
            " conv5_block2_1_conv (Conv2D)   (None, 7, 7, 512)    1049088     ['conv5_block1_out[0][0]']       \n",
            "                                                                                                  \n",
            " conv5_block2_1_bn (BatchNormal  (None, 7, 7, 512)   2048        ['conv5_block2_1_conv[0][0]']    \n",
            " ization)                                                                                         \n",
            "                                                                                                  \n",
            " conv5_block2_1_relu (Activatio  (None, 7, 7, 512)   0           ['conv5_block2_1_bn[0][0]']      \n",
            " n)                                                                                               \n",
            "                                                                                                  \n",
            " conv5_block2_2_conv (Conv2D)   (None, 7, 7, 512)    2359808     ['conv5_block2_1_relu[0][0]']    \n",
            "                                                                                                  \n",
            " conv5_block2_2_bn (BatchNormal  (None, 7, 7, 512)   2048        ['conv5_block2_2_conv[0][0]']    \n",
            " ization)                                                                                         \n",
            "                                                                                                  \n",
            " conv5_block2_2_relu (Activatio  (None, 7, 7, 512)   0           ['conv5_block2_2_bn[0][0]']      \n",
            " n)                                                                                               \n",
            "                                                                                                  \n",
            " conv5_block2_3_conv (Conv2D)   (None, 7, 7, 2048)   1050624     ['conv5_block2_2_relu[0][0]']    \n",
            "                                                                                                  \n",
            " conv5_block2_3_bn (BatchNormal  (None, 7, 7, 2048)  8192        ['conv5_block2_3_conv[0][0]']    \n",
            " ization)                                                                                         \n",
            "                                                                                                  \n",
            " conv5_block2_add (Add)         (None, 7, 7, 2048)   0           ['conv5_block1_out[0][0]',       \n",
            "                                                                  'conv5_block2_3_bn[0][0]']      \n",
            "                                                                                                  \n",
            " conv5_block2_out (Activation)  (None, 7, 7, 2048)   0           ['conv5_block2_add[0][0]']       \n",
            "                                                                                                  \n",
            " conv5_block3_1_conv (Conv2D)   (None, 7, 7, 512)    1049088     ['conv5_block2_out[0][0]']       \n",
            "                                                                                                  \n",
            " conv5_block3_1_bn (BatchNormal  (None, 7, 7, 512)   2048        ['conv5_block3_1_conv[0][0]']    \n",
            " ization)                                                                                         \n",
            "                                                                                                  \n",
            " conv5_block3_1_relu (Activatio  (None, 7, 7, 512)   0           ['conv5_block3_1_bn[0][0]']      \n",
            " n)                                                                                               \n",
            "                                                                                                  \n",
            " conv5_block3_2_conv (Conv2D)   (None, 7, 7, 512)    2359808     ['conv5_block3_1_relu[0][0]']    \n",
            "                                                                                                  \n",
            " conv5_block3_2_bn (BatchNormal  (None, 7, 7, 512)   2048        ['conv5_block3_2_conv[0][0]']    \n",
            " ization)                                                                                         \n",
            "                                                                                                  \n",
            " conv5_block3_2_relu (Activatio  (None, 7, 7, 512)   0           ['conv5_block3_2_bn[0][0]']      \n",
            " n)                                                                                               \n",
            "                                                                                                  \n",
            " conv5_block3_3_conv (Conv2D)   (None, 7, 7, 2048)   1050624     ['conv5_block3_2_relu[0][0]']    \n",
            "                                                                                                  \n",
            " conv5_block3_3_bn (BatchNormal  (None, 7, 7, 2048)  8192        ['conv5_block3_3_conv[0][0]']    \n",
            " ization)                                                                                         \n",
            "                                                                                                  \n",
            " conv5_block3_add (Add)         (None, 7, 7, 2048)   0           ['conv5_block2_out[0][0]',       \n",
            "                                                                  'conv5_block3_3_bn[0][0]']      \n",
            "                                                                                                  \n",
            " conv5_block3_out (Activation)  (None, 7, 7, 2048)   0           ['conv5_block3_add[0][0]']       \n",
            "                                                                                                  \n",
            " flatten_7 (Flatten)            (None, 100352)       0           ['conv5_block3_out[0][0]']       \n",
            "                                                                                                  \n",
            " dense_20 (Dense)               (None, 16)           1605648     ['flatten_7[0][0]']              \n",
            "                                                                                                  \n",
            "==================================================================================================\n",
            "Total params: 25,193,360\n",
            "Trainable params: 1,605,648\n",
            "Non-trainable params: 23,587,712\n",
            "__________________________________________________________________________________________________\n"
          ]
        }
      ]
    },
    {
      "cell_type": "code",
      "source": [
        "res_model.compile(loss='categorical_crossentropy',optimizer='adam',metrics=['accuracy'])"
      ],
      "metadata": {
        "id": "-d4mvB8Wh6-j"
      },
      "execution_count": null,
      "outputs": []
    },
    {
      "cell_type": "code",
      "source": [
        "res_model.fit(train, epochs=15, validation_data=test, steps_per_epoch=len(train), validation_steps=len(test))"
      ],
      "metadata": {
        "colab": {
          "base_uri": "https://localhost:8080/"
        },
        "id": "jLFeN_TYh62R",
        "outputId": "6979bd57-9d05-4032-e98b-2f3ec50fb817"
      },
      "execution_count": null,
      "outputs": [
        {
          "output_type": "stream",
          "name": "stdout",
          "text": [
            "Epoch 1/15\n",
            "7/7 [==============================] - 103s 16s/step - loss: 11.3252 - accuracy: 0.0733 - val_loss: 13.0898 - val_accuracy: 0.1338\n",
            "Epoch 2/15\n",
            "7/7 [==============================] - 89s 14s/step - loss: 13.1604 - accuracy: 0.0600 - val_loss: 13.6504 - val_accuracy: 0.0764\n",
            "Epoch 3/15\n",
            "7/7 [==============================] - 120s 19s/step - loss: 10.1237 - accuracy: 0.1533 - val_loss: 8.1786 - val_accuracy: 0.0382\n",
            "Epoch 4/15\n",
            "7/7 [==============================] - 121s 19s/step - loss: 5.3272 - accuracy: 0.1933 - val_loss: 6.7537 - val_accuracy: 0.1656\n",
            "Epoch 5/15\n",
            "7/7 [==============================] - 120s 19s/step - loss: 4.1264 - accuracy: 0.2333 - val_loss: 4.7712 - val_accuracy: 0.2420\n",
            "Epoch 6/15\n",
            "7/7 [==============================] - 90s 14s/step - loss: 2.9821 - accuracy: 0.2400 - val_loss: 4.1241 - val_accuracy: 0.1911\n",
            "Epoch 7/15\n",
            "7/7 [==============================] - 89s 14s/step - loss: 2.5394 - accuracy: 0.3000 - val_loss: 3.9142 - val_accuracy: 0.2293\n",
            "Epoch 8/15\n",
            "7/7 [==============================] - 90s 14s/step - loss: 2.2796 - accuracy: 0.3733 - val_loss: 3.8203 - val_accuracy: 0.2357\n",
            "Epoch 9/15\n",
            "7/7 [==============================] - 121s 19s/step - loss: 2.1537 - accuracy: 0.4067 - val_loss: 3.8060 - val_accuracy: 0.1465\n",
            "Epoch 10/15\n",
            "7/7 [==============================] - 90s 14s/step - loss: 2.0482 - accuracy: 0.4000 - val_loss: 3.5902 - val_accuracy: 0.2357\n",
            "Epoch 11/15\n",
            "7/7 [==============================] - 90s 14s/step - loss: 2.0292 - accuracy: 0.4067 - val_loss: 3.6377 - val_accuracy: 0.1975\n",
            "Epoch 12/15\n",
            "7/7 [==============================] - 88s 14s/step - loss: 1.9779 - accuracy: 0.4000 - val_loss: 4.0706 - val_accuracy: 0.2102\n",
            "Epoch 13/15\n",
            "7/7 [==============================] - 91s 14s/step - loss: 2.1845 - accuracy: 0.4800 - val_loss: 3.5994 - val_accuracy: 0.1783\n",
            "Epoch 14/15\n",
            "7/7 [==============================] - 89s 13s/step - loss: 1.8095 - accuracy: 0.4467 - val_loss: 3.5385 - val_accuracy: 0.2930\n",
            "Epoch 15/15\n",
            "7/7 [==============================] - 88s 14s/step - loss: 1.5715 - accuracy: 0.5067 - val_loss: 3.6584 - val_accuracy: 0.1783\n"
          ]
        },
        {
          "output_type": "execute_result",
          "data": {
            "text/plain": [
              "<keras.callbacks.History at 0x7fe24626f670>"
            ]
          },
          "metadata": {},
          "execution_count": 101
        }
      ]
    },
    {
      "cell_type": "code",
      "source": [
        "# Testing 1\n",
        "\n",
        "img1 = image.load_img('/content/Common_Myna.jpg',target_size=(224,224))\n",
        "img1 = image.img_to_array(img1)\n",
        "img1 = np.expand_dims(img1,axis=0)\n",
        "pred = np.argmax(res_model.predict(img1))\n",
        "print(pred)\n",
        "output = ['blasti', 'bonegl', 'brhkyt', 'cbrtsh', 'cmnmyn', 'gretit', 'hilpig', \n",
        "          'himbul', 'himgri', 'hsparo', 'indvul', 'jglowl', 'lbicrw', 'mgprob',\n",
        "          'rebimg', 'wcrsrt']\n",
        "print(output[pred])"
      ],
      "metadata": {
        "colab": {
          "base_uri": "https://localhost:8080/"
        },
        "id": "6rYZL9BMipKv",
        "outputId": "20e750c9-bb72-48a5-add4-16e9f27dfe2c"
      },
      "execution_count": null,
      "outputs": [
        {
          "output_type": "stream",
          "name": "stdout",
          "text": [
            "1/1 [==============================] - 2s 2s/step\n",
            "4\n",
            "cmnmyn\n"
          ]
        }
      ]
    },
    {
      "cell_type": "code",
      "source": [
        "# Testing 2\n",
        "\n",
        "img1 = image.load_img('/content/Black_Kite.jpg',target_size=(224,224))\n",
        "img1 = image.img_to_array(img1)\n",
        "img1 = np.expand_dims(img1,axis=0)\n",
        "pred = np.argmax(res_model.predict(img1))\n",
        "print(pred)\n",
        "output = ['blasti', 'bonegl', 'brhkyt', 'cbrtsh', 'cmnmyn', 'gretit', 'hilpig', \n",
        "          'himbul', 'himgri', 'hsparo', 'indvul', 'jglowl', 'lbicrw', 'mgprob',\n",
        "          'rebimg', 'wcrsrt']\n",
        "print(output[pred])"
      ],
      "metadata": {
        "colab": {
          "base_uri": "https://localhost:8080/"
        },
        "id": "Pj91NYOnipBs",
        "outputId": "57a6d44c-b7f3-403e-daa4-a69e679d3fb8"
      },
      "execution_count": null,
      "outputs": [
        {
          "output_type": "stream",
          "name": "stdout",
          "text": [
            "1/1 [==============================] - 0s 36ms/step\n",
            "7\n",
            "himbul\n"
          ]
        }
      ]
    },
    {
      "cell_type": "code",
      "source": [
        "# Testing 3\n",
        "\n",
        "img1 = image.load_img('/content/Himalayan_Griffon.jpg',target_size=(224,224))\n",
        "img1 = image.img_to_array(img1)\n",
        "img1 = np.expand_dims(img1,axis=0)\n",
        "pred = np.argmax(res_model.predict(img1))\n",
        "print(pred)\n",
        "output = ['blasti', 'bonegl', 'brhkyt', 'cbrtsh', 'cmnmyn', 'gretit', 'hilpig', \n",
        "          'himbul', 'himgri', 'hsparo', 'indvul', 'jglowl', 'lbicrw', 'mgprob',\n",
        "          'rebimg', 'wcrsrt']\n",
        "print(output[pred])"
      ],
      "metadata": {
        "colab": {
          "base_uri": "https://localhost:8080/"
        },
        "id": "qA8Gu6kMio4s",
        "outputId": "2c6784f9-5f7a-4de6-a4cf-14bb757cd7b3"
      },
      "execution_count": null,
      "outputs": [
        {
          "output_type": "stream",
          "name": "stdout",
          "text": [
            "1/1 [==============================] - 0s 26ms/step\n",
            "7\n",
            "himbul\n"
          ]
        }
      ]
    },
    {
      "cell_type": "code",
      "source": [
        "# Testing 4\n",
        "\n",
        "img1 = image.load_img('/content/Jungle_Owlet.jpg',target_size=(224,224))\n",
        "img1 = image.img_to_array(img1)\n",
        "img1 = np.expand_dims(img1,axis=0)\n",
        "pred = np.argmax(res_model.predict(img1))\n",
        "print(pred)\n",
        "output = ['blasti', 'bonegl', 'brhkyt', 'cbrtsh', 'cmnmyn', 'gretit', 'hilpig', \n",
        "          'himbul', 'himgri', 'hsparo', 'indvul', 'jglowl', 'lbicrw', 'mgprob',\n",
        "          'rebimg', 'wcrsrt']\n",
        "print(output[pred])"
      ],
      "metadata": {
        "colab": {
          "base_uri": "https://localhost:8080/"
        },
        "id": "LFD1y-Kiiotx",
        "outputId": "01962e5f-19ad-426d-a9c4-61943cc42bec"
      },
      "execution_count": null,
      "outputs": [
        {
          "output_type": "stream",
          "name": "stdout",
          "text": [
            "1/1 [==============================] - 0s 24ms/step\n",
            "4\n",
            "cmnmyn\n"
          ]
        }
      ]
    }
  ]
}